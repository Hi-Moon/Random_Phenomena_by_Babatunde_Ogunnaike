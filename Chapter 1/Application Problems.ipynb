{
 "cells": [
  {
   "cell_type": "code",
   "execution_count": 1,
   "metadata": {},
   "outputs": [],
   "source": [
    "bold = '\\033[1m' \n",
    "end = '\\033[0m'\n",
    "\n",
    "import pandas as pd\n",
    "import numpy as np\n",
    "from matplotlib import pyplot as plt\n",
    "from IPython.display import Image \n",
    "import math"
   ]
  },
  {
   "cell_type": "code",
   "execution_count": 2,
   "metadata": {},
   "outputs": [],
   "source": [
    "prob1_13 = pd.read_excel('Chapter1.xlsx', sheet_name='Prob1.13')\n",
    "prob1_15 = pd.read_excel('Chapter1.xlsx', sheet_name='Prob1.15')\n",
    "prob1_16 = pd.read_excel('Chapter1.xlsx', sheet_name='Prob1.16')\n",
    "prob1_17 = pd.read_excel('Chapter1.xlsx', sheet_name='Prob1.17')"
   ]
  },
  {
   "cell_type": "code",
   "execution_count": 3,
   "metadata": {},
   "outputs": [
    {
     "name": "stdout",
     "output_type": "stream",
     "text": [
      "   JanPapers\n",
      "0    19.1934\n",
      "1    15.0834\n",
      "2     9.5556\n",
      "3     4.2003\n",
      "4     5.4189\n",
      "(85, 1)\n"
     ]
    }
   ],
   "source": [
    "print(prob1_13.head())\n",
    "print(prob1_13.shape)"
   ]
  },
  {
   "cell_type": "code",
   "execution_count": 4,
   "metadata": {},
   "outputs": [
    {
     "name": "stdout",
     "output_type": "stream",
     "text": [
      "   SafetyIncidents\n",
      "0                1\n",
      "1                0\n",
      "2                0\n",
      "3                0\n",
      "4                2\n",
      "(48, 1)\n"
     ]
    }
   ],
   "source": [
    "print(prob1_15.head())\n",
    "print(prob1_15.shape)"
   ]
  },
  {
   "cell_type": "code",
   "execution_count": 5,
   "metadata": {},
   "outputs": [
    {
     "name": "stdout",
     "output_type": "stream",
     "text": [
      "   Before WT  After WT\n",
      "0        272       263\n",
      "1        319       313\n",
      "2        253       251\n",
      "3        325       312\n",
      "4        236       227\n",
      "(20, 2)\n"
     ]
    }
   ],
   "source": [
    "print(prob1_16.head())\n",
    "print(prob1_16.shape)"
   ]
  },
  {
   "cell_type": "code",
   "execution_count": 6,
   "metadata": {},
   "outputs": [
    {
     "name": "stdout",
     "output_type": "stream",
     "text": [
      "   x  yO  yY\n",
      "0  0  32   8\n",
      "1  1  41  25\n",
      "2  2  21  35\n",
      "3  3   5  23\n",
      "4  4   1   8\n",
      "(6, 3)\n"
     ]
    }
   ],
   "source": [
    "print(prob1_17.head())\n",
    "print(prob1_17.shape)"
   ]
  },
  {
   "cell_type": "code",
   "execution_count": null,
   "metadata": {},
   "outputs": [],
   "source": []
  },
  {
   "cell_type": "markdown",
   "metadata": {},
   "source": [
    "# `Application Problems`"
   ]
  },
  {
   "cell_type": "markdown",
   "metadata": {},
   "source": [
    "# Exercise 1.13"
   ]
  },
  {
   "cell_type": "markdown",
   "metadata": {},
   "source": [
    "The data set in the table below is the time (in months) from receipt to publication (sometimes known as ``time-to-publication``) of 85 papers published in the January 2004 issue of a leading chemical engineering research journal.\n",
    "\n",
    "<table><tr><td><img src='Prob1_13.png' width=300></td></tr></table>"
   ]
  },
  {
   "cell_type": "markdown",
   "metadata": {},
   "source": [
    "\n",
    "(i) Generate a histogram of this data set. Comment on the ``shape`` of this histogram and why, from the nature of the variable in question, such a shape may not be surprising."
   ]
  },
  {
   "cell_type": "code",
   "execution_count": 7,
   "metadata": {},
   "outputs": [
    {
     "data": {
      "image/png": "[encoded data removed]",
      "text/plain": [
       "<matplotlib.figure.Figure at 0x1125a15f8>"
      ]
     },
     "metadata": {},
     "output_type": "display_data"
    }
   ],
   "source": [
    "hist_data = plt.hist(prob1_13.JanPapers, bins=np.arange(prob1_13.min(), prob1_13.max(), 2))\n",
    "plt.grid(True)\n",
    "plt.title('JanPapers')\n",
    "plt.show()"
   ]
  },
  {
   "cell_type": "markdown",
   "metadata": {},
   "source": [
    "Most of the papers submitted are published within a year of submission. Few take longer than that. Thus the shape of this histogram is not surprising. It models the same information."
   ]
  },
  {
   "cell_type": "code",
   "execution_count": null,
   "metadata": {},
   "outputs": [],
   "source": []
  },
  {
   "cell_type": "markdown",
   "metadata": {},
   "source": [
    "(ii) From the histogram of the data, what is the ``most popular`` time-to-publication, and what fraction of the papers took longer than this to publish?"
   ]
  },
  {
   "cell_type": "code",
   "execution_count": 8,
   "metadata": {},
   "outputs": [
    {
     "name": "stdout",
     "output_type": "stream",
     "text": [
      "    frequency  interval_start  interval_stop\n",
      "0         8.0          1.8254         3.8254\n",
      "1        12.0          3.8254         5.8254\n",
      "2        12.0          5.8254         7.8254\n",
      "3        17.0          7.8254         9.8254\n",
      "4         9.0          9.8254        11.8254\n",
      "5         7.0         11.8254        13.8254\n",
      "6         6.0         13.8254        15.8254\n",
      "7         4.0         15.8254        17.8254\n",
      "8         6.0         17.8254        19.8254\n",
      "9         3.0         19.8254        21.8254\n",
      "10        0.0         21.8254        23.8254\n",
      "\n",
      "\n",
      "The most popular time-to-publication is between 8.0 to 10.0 months. In the data given above 17.0 papers (about 20.0%) got published within this time.\n",
      "\n",
      "41.0% papers took longer than 10.0 months to publish.\n"
     ]
    }
   ],
   "source": [
    "total_papers = prob1_13.shape[0]\n",
    "\n",
    "prob13_hist = pd.DataFrame(hist_data[0], columns=['frequency'])\n",
    "\n",
    "prob13_hist['interval_start'] = hist_data[1][:-1]\n",
    "prob13_hist['interval_stop'] = hist_data[1][1:]\n",
    "\n",
    "print(prob13_hist)\n",
    "\n",
    "most_popular = prob13_hist.iloc[prob13_hist.frequency.values.argmax()]\n",
    "\n",
    "print(\"\\n\\nThe most popular time-to-publication is between {} to {} months. In the data given above {} papers (about {}%) \\\n",
    "got published within this time.\".format(\n",
    "    most_popular['interval_start'].round(),\n",
    "    most_popular['interval_stop'].round(),\n",
    "    most_popular['frequency'],\n",
    "    (most_popular['frequency']*100/total_papers).round(),\n",
    "))\n",
    "\n",
    "\n",
    "longer_pub_time = prob13_hist[prob13_hist['interval_start'] >= most_popular['interval_stop']]\n",
    "longer_pub_time_precentage = longer_pub_time['frequency'].sum()*100/total_papers\n",
    "\n",
    "print(\"\\n{}% papers took longer than {} months to publish.\".format(\n",
    "    longer_pub_time_precentage.round(), \n",
    "    most_popular['interval_stop'].round(),\n",
    "))"
   ]
  },
  {
   "cell_type": "code",
   "execution_count": null,
   "metadata": {},
   "outputs": [],
   "source": []
  },
  {
   "cell_type": "code",
   "execution_count": null,
   "metadata": {},
   "outputs": [],
   "source": []
  },
  {
   "cell_type": "markdown",
   "metadata": {},
   "source": [
    "# Exercise 1.14"
   ]
  },
  {
   "cell_type": "markdown",
   "metadata": {},
   "source": [
    "Refer to Problem 1.13. Let each raw data entry in the data table be $x_i$.\n",
    "\n",
    "(i) Generate a set of 85 `sample average publication time`, $y_i$, from 20 consecutive times as follows: <br> <br>\n",
    "$$\n",
    "y_1 = \\frac{1}{20} \\sum_{i=1}^{20} x_i \\\\\n",
    "y_2 = \\frac{1}{20} \\sum_{i=2}^{21} x_i \\\\\n",
    "y_3 = \\frac{1}{20} \\sum_{i=3}^{22} x_i \\\\\n",
    "{\\ldots} = \\ldots \\nonumber \\\\\n",
    "y_j = \\frac{1}{20} \\sum_{i=j}^{20+ (j-1)} x_i\n",
    "$$\n",
    "\n",
    "For values of $j \\geq 66$, $y_j$ should be obtained by replacing $x_{86},\n",
    "x_{87}, x_{88}, \\ldots, $  which do not exist,  with $x_1, x_2, x_3, \\ldots, $\n",
    "respectively (i.e., for these purposes treat the given $x_i$ data like a\n",
    "`circular array`).  Plot the histogram for this generated $y_i$ data and compare the shape of this histogram with that of the original $x_i$ data.\n",
    "\n"
   ]
  },
  {
   "cell_type": "code",
   "execution_count": 9,
   "metadata": {
    "scrolled": true
   },
   "outputs": [
    {
     "data": {
      "image/png": "[encoded data removed]",
      "text/plain": [
       "<matplotlib.figure.Figure at 0x1127818d0>"
      ]
     },
     "metadata": {},
     "output_type": "display_data"
    }
   ],
   "source": [
    "Yj = []\n",
    "\n",
    "window = 20\n",
    "for i in range(total_papers):\n",
    "    j = i + window\n",
    "    if j > total_papers:\n",
    "        avg = prob1_13.JanPapers[i:total_papers].sum()\n",
    "        avg += prob1_13.JanPapers[:j-total_papers].sum()\n",
    "    else:\n",
    "        avg = prob1_13.JanPapers[i:j].sum()\n",
    "    \n",
    "    Yj.append(avg/window)\n",
    "\n",
    "hist_data = plt.hist(Yj, bins=np.arange(min(Yj), max(Yj), 0.4))\n",
    "plt.grid(True)\n",
    "plt.show()"
   ]
  },
  {
   "cell_type": "markdown",
   "metadata": {},
   "source": [
    "> #### `Observations:`\n",
    "\n",
    "> The shape of this histogram is very different from the previous one. This histogram is almost evenly distributed whereas the previous one showed decrease in frequency after some point."
   ]
  },
  {
   "cell_type": "code",
   "execution_count": null,
   "metadata": {},
   "outputs": [],
   "source": []
  },
  {
   "cell_type": "markdown",
   "metadata": {},
   "source": [
    "(ii) Repeat part (i) above, this time for $z_i$ data generated from:\n",
    "$$\n",
    "z_j  =  \\frac{1}{20} \\sum_{i=j}^{20+ (j-1)} y_i\n",
    "$$\n",
    "for $j=1,2, \\ldots, 85$.  Compare the histogram of the $z_i$ data with that of\n",
    "the $y_i$ data and comment on the effect of `averaging` on the shape of the\n",
    "data histograms."
   ]
  },
  {
   "cell_type": "code",
   "execution_count": 10,
   "metadata": {},
   "outputs": [
    {
     "data": {
      "image/png": "[encoded data removed]",
      "text/plain": [
       "<matplotlib.figure.Figure at 0x1127a52b0>"
      ]
     },
     "metadata": {},
     "output_type": "display_data"
    }
   ],
   "source": [
    "Zi = []\n",
    "\n",
    "for i in range(total_papers):\n",
    "    j = i + window\n",
    "    if j > total_papers:\n",
    "        avg = sum(Yj[i:total_papers])\n",
    "        avg += sum(Yj[:j-total_papers])\n",
    "    else:\n",
    "        avg = sum(Yj[i:j])\n",
    "    \n",
    "    Zi.append(avg/window)\n",
    "    \n",
    "hist_data = plt.hist(Zi, bins=np.arange(min(Zi), max(Zi), 0.2))\n",
    "plt.grid(True)\n",
    "plt.show()"
   ]
  },
  {
   "cell_type": "markdown",
   "metadata": {},
   "source": [
    "> #### `Observations:`\n",
    "\n",
    "> The shape of this histogram is very similar to that of the previous one. Continued averaging seems to be distributing frequency more and more evenly with every iteration."
   ]
  },
  {
   "cell_type": "code",
   "execution_count": null,
   "metadata": {},
   "outputs": [],
   "source": []
  },
  {
   "cell_type": "code",
   "execution_count": null,
   "metadata": {},
   "outputs": [],
   "source": []
  },
  {
   "cell_type": "markdown",
   "metadata": {},
   "source": [
    "# Exercise 1.15"
   ]
  },
  {
   "cell_type": "markdown",
   "metadata": {},
   "source": [
    "The data shown in table below is a four-year record of the number of `recordable` safety incidents occurring at a plant site each month.\n",
    "\n",
    "<table><tr><td><img src='Prob1_15.png' width=500></td></tr></table>"
   ]
  },
  {
   "cell_type": "markdown",
   "metadata": {},
   "source": [
    "\n",
    "(i) Find the average number of safety incidents per month and the associated variance. Construct a frequency table of the data and plot a histogram."
   ]
  },
  {
   "cell_type": "code",
   "execution_count": 11,
   "metadata": {},
   "outputs": [
    {
     "name": "stdout",
     "output_type": "stream",
     "text": [
      "\u001b[1m\n",
      "\n",
      "–––––––– Results without Bessel's correction for Variance: ––––––––\u001b[0m\n",
      "Average: 0.5 \n",
      "Variance: 0.5\n",
      "\n",
      "\n",
      "\u001b[1m\n",
      "\n",
      "–––––––– Results with Bessel's correction for Variance: ––––––––\u001b[0m\n",
      "Average: 0.5 \n",
      "Variance: 0.5106382978723404\n",
      "\n",
      "\n"
     ]
    },
    {
     "data": {
      "image/png": "[encoded data removed]",
      "text/plain": [
       "<matplotlib.figure.Figure at 0x1127e4940>"
      ]
     },
     "metadata": {},
     "output_type": "display_data"
    },
    {
     "data": {
      "text/html": [
       "<div>\n",
       "<style scoped>\n",
       "    .dataframe tbody tr th:only-of-type {\n",
       "        vertical-align: middle;\n",
       "    }\n",
       "\n",
       "    .dataframe tbody tr th {\n",
       "        vertical-align: top;\n",
       "    }\n",
       "\n",
       "    .dataframe thead th {\n",
       "        text-align: right;\n",
       "    }\n",
       "</style>\n",
       "<table border=\"1\" class=\"dataframe\">\n",
       "  <thead>\n",
       "    <tr style=\"text-align: right;\">\n",
       "      <th></th>\n",
       "      <th>frequency</th>\n",
       "    </tr>\n",
       "  </thead>\n",
       "  <tbody>\n",
       "    <tr>\n",
       "      <th>0</th>\n",
       "      <td>30.0</td>\n",
       "    </tr>\n",
       "    <tr>\n",
       "      <th>1</th>\n",
       "      <td>12.0</td>\n",
       "    </tr>\n",
       "    <tr>\n",
       "      <th>2</th>\n",
       "      <td>6.0</td>\n",
       "    </tr>\n",
       "    <tr>\n",
       "      <th>3</th>\n",
       "      <td>0.0</td>\n",
       "    </tr>\n",
       "    <tr>\n",
       "      <th>4</th>\n",
       "      <td>0.0</td>\n",
       "    </tr>\n",
       "    <tr>\n",
       "      <th>5</th>\n",
       "      <td>0.0</td>\n",
       "    </tr>\n",
       "  </tbody>\n",
       "</table>\n",
       "</div>"
      ],
      "text/plain": [
       "   frequency\n",
       "0       30.0\n",
       "1       12.0\n",
       "2        6.0\n",
       "3        0.0\n",
       "4        0.0\n",
       "5        0.0"
      ]
     },
     "execution_count": 11,
     "metadata": {},
     "output_type": "execute_result"
    }
   ],
   "source": [
    "avg_inc = prob1_15.values.mean()\n",
    "var_inc = prob1_15.values.var()\n",
    "print(bold + \"\\n\\n{} Results without Bessel's correction for Variance: {}\".format('–'*8, '–'*8) + end)\n",
    "print(\"Average: {} \\nVariance: {}\\n\\n\".format(avg_inc, var_inc))\n",
    "\n",
    "\n",
    "avg_inc = prob1_15.values.mean()\n",
    "var_inc = prob1_15.values.var(ddof=1)\n",
    "print(bold + \"\\n\\n{} Results with Bessel's correction for Variance: {}\".format('–'*8, '–'*8) + end)\n",
    "print(\"Average: {} \\nVariance: {}\\n\\n\".format(avg_inc, var_inc))\n",
    "\n",
    "\n",
    "\n",
    "hist_data = plt.hist(prob1_15.values, bins=[0,1,2,3,4,5,6])\n",
    "plt.grid(True)\n",
    "plt.show()\n",
    "\n",
    "freq_table = pd.DataFrame(hist_data[0], index=hist_data[1][:-1], columns=['frequency'])\n",
    "freq_table"
   ]
  },
  {
   "cell_type": "code",
   "execution_count": null,
   "metadata": {},
   "outputs": [],
   "source": []
  },
  {
   "cell_type": "markdown",
   "metadata": {},
   "source": [
    "(ii) From the frequency table and the histogram, what can you say about the `chances` of obtaining each of the following observations, where $x$ represents the number of observed safety incidents per month: $x=0,  x=1, x=2, x=3, x=4$ and $x=5$?"
   ]
  },
  {
   "cell_type": "code",
   "execution_count": 12,
   "metadata": {},
   "outputs": [
    {
     "data": {
      "text/html": [
       "<div>\n",
       "<style scoped>\n",
       "    .dataframe tbody tr th:only-of-type {\n",
       "        vertical-align: middle;\n",
       "    }\n",
       "\n",
       "    .dataframe tbody tr th {\n",
       "        vertical-align: top;\n",
       "    }\n",
       "\n",
       "    .dataframe thead th {\n",
       "        text-align: right;\n",
       "    }\n",
       "</style>\n",
       "<table border=\"1\" class=\"dataframe\">\n",
       "  <thead>\n",
       "    <tr style=\"text-align: right;\">\n",
       "      <th></th>\n",
       "      <th>frequency</th>\n",
       "      <th>chances</th>\n",
       "    </tr>\n",
       "  </thead>\n",
       "  <tbody>\n",
       "    <tr>\n",
       "      <th>0</th>\n",
       "      <td>30.0</td>\n",
       "      <td>0.625</td>\n",
       "    </tr>\n",
       "    <tr>\n",
       "      <th>1</th>\n",
       "      <td>12.0</td>\n",
       "      <td>0.250</td>\n",
       "    </tr>\n",
       "    <tr>\n",
       "      <th>2</th>\n",
       "      <td>6.0</td>\n",
       "      <td>0.125</td>\n",
       "    </tr>\n",
       "    <tr>\n",
       "      <th>3</th>\n",
       "      <td>0.0</td>\n",
       "      <td>0.000</td>\n",
       "    </tr>\n",
       "    <tr>\n",
       "      <th>4</th>\n",
       "      <td>0.0</td>\n",
       "      <td>0.000</td>\n",
       "    </tr>\n",
       "    <tr>\n",
       "      <th>5</th>\n",
       "      <td>0.0</td>\n",
       "      <td>0.000</td>\n",
       "    </tr>\n",
       "  </tbody>\n",
       "</table>\n",
       "</div>"
      ],
      "text/plain": [
       "   frequency  chances\n",
       "0       30.0    0.625\n",
       "1       12.0    0.250\n",
       "2        6.0    0.125\n",
       "3        0.0    0.000\n",
       "4        0.0    0.000\n",
       "5        0.0    0.000"
      ]
     },
     "execution_count": 12,
     "metadata": {},
     "output_type": "execute_result"
    }
   ],
   "source": [
    "freq_table['chances'] = freq_table.frequency/freq_table.frequency.sum()\n",
    "freq_table"
   ]
  },
  {
   "cell_type": "markdown",
   "metadata": {},
   "source": [
    "> #### `Observations:`\n",
    "\n",
    "> As shown in the above table and histogram, there are high chances of having no safety incidents at all in a month. The chances keep on decreasing as the number of incidents increase from 0-2 and vanishes for 3 or more incidents."
   ]
  },
  {
   "cell_type": "code",
   "execution_count": null,
   "metadata": {},
   "outputs": [],
   "source": []
  },
  {
   "cell_type": "markdown",
   "metadata": {},
   "source": [
    "(iii) Consider the postulate that a reasonable model for this phenomenon is:\n",
    "$$\n",
    "f(x) = \\frac{e^{-0.5}{0.5^{x}}} {x!}\n",
    "$$\n",
    "where $f(x)$ represents the theoretical `probability` of recording exactly $x$ safety incidents per month.  How well does this model fit the data?\n"
   ]
  },
  {
   "cell_type": "code",
   "execution_count": 13,
   "metadata": {},
   "outputs": [
    {
     "data": {
      "text/html": [
       "<div>\n",
       "<style scoped>\n",
       "    .dataframe tbody tr th:only-of-type {\n",
       "        vertical-align: middle;\n",
       "    }\n",
       "\n",
       "    .dataframe tbody tr th {\n",
       "        vertical-align: top;\n",
       "    }\n",
       "\n",
       "    .dataframe thead th {\n",
       "        text-align: right;\n",
       "    }\n",
       "</style>\n",
       "<table border=\"1\" class=\"dataframe\">\n",
       "  <thead>\n",
       "    <tr style=\"text-align: right;\">\n",
       "      <th></th>\n",
       "      <th>frequency</th>\n",
       "      <th>chances</th>\n",
       "      <th>theoretical_probability</th>\n",
       "      <th>difference</th>\n",
       "      <th>difference_percentage</th>\n",
       "    </tr>\n",
       "  </thead>\n",
       "  <tbody>\n",
       "    <tr>\n",
       "      <th>0</th>\n",
       "      <td>30.0</td>\n",
       "      <td>0.625</td>\n",
       "      <td>0.606531</td>\n",
       "      <td>-0.018469</td>\n",
       "      <td>-3.045079</td>\n",
       "    </tr>\n",
       "    <tr>\n",
       "      <th>1</th>\n",
       "      <td>12.0</td>\n",
       "      <td>0.250</td>\n",
       "      <td>0.303265</td>\n",
       "      <td>0.053265</td>\n",
       "      <td>17.563936</td>\n",
       "    </tr>\n",
       "    <tr>\n",
       "      <th>2</th>\n",
       "      <td>6.0</td>\n",
       "      <td>0.125</td>\n",
       "      <td>0.075816</td>\n",
       "      <td>-0.049184</td>\n",
       "      <td>-64.872127</td>\n",
       "    </tr>\n",
       "    <tr>\n",
       "      <th>3</th>\n",
       "      <td>0.0</td>\n",
       "      <td>0.000</td>\n",
       "      <td>0.012636</td>\n",
       "      <td>0.012636</td>\n",
       "      <td>100.000000</td>\n",
       "    </tr>\n",
       "    <tr>\n",
       "      <th>4</th>\n",
       "      <td>0.0</td>\n",
       "      <td>0.000</td>\n",
       "      <td>0.001580</td>\n",
       "      <td>0.001580</td>\n",
       "      <td>100.000000</td>\n",
       "    </tr>\n",
       "    <tr>\n",
       "      <th>5</th>\n",
       "      <td>0.0</td>\n",
       "      <td>0.000</td>\n",
       "      <td>0.000158</td>\n",
       "      <td>0.000158</td>\n",
       "      <td>100.000000</td>\n",
       "    </tr>\n",
       "  </tbody>\n",
       "</table>\n",
       "</div>"
      ],
      "text/plain": [
       "   frequency  chances  theoretical_probability  difference  \\\n",
       "0       30.0    0.625                 0.606531   -0.018469   \n",
       "1       12.0    0.250                 0.303265    0.053265   \n",
       "2        6.0    0.125                 0.075816   -0.049184   \n",
       "3        0.0    0.000                 0.012636    0.012636   \n",
       "4        0.0    0.000                 0.001580    0.001580   \n",
       "5        0.0    0.000                 0.000158    0.000158   \n",
       "\n",
       "   difference_percentage  \n",
       "0              -3.045079  \n",
       "1              17.563936  \n",
       "2             -64.872127  \n",
       "3             100.000000  \n",
       "4             100.000000  \n",
       "5             100.000000  "
      ]
     },
     "execution_count": 13,
     "metadata": {},
     "output_type": "execute_result"
    }
   ],
   "source": [
    "def function_of_x(x, lmbda=0.5):\n",
    "    value = (np.exp(-lmbda)*(lmbda**x))/math.factorial(x)\n",
    "    return value\n",
    "\n",
    "theoretical_probability = []\n",
    "for x in freq_table.index.values:\n",
    "    theoretical_probability.append(function_of_x(x))\n",
    "    \n",
    "freq_table['theoretical_probability'] = theoretical_probability\n",
    "freq_table['difference'] = freq_table['theoretical_probability'] - freq_table['chances']\n",
    "\n",
    "freq_table['difference_percentage'] = (freq_table['difference']*100)/freq_table['theoretical_probability']\n",
    "freq_table"
   ]
  },
  {
   "cell_type": "markdown",
   "metadata": {},
   "source": [
    "> #### `Observations:`\n",
    "\n",
    "> The model fit the data pretty well. 'Chances' and 'Theoretical_probability' are close. According to the model, the theoretical_probability decreases sharply with increase in number of safety_incidents which is actually the case."
   ]
  },
  {
   "cell_type": "code",
   "execution_count": null,
   "metadata": {},
   "outputs": [],
   "source": []
  },
  {
   "cell_type": "markdown",
   "metadata": {},
   "source": [
    "(iv) Assuming that this is a reasonable model, discuss how you would use it to answer the question: ``If, over the most recent four-month period, the plant recorded 1, 3, 2, 3 safety incidents respectively, is there evidence that there has been a 'real increase' in the number of safety incidents``? "
   ]
  },
  {
   "cell_type": "code",
   "execution_count": null,
   "metadata": {},
   "outputs": [],
   "source": []
  },
  {
   "cell_type": "code",
   "execution_count": null,
   "metadata": {},
   "outputs": [],
   "source": []
  },
  {
   "cell_type": "code",
   "execution_count": null,
   "metadata": {},
   "outputs": [],
   "source": []
  },
  {
   "cell_type": "markdown",
   "metadata": {},
   "source": [
    "# Exercise 1.16"
   ]
  },
  {
   "cell_type": "markdown",
   "metadata": {},
   "source": [
    "The table below shows a record of the `before` and `after` weights (in pounds) of 20 patients enrolled in a clinically-supervised ten-week weight-loss program.\n",
    "\n",
    "Let $X_B$ represent the `Before` weight and $X_A$ the `After` weight.\n",
    "\n",
    "<table><tr><td><img src='Prob1_16.png' width=600></td></tr></table>"
   ]
  },
  {
   "cell_type": "markdown",
   "metadata": {},
   "source": [
    "(i) Using the same bin size for each data set, obtain histograms for the $X_B$ and $X_A$ data and plot both on the same graph. Strictly on the basis of a  visual inspection of these histograms, what can you say about the effectiveness of the weight-loss program in achieving its objective of assisting patients to lose weight?\n",
    "\n"
   ]
  },
  {
   "cell_type": "code",
   "execution_count": 14,
   "metadata": {},
   "outputs": [
    {
     "data": {
      "image/png": "[encoded data removed]",
      "text/plain": [
       "<matplotlib.figure.Figure at 0x112927710>"
      ]
     },
     "metadata": {},
     "output_type": "display_data"
    }
   ],
   "source": [
    "bin_size = 10\n",
    "\n",
    "hist_data_before = plt.hist(\n",
    "    prob1_16['Before WT'], \n",
    "    bins=np.arange(prob1_16['Before WT'].min(), prob1_16['Before WT'].max(), bin_size),\n",
    "    label='Before',\n",
    "    alpha=0.6,\n",
    ")\n",
    "\n",
    "hist_data_after = plt.hist(\n",
    "    prob1_16['After WT'], \n",
    "    bins=np.arange(prob1_16['After WT'].min(), prob1_16['After WT'].max(), bin_size), \n",
    "    label='After',\n",
    "    alpha=0.6,\n",
    ")\n",
    "\n",
    "plt.legend()\n",
    "plt.grid(True)\n",
    "plt.show()"
   ]
  },
  {
   "cell_type": "markdown",
   "metadata": {},
   "source": [
    "> #### `Observations:`\n",
    "\n",
    "> The 'after' histogram is more on the left as compared to the 'before' one. Also, the frequencies in the 'after' graph are decreasing with increase in weight whereas this is not the case with 'before' graph.\n",
    "\n",
    "> This suggests that the weight-loss program was effective."
   ]
  },
  {
   "cell_type": "code",
   "execution_count": null,
   "metadata": {},
   "outputs": [],
   "source": []
  },
  {
   "cell_type": "markdown",
   "metadata": {},
   "source": [
    "(ii) Define the difference variable, $D= X_B - X_A$, and from the given data, obtain and plot a histogram for this variable. Again, strictly from a  visual inspection of this histogram, what can you say about the effectiveness of the weight-loss program?"
   ]
  },
  {
   "cell_type": "code",
   "execution_count": 15,
   "metadata": {},
   "outputs": [
    {
     "data": {
      "image/png": "[encoded data removed]",
      "text/plain": [
       "<matplotlib.figure.Figure at 0x1129276a0>"
      ]
     },
     "metadata": {},
     "output_type": "display_data"
    }
   ],
   "source": [
    "prob1_16['diff'] = prob1_16['Before WT'] - prob1_16['After WT']\n",
    "\n",
    "bin_size = 1\n",
    "hist_data_diff = plt.hist(\n",
    "    prob1_16['diff'], \n",
    "    bins=np.arange(prob1_16['diff'].min(), prob1_16['diff'].max(), bin_size), \n",
    "    label='Difference (Before WT - After WT)',\n",
    ")\n",
    "\n",
    "plt.legend()\n",
    "plt.grid(True)\n",
    "plt.show()"
   ]
  },
  {
   "cell_type": "markdown",
   "metadata": {},
   "source": [
    "> #### `Observations:`\n",
    "\n",
    "> 1. None of the values are negative or even zero indicating that there was atleast a drop of 1 pound for every individual.\n",
    "\n",
    "> 2. The right side of the histogram is heavily populated which means that most people lost betwenn 8-12 pounds."
   ]
  },
  {
   "cell_type": "code",
   "execution_count": null,
   "metadata": {},
   "outputs": [],
   "source": []
  },
  {
   "cell_type": "code",
   "execution_count": null,
   "metadata": {},
   "outputs": [],
   "source": []
  },
  {
   "cell_type": "markdown",
   "metadata": {},
   "source": [
    "# Exercise 1.17"
   ]
  },
  {
   "cell_type": "markdown",
   "metadata": {},
   "source": [
    "The data shown in the table below is from an `Assisted Reproductive Technologies` clinic where a cohort of 100 patients under the age of 35 years (the `Younger` group), and  another cohort, 35 years and older (the `Older` group), each received five embryos in an in-vitro fertilization (IVF) treatment cycle.\n",
    "\n",
    "<table><tr><td><img src='Prob1_17.png' width=600></td></tr></table>"
   ]
  },
  {
   "cell_type": "markdown",
   "metadata": {},
   "source": [
    "\n",
    "The data shows $x$, the number of live births per delivered pregnancy, along with how many in each group had the pregnancy outcome of $x$. For example, the first entry indicates that the IVF treatment  was unsuccessful for 32 of the `older` patients, with the corresponding number being 8 for the `younger` patients; 41 `older` patients delivered singletons, compared with 25 for the younger patients; 21 older patients and 35 younger patients each delivered twins; etc. Obtain a `relative` frequency distribution for these data sets and plot the corresponding histograms."
   ]
  },
  {
   "cell_type": "code",
   "execution_count": 16,
   "metadata": {},
   "outputs": [
    {
     "name": "stdout",
     "output_type": "stream",
     "text": [
      "   x  yO  yY  r_freq_yO  r_freq_yY  combined_r_freq\n",
      "0  0  32   8       0.32       0.08            0.200\n",
      "1  1  41  25       0.41       0.25            0.330\n",
      "2  2  21  35       0.21       0.35            0.280\n",
      "3  3   5  23       0.05       0.23            0.140\n",
      "4  4   1   8       0.01       0.08            0.045\n",
      "5  5   0   1       0.00       0.01            0.005\n"
     ]
    },
    {
     "data": {
      "image/png": "[encoded data removed]",
      "text/plain": [
       "<matplotlib.figure.Figure at 0x11257ec50>"
      ]
     },
     "metadata": {},
     "output_type": "display_data"
    }
   ],
   "source": [
    "total_patients = prob1_17['yO'].sum()\n",
    "\n",
    "prob1_17['r_freq_yO'] = prob1_17['yO']/total_patients\n",
    "prob1_17['r_freq_yY'] = prob1_17['yY']/total_patients\n",
    "prob1_17['combined_r_freq'] = (prob1_17['yO'] + prob1_17['yY'])/(2*total_patients)\n",
    "\n",
    "print(prob1_17)\n",
    "\n",
    "bin_size = 1\n",
    "\n",
    "plt.bar(\n",
    "    prob1_17['x'], \n",
    "    prob1_17['yY'],\n",
    "    label='Young',\n",
    "    alpha=0.6,\n",
    "    width=1,\n",
    ")\n",
    "\n",
    "plt.bar(\n",
    "    prob1_17['x'], \n",
    "    prob1_17['yO'],\n",
    "    label='Old',\n",
    "    alpha=0.6,\n",
    "    width=1,\n",
    ")\n",
    "\n",
    "plt.legend()\n",
    "plt.grid(True)\n",
    "plt.show()\n",
    "\n",
    "\n"
   ]
  },
  {
   "cell_type": "code",
   "execution_count": null,
   "metadata": {},
   "outputs": [],
   "source": []
  },
  {
   "cell_type": "markdown",
   "metadata": {},
   "source": [
    "Determine the average number of live births per delivered pregnancy for each group and compare these values.  Comment on whether or not these data sets indicate that the outcomes of the IVF treatments are different for these two groups."
   ]
  },
  {
   "cell_type": "code",
   "execution_count": 17,
   "metadata": {},
   "outputs": [
    {
     "name": "stdout",
     "output_type": "stream",
     "text": [
      "The average number of live births per delivered pregnancy for - \n",
      "Young:  2.01\n",
      "Old:  1.02\n"
     ]
    }
   ],
   "source": [
    "avg_young = (prob1_17['yY']*prob1_17['x']).values.sum()/total_patients\n",
    "avg_old = (prob1_17['yO']*prob1_17['x']).values.sum()/total_patients\n",
    "\n",
    "print(\"The average number of live births per delivered pregnancy for - \");\n",
    "print(\"Young: \", avg_young)\n",
    "print(\"Old: \", avg_old)"
   ]
  },
  {
   "cell_type": "markdown",
   "metadata": {},
   "source": [
    "> #### `Observation:`\n",
    "\n",
    "> 1. By looking at the histograms, we can see that the histogram for 'Old' people is heavily populated on left side whereas the one for 'Young' people is almost balanced on both sides. From this we can say that 'Old' people have less number of live birts as compared to 'Young' people.\n",
    "> 2. Using the Average statistic, observation 1 is confirmed.\n",
    "> 3. We can say that the IVF treatment has different results for the two groups. It is more effective for younger people."
   ]
  },
  {
   "cell_type": "code",
   "execution_count": null,
   "metadata": {},
   "outputs": [],
   "source": []
  },
  {
   "cell_type": "code",
   "execution_count": null,
   "metadata": {},
   "outputs": [],
   "source": []
  }
 ],
 "metadata": {
  "kernelspec": {
   "display_name": "Python 3",
   "language": "python",
   "name": "python3"
  },
  "language_info": {
   "codemirror_mode": {
    "name": "ipython",
    "version": 3
   },
   "file_extension": ".py",
   "mimetype": "text/x-python",
   "name": "python",
   "nbconvert_exporter": "python",
   "pygments_lexer": "ipython3",
   "version": "3.6.4"
  }
 },
 "nbformat": 4,
 "nbformat_minor": 2
}
