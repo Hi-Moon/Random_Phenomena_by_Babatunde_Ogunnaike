{
 "cells": [
  {
   "cell_type": "code",
   "execution_count": 1,
   "metadata": {},
   "outputs": [],
   "source": [
    "bold = '\\033[1m' \n",
    "end = '\\033[0m'\n",
    "\n",
    "import pandas as pd\n",
    "import numpy as np\n",
    "from matplotlib import pyplot as plt\n",
    "from IPython.display import Image \n",
    "import math"
   ]
  },
  {
   "cell_type": "code",
   "execution_count": 2,
   "metadata": {},
   "outputs": [],
   "source": [
    "table1_1 = pd.read_excel('Chapter1.xlsx', sheet_name='Table1.1')\n",
    "table1_2 = pd.read_excel('Chapter1.xlsx', sheet_name='Table1.2')\n",
    "table1_3 = pd.read_excel('Chapter1.xlsx', sheet_name='Table1.3')\n",
    "table1_4 = pd.read_excel('Chapter1.xlsx', sheet_name='Table1.4')\n",
    "table1_5 = pd.read_excel('Chapter1.xlsx', sheet_name='Table1.5')"
   ]
  },
  {
   "cell_type": "code",
   "execution_count": 3,
   "metadata": {
    "scrolled": true
   },
   "outputs": [
    {
     "name": "stdout",
     "output_type": "stream",
     "text": [
      "        YA       YB\n",
      "0  74.0422  75.7523\n",
      "1  75.2921  68.4104\n",
      "2  75.6269  74.1911\n",
      "3  75.9191  68.1020\n",
      "4  77.2113  68.1002\n",
      "(50, 2)\n"
     ]
    }
   ],
   "source": [
    "print(table1_1.head())\n",
    "print(table1_1.shape)"
   ]
  },
  {
   "cell_type": "code",
   "execution_count": 4,
   "metadata": {},
   "outputs": [
    {
     "name": "stdout",
     "output_type": "stream",
     "text": [
      "   Inclusions\n",
      "0           0\n",
      "1           2\n",
      "2           1\n",
      "3           1\n",
      "4           2\n",
      "(60, 1)\n"
     ]
    }
   ],
   "source": [
    "print(table1_2.head())\n",
    "print(table1_2.shape)"
   ]
  },
  {
   "cell_type": "code",
   "execution_count": 5,
   "metadata": {},
   "outputs": [
    {
     "name": "stdout",
     "output_type": "stream",
     "text": [
      "   interval_start  interval_stop  Frequency  Relative Frequency\n",
      "0           71.51           72.5          1                0.02\n",
      "1           72.51           73.5          2                0.04\n",
      "2           73.51           74.5          9                0.18\n",
      "3           74.51           75.5         17                0.34\n",
      "4           75.51           76.5          7                0.14\n",
      "(8, 4)\n"
     ]
    }
   ],
   "source": [
    "print(table1_3.head())\n",
    "print(table1_3.shape)"
   ]
  },
  {
   "cell_type": "code",
   "execution_count": 6,
   "metadata": {
    "scrolled": true
   },
   "outputs": [
    {
     "name": "stdout",
     "output_type": "stream",
     "text": [
      "   interval_start  interval_stop  Frequency  Relative Frequency\n",
      "0           66.51           67.5          1                0.02\n",
      "1           67.51           68.5          3                0.06\n",
      "2           68.51           69.5          4                0.08\n",
      "3           69.51           70.5          8                0.16\n",
      "4           70.51           71.5          4                0.08\n",
      "(13, 4)\n"
     ]
    }
   ],
   "source": [
    "print(table1_4.head())\n",
    "print(table1_4.shape)"
   ]
  },
  {
   "cell_type": "code",
   "execution_count": 7,
   "metadata": {},
   "outputs": [
    {
     "name": "stdout",
     "output_type": "stream",
     "text": [
      "   x  Frequency  Relative Frequency\n",
      "0  0         22               0.367\n",
      "1  1         23               0.383\n",
      "2  2         11               0.183\n",
      "3  3          1               0.017\n",
      "4  4          2               0.033\n",
      "(7, 3)\n"
     ]
    }
   ],
   "source": [
    "print(table1_5.head())\n",
    "print(table1_5.shape)"
   ]
  },
  {
   "cell_type": "code",
   "execution_count": null,
   "metadata": {},
   "outputs": [],
   "source": []
  },
  {
   "cell_type": "code",
   "execution_count": null,
   "metadata": {},
   "outputs": [],
   "source": []
  },
  {
   "cell_type": "markdown",
   "metadata": {},
   "source": [
    "# `EXERCISES`"
   ]
  },
  {
   "cell_type": "markdown",
   "metadata": {},
   "source": [
    "# Exercise 1.1"
   ]
  },
  {
   "cell_type": "markdown",
   "metadata": {},
   "source": [
    "The variance of a collection of $n$ data points, $y_1, y_2, \\ldots, y_n$, is defined as:\n",
    "<br> <br>\n",
    "    $$ s^2 = \\frac{\\sum_{i=1}^n(y_i - \\bar{y})^2}{n-1} $$ \n",
    "    \n",
    "where $\\bar{y}$ is the arithmetic average of the data set. From the yield data in Table 1.1, obtain the variances $s^2_A$ and $s^2_B$ for the $Y_A$ and $Y_B$ data sets, respectively.  Which  is greater, $s^2_A$ or $s^2_B$?\n",
    "\n",
    "<table><tr><td><img src='Table1_1.png' width=200></td></tr></table>"
   ]
  },
  {
   "cell_type": "code",
   "execution_count": 8,
   "metadata": {},
   "outputs": [
    {
     "name": "stdout",
     "output_type": "stream",
     "text": [
      "\u001b[1m\n",
      "–––––––– Results using formulas given in book: ––––––––\u001b[0m\n",
      "Average of YA =  75.518804\n",
      "Average of YB =  72.47207200000001\n",
      "Variance of YA =  2.049267960800001\n",
      "Variance of YB =  7.640063316342855\n",
      "\u001b[1m\n",
      "\n",
      "–––––––– Results using built-in functions: ––––––––\u001b[0m\n",
      "Average of YA =  75.518804\n",
      "Average of YB =  72.47207200000001\n",
      "Variance of YA =  2.0492679608\n",
      "Variance of YB =  7.640063316342858\n",
      "\n",
      "\n",
      "Variance of YB (7.640063316342858) is greater than varinace of YA (2.0492679608)\n"
     ]
    }
   ],
   "source": [
    "n_yield = table1_1.shape[0]\n",
    "\n",
    "\n",
    "# using formulas given in book\n",
    "print(bold + \"\\n{} Results using formulas given in book: {}\".format('–'*8, '–'*8) + end)\n",
    "avg_ya = sum(table1_1.YA.values)/n_yield\n",
    "avg_yb = sum(table1_1.YB.values)/n_yield\n",
    "var_ya = sum((table1_1.YA.values - avg_ya)**2)/(n_yield-1)\n",
    "var_yb = sum((table1_1.YB.values - avg_yb)**2)/(n_yield-1)\n",
    "\n",
    "print(\"Average of YA = \", avg_ya)\n",
    "print(\"Average of YB = \", avg_yb)\n",
    "print(\"Variance of YA = \", var_ya)\n",
    "print(\"Variance of YB = \", var_yb)\n",
    "\n",
    "\n",
    "\n",
    "# using built-in functions\n",
    "print(bold + \"\\n\\n{} Results using built-in functions: {}\".format('–'*8, '–'*8) + end)\n",
    "avg_ya = table1_1.YA.mean()\n",
    "avg_yb = table1_1.YB.mean()\n",
    "var_ya = table1_1.YA.values.var(ddof=1)\n",
    "var_yb = table1_1.YB.values.var(ddof=1)\n",
    "\n",
    "print(\"Average of YA = \", avg_ya)\n",
    "print(\"Average of YB = \", avg_yb)\n",
    "print(\"Variance of YA = \", var_ya)\n",
    "print(\"Variance of YB = \", var_yb)\n",
    "\n",
    "\n",
    "variance = {\n",
    "    'YA': var_ya,\n",
    "    'YB': var_yb,\n",
    "}\n",
    "print(\"\\n\")\n",
    "print(\"Variance of {} ({}) is greater than varinace of {} ({})\".format(\n",
    "    max(variance, key=variance.get),\n",
    "    max(variance.values()),\n",
    "    min(variance, key=variance.get),\n",
    "    min(variance.values()),\n",
    "))"
   ]
  },
  {
   "cell_type": "code",
   "execution_count": null,
   "metadata": {},
   "outputs": [],
   "source": []
  },
  {
   "cell_type": "code",
   "execution_count": null,
   "metadata": {},
   "outputs": [],
   "source": []
  },
  {
   "cell_type": "markdown",
   "metadata": {},
   "source": [
    "# Exercise 1.2"
   ]
  },
  {
   "cell_type": "markdown",
   "metadata": {},
   "source": [
    "Even though the data sets in Table 1.1 were not generated in pairs, obtain the 50 differences,\n",
    "<br> <br>\n",
    "    $$\n",
    "    d_i = y_{A_i} - y_{B_i}\\,; \\,\\,\\, i = 1, 2, \\ldots, 50,\n",
    "    $$\n",
    "<br>\n",
    "for corresponding values of $Y_A$ and $Y_B$ as presented in this table.  Obtain a histogram of $d_i$ and compute the arithmetic average,\n",
    "<br> <br>\n",
    "    $$\n",
    "    \\bar{d} = \\frac{1}{n}\\sum_{i=1}^n d_i.\n",
    "    $$\n",
    "\n",
    "What do these results suggest about the possibility that $Y_A$ may be greater than $Y_B$? "
   ]
  },
  {
   "cell_type": "markdown",
   "metadata": {},
   "source": [
    "\n"
   ]
  },
  {
   "cell_type": "code",
   "execution_count": 9,
   "metadata": {},
   "outputs": [
    {
     "name": "stdout",
     "output_type": "stream",
     "text": [
      "[-1.7101  6.8817  1.4358  7.8171  9.1111]\n",
      "\n",
      "Average of d: 3.0467319999999996\n",
      "Percentage of values greater than zero: 84.0%\n"
     ]
    },
    {
     "data": {
      "image/png": "[encoded data removed]",
      "text/plain": [
       "<matplotlib.figure.Figure at 0x10b53dc50>"
      ]
     },
     "metadata": {},
     "output_type": "display_data"
    }
   ],
   "source": [
    "table1_1['d'] = table1_1.YA - table1_1.YB\n",
    "print(table1_1.d.head().values)\n",
    "\n",
    "table1_1.d.hist(bins=np.arange(-10, 10, 1))\n",
    "\n",
    "avg_d = table1_1.d.mean()\n",
    "print(\"\\nAverage of d: {}\".format(avg_d))\n",
    "\n",
    "vals_more_than_zero = (len([x for x in table1_1.d if x>0])/n_yield)*100\n",
    "print(\"Percentage of values greater than zero: {}%\".format(vals_more_than_zero))"
   ]
  },
  {
   "cell_type": "markdown",
   "metadata": {},
   "source": [
    "> #### `Observations:`\n",
    "\n",
    "> From the histogram, we can see that most of the values (84% as we computed) are positive. \n",
    "The average value of d and the histogram suggest that YA is greater than YB by a value of 3."
   ]
  },
  {
   "cell_type": "code",
   "execution_count": null,
   "metadata": {},
   "outputs": [],
   "source": []
  },
  {
   "cell_type": "code",
   "execution_count": null,
   "metadata": {},
   "outputs": [],
   "source": []
  },
  {
   "cell_type": "markdown",
   "metadata": {},
   "source": [
    "# Exercise 1.3"
   ]
  },
  {
   "cell_type": "markdown",
   "metadata": {},
   "source": [
    "A set of theoretical results state that, for $d_i$ and $\\bar{d}$ (defined in Exercise 1.2), and variance $s^2$ (defined in Exercise 1.1), <br> <br>\n",
    "$$\n",
    "    \\bar{d} = \\bar{y}_A - \\bar{y}_B\n",
    "    $$ <br>\n",
    "    $$\n",
    "    s^2_d = s^2_A + s^2_B\n",
    "    $$\n",
    "    \n",
    "Confirm these results specifically for the data in Table 1.1"
   ]
  },
  {
   "cell_type": "code",
   "execution_count": 10,
   "metadata": {
    "scrolled": true
   },
   "outputs": [
    {
     "name": "stdout",
     "output_type": "stream",
     "text": [
      "\u001b[1m\n",
      "–––––––– Results using formulas defined in Exercises: ––––––––\u001b[0m\n",
      "Average value of d:  3.0467319999999996\n",
      "Variance of d:  11.0220858634449\n",
      "\u001b[1m\n",
      "–––––––– Results using theoretical statements: ––––––––\u001b[0m\n",
      "Average value of d:  3.0467319999999916\n",
      "Variance of d:  9.689331277142859\n"
     ]
    }
   ],
   "source": [
    "var_d = sum((table1_1.d.values - avg_d)**2)/(n_yield-1)\n",
    "\n",
    "print(bold + \"\\n{} Results using formulas defined in Exercises: {}\".format('–'*8, '–'*8) + end)\n",
    "print(\"Average value of d: \", avg_d)\n",
    "print(\"Variance of d: \", var_d)\n",
    "\n",
    "\n",
    "print(bold + \"\\n{} Results using theoretical statements: {}\".format('–'*8, '–'*8) + end)\n",
    "print(\"Average value of d: \", avg_ya - avg_yb)\n",
    "print(\"Variance of d: \", var_ya + var_yb)\n"
   ]
  },
  {
   "cell_type": "markdown",
   "metadata": {},
   "source": [
    "> #### `Observations:`\n",
    "    \n",
    "> As we can see, average value of d is indeed the difference of average values of YA and YB.\n",
    "But, variance of d is `NOT` the sum of variances of YA and YB."
   ]
  },
  {
   "cell_type": "code",
   "execution_count": null,
   "metadata": {},
   "outputs": [],
   "source": []
  },
  {
   "cell_type": "code",
   "execution_count": null,
   "metadata": {},
   "outputs": [],
   "source": []
  },
  {
   "cell_type": "markdown",
   "metadata": {},
   "source": [
    "# Exercise 1.4"
   ]
  },
  {
   "cell_type": "markdown",
   "metadata": {},
   "source": [
    "From the data in Table 1.2, obtain $s^2_x$, the variance of the inclusions.\n",
    "\n",
    "<table><tr><td><img src='Table1_2.png' width=300></td></tr></table>"
   ]
  },
  {
   "cell_type": "code",
   "execution_count": 11,
   "metadata": {},
   "outputs": [
    {
     "name": "stdout",
     "output_type": "stream",
     "text": [
      "Average value of Inclusions:  1.0166666666666666\n",
      "Variance of Inclusions:  1.2031073446327696\n"
     ]
    }
   ],
   "source": [
    "n_inclusions = table1_2.shape[0]\n",
    "avg_inclusions = sum(table1_2.Inclusions.values)/n_inclusions\n",
    "var_inclusions = sum((table1_2.Inclusions.values - avg_inclusions)**2)/(n_inclusions-1)\n",
    "\n",
    "print(\"Average value of Inclusions: \", avg_inclusions)\n",
    "print(\"Variance of Inclusions: \", var_inclusions)"
   ]
  },
  {
   "cell_type": "code",
   "execution_count": null,
   "metadata": {},
   "outputs": [],
   "source": []
  },
  {
   "cell_type": "code",
   "execution_count": null,
   "metadata": {},
   "outputs": [],
   "source": []
  },
  {
   "cell_type": "markdown",
   "metadata": {},
   "source": [
    "# Exercise 1.5"
   ]
  },
  {
   "cell_type": "markdown",
   "metadata": {},
   "source": [
    "The random variable, $X$, representing the number of inclusions, is purported to be a Poisson random variable .  If true, then the average, $\\bar{x}$, and variance, $s^2_x$, are theoretically equal.  Compare the  values computed for these two quantities from the data set in  Table 1.2.  What do these results suggest about the possibility that $X$ may in fact be a Poisson random variable?"
   ]
  },
  {
   "cell_type": "code",
   "execution_count": 12,
   "metadata": {},
   "outputs": [
    {
     "name": "stdout",
     "output_type": "stream",
     "text": [
      "Average value of Inclusions:  1.0166666666666666\n",
      "Variance of Inclusions:  1.2031073446327696\n"
     ]
    }
   ],
   "source": [
    "print(\"Average value of Inclusions: \", avg_inclusions)\n",
    "print(\"Variance of Inclusions: \", var_inclusions)"
   ]
  },
  {
   "cell_type": "markdown",
   "metadata": {},
   "source": [
    "> #### `Observations:`\n",
    "\n",
    "> The average ($\\bar{x}$ = 1.016666) and variance ($s_x^2$ = 1.203107) of $X$ are close but not equal. The results vaguely suggest that $X$ may be Poisson random variable."
   ]
  },
  {
   "cell_type": "code",
   "execution_count": null,
   "metadata": {},
   "outputs": [],
   "source": []
  },
  {
   "cell_type": "code",
   "execution_count": null,
   "metadata": {},
   "outputs": [],
   "source": []
  },
  {
   "cell_type": "markdown",
   "metadata": {},
   "source": [
    "# Exercise 1.6"
   ]
  },
  {
   "cell_type": "markdown",
   "metadata": {},
   "source": [
    "Using a bin size of 0.75, obtain relative frequencies for $Y_A$ and $Y_B$ data and the corresponding histograms. Repeat this exercise for a bin size of 2.0. Compare these two sets of histograms with the corresponding histograms in Figs 12.8 and 1.2.\n",
    "\n",
    "<table><tr><td><img src='Fig12_8.png' width=400></td></tr></table>"
   ]
  },
  {
   "cell_type": "code",
   "execution_count": 13,
   "metadata": {
    "scrolled": false
   },
   "outputs": [
    {
     "name": "stdout",
     "output_type": "stream",
     "text": [
      "    frequency  interval_start  interval_stop  relative_frequency\n",
      "0         1.0           72.00          72.75                0.02\n",
      "1         2.0           72.75          73.50                0.04\n",
      "2         7.0           73.50          74.25                0.14\n",
      "3         9.0           74.25          75.00                0.18\n",
      "4        12.0           75.00          75.75                0.24\n",
      "5         5.0           75.75          76.50                0.10\n",
      "6         7.0           76.50          77.25                0.14\n",
      "7         5.0           77.25          78.00                0.10\n",
      "8         1.0           78.00          78.75                0.02\n",
      "9         1.0           78.75          79.50                0.02\n",
      "10        0.0           79.50          80.25                0.00\n"
     ]
    },
    {
     "data": {
      "image/png": "[encoded data removed]",
      "text/plain": [
       "<matplotlib.figure.Figure at 0x1081d7c88>"
      ]
     },
     "metadata": {},
     "output_type": "display_data"
    },
    {
     "name": "stdout",
     "output_type": "stream",
     "text": [
      "\n",
      "\n",
      "    frequency  interval_start  interval_stop  relative_frequency\n",
      "0        7.0            72.0           74.0                0.14\n",
      "1       28.0            74.0           76.0                0.56\n",
      "2       13.0            76.0           78.0                0.26\n",
      "3        2.0            78.0           80.0                0.04\n"
     ]
    },
    {
     "data": {
      "image/png": "[encoded data removed]",
      "text/plain": [
       "<matplotlib.figure.Figure at 0x10b7eaf98>"
      ]
     },
     "metadata": {},
     "output_type": "display_data"
    }
   ],
   "source": [
    "data_ya_75 = plt.hist(table1_1.YA, bins=np.arange(np.floor(min(table1_1.YA)), np.ceil(max(table1_1.YA))+1, 0.75))\n",
    "\n",
    "freq_ya_75 = pd.DataFrame(data_ya_75[0], columns=['frequency'])\n",
    "freq_ya_75['interval_start'] = data_ya_75[1][:-1]\n",
    "freq_ya_75['interval_stop'] = data_ya_75[1][1:]\n",
    "freq_ya_75['relative_frequency'] = freq_ya_75.frequency/sum(freq_ya_75.frequency)\n",
    "print(freq_ya_75)\n",
    "\n",
    "plt.grid(True)\n",
    "plt.title('Yield of A (bin_size=0.75)')\n",
    "plt.show()\n",
    "\n",
    "\n",
    "\n",
    "data_ya_2 = plt.hist(table1_1.YA, bins=np.arange(np.floor(min(table1_1.YA)), np.ceil(max(table1_1.YA))+1, 2))\n",
    "\n",
    "freq_ya_2 = pd.DataFrame(data_ya_2[0], columns=['frequency'])\n",
    "freq_ya_2['interval_start'] = data_ya_2[1][:-1]\n",
    "freq_ya_2['interval_stop'] = data_ya_2[1][1:]\n",
    "freq_ya_2['relative_frequency'] = freq_ya_2.frequency/sum(freq_ya_2.frequency)\n",
    "print(\"\\n\\n\", freq_ya_2)\n",
    "\n",
    "plt.grid(True)\n",
    "plt.title('Yield of A (bin_size=2)')\n",
    "plt.show()"
   ]
  },
  {
   "cell_type": "markdown",
   "metadata": {},
   "source": [
    "> #### `Observations:`\n",
    "\n",
    "> 1. As the bin size increases, the information content of histogram decreases. The first histogram (bin_size: 0.75) is more informative than second (bin_size: 2).\n",
    "> 2. When compared to Fig 12.8 (bin_size: 1), we see that first histogram (bin_size: 0.75) is similar to it. Both show the highest frequency at 75. Both show a sharp decrease in frequency as we move from 75 to 76. This frequency level is maintained till 78 and then it decreases further.\n",
    "> 3. The second histogram (bin_size: 2) is broadly similar to Fig 12.8 (bin_size: 1) but is not as informative. It shows highest frequency in the range 74-76 and not precisely at 75. It shows decrease in frequency in the range 76-78 and further decrease afterwards."
   ]
  },
  {
   "cell_type": "code",
   "execution_count": null,
   "metadata": {},
   "outputs": [],
   "source": []
  },
  {
   "cell_type": "markdown",
   "metadata": {},
   "source": [
    "Compare $Y_B$ data with histogram in Fig 1.2\n",
    "\n",
    "<table><tr><td><img src='Fig1_2.png' width=400></td></tr></table>"
   ]
  },
  {
   "cell_type": "code",
   "execution_count": 14,
   "metadata": {},
   "outputs": [
    {
     "name": "stdout",
     "output_type": "stream",
     "text": [
      "    frequency  interval_start  interval_stop  relative_frequency\n",
      "0         1.0           67.00          67.75                0.02\n",
      "1         3.0           67.75          68.50                0.06\n",
      "2         3.0           68.50          69.25                0.06\n",
      "3         2.0           69.25          70.00                0.04\n",
      "4         7.0           70.00          70.75                0.14\n",
      "5         4.0           70.75          71.50                0.08\n",
      "6         4.0           71.50          72.25                0.08\n",
      "7         6.0           72.25          73.00                0.12\n",
      "8         2.0           73.00          73.75                0.04\n",
      "9         5.0           73.75          74.50                0.10\n",
      "10        3.0           74.50          75.25                0.06\n",
      "11        6.0           75.25          76.00                0.12\n",
      "12        2.0           76.00          76.75                0.04\n",
      "13        0.0           76.75          77.50                0.00\n",
      "14        0.0           77.50          78.25                0.00\n",
      "15        2.0           78.25          79.00                0.04\n",
      "16        0.0           79.00          79.75                0.00\n"
     ]
    },
    {
     "data": {
      "image/png": "[encoded data removed]",
      "text/plain": [
       "<matplotlib.figure.Figure at 0x10b727828>"
      ]
     },
     "metadata": {},
     "output_type": "display_data"
    },
    {
     "name": "stdout",
     "output_type": "stream",
     "text": [
      "\n",
      "\n",
      "    frequency  interval_start  interval_stop  relative_frequency\n",
      "0        5.0            67.0           69.0                0.10\n",
      "1       12.0            69.0           71.0                0.24\n",
      "2       13.0            71.0           73.0                0.26\n",
      "3       10.0            73.0           75.0                0.20\n",
      "4        8.0            75.0           77.0                0.16\n",
      "5        2.0            77.0           79.0                0.04\n"
     ]
    },
    {
     "data": {
      "image/png": "[encoded data removed]",
      "text/plain": [
       "<matplotlib.figure.Figure at 0x10b8740f0>"
      ]
     },
     "metadata": {},
     "output_type": "display_data"
    }
   ],
   "source": [
    "data_yb_75 = plt.hist(table1_1.YB, bins=np.arange(np.floor(min(table1_1.YB)), np.ceil(max(table1_1.YB))+1, 0.75))\n",
    "\n",
    "freq_yb_75 = pd.DataFrame(data_yb_75[0], columns=['frequency'])\n",
    "freq_yb_75['interval_start'] = data_yb_75[1][:-1]\n",
    "freq_yb_75['interval_stop'] = data_yb_75[1][1:]\n",
    "freq_yb_75['relative_frequency'] = freq_yb_75.frequency/sum(freq_yb_75.frequency)\n",
    "print(freq_yb_75)\n",
    "plt.grid(True)\n",
    "plt.title('Yield of B (bin_size=0.75)')\n",
    "plt.show()\n",
    "\n",
    "\n",
    "\n",
    "data_yb_2 = plt.hist(table1_1.YB, bins=np.arange(np.floor(min(table1_1.YB)), np.ceil(max(table1_1.YB))+1, 2))\n",
    "\n",
    "freq_yb_2 = pd.DataFrame(data_yb_2[0], columns=['frequency'])\n",
    "freq_yb_2['interval_start'] = data_yb_2[1][:-1]\n",
    "freq_yb_2['interval_stop'] = data_yb_2[1][1:]\n",
    "freq_yb_2['relative_frequency'] = freq_yb_2.frequency/sum(freq_yb_2.frequency)\n",
    "print(\"\\n\\n\", freq_yb_2)\n",
    "\n",
    "plt.grid(True)\n",
    "plt.title('Yield of B (bin_size=2)')\n",
    "plt.show()"
   ]
  },
  {
   "cell_type": "markdown",
   "metadata": {},
   "source": [
    "> #### `Observations:`\n",
    "\n",
    "> 1. First histogram (bin_size: 0.75) is similar to Fig 1.2 (bin_size: 1). In both the histograms, the range 70-76 is highly populated and the frequency at 77 is zero. The regions outside this range are less populated. \n",
    "> 2. The second histogram (bin_size: 2) is not much like Fig 12.8 (bin_size: 1). It shows highest frequency in the range 69-77. The shape of histogram differs a lot from Fig 1.2"
   ]
  },
  {
   "cell_type": "code",
   "execution_count": null,
   "metadata": {},
   "outputs": [],
   "source": []
  },
  {
   "cell_type": "code",
   "execution_count": null,
   "metadata": {},
   "outputs": [],
   "source": []
  },
  {
   "cell_type": "markdown",
   "metadata": {},
   "source": [
    "# Exercise 1.7"
   ]
  },
  {
   "cell_type": "markdown",
   "metadata": {},
   "source": [
    "From the frequency distribution in Table 12.3 (same as table 1.3) and the  values computed for the average, $\\bar{y}_A$, and variance, $s^2_A$ of the yield data set, $Y_A$, determine the percentage of the data contained in the interval $\\bar{y}_A \\pm 1.96 s_A$, where $s_A$ is the positive square root of the variance, $s^2_A$.\n",
    "\n",
    "<table><tr><td><img src='Table1_3.png' width=300></td></tr></table>"
   ]
  },
  {
   "cell_type": "code",
   "execution_count": 15,
   "metadata": {},
   "outputs": [
    {
     "name": "stdout",
     "output_type": "stream",
     "text": [
      "   interval_start  interval_stop  Frequency  Relative Frequency\n",
      "0           71.51           72.5          1                0.02\n",
      "1           72.51           73.5          2                0.04\n",
      "2           73.51           74.5          9                0.18\n",
      "3           74.51           75.5         17                0.34\n",
      "4           75.51           76.5          7                0.14\n",
      "5           76.51           77.5          8                0.16\n",
      "6           77.51           78.5          5                0.10\n",
      "7           78.51           79.5          1                0.02\n",
      "\u001b[1m\n",
      "\n",
      "–––––––– Results from comparing actual data: ––––––––\u001b[0m\n",
      "\n",
      "The required interval is: (72.71301216912423 - 78.32459583087578)\n",
      "\n",
      "96.0% data lies within one standard deviation from mean.\n",
      "\u001b[1m\n",
      "\n",
      "–––––––– Results using frequency table intervals without adjustment: ––––––––\u001b[0m\n",
      "\n",
      "The required interval is: (72.71301216912423 - 78.32459583087578)\n",
      "\n",
      "82.0% data lies within one standard deviation from mean.\n",
      "\u001b[1m\n",
      "\n",
      "–––––––– Results using frequency table intervals with adjustment: ––––––––\u001b[0m\n",
      "\n",
      "The adjusted interval is: (72.21301216912423 - 78.82459583087578)\n",
      "\n",
      "96.0% data lies within one standard deviation from mean.\n"
     ]
    }
   ],
   "source": [
    "print(table1_3)\n",
    "\n",
    "std_ya = np.sqrt(var_ya)\n",
    "\n",
    "range_start = avg_ya - 1.96*std_ya\n",
    "range_stop = avg_ya + 1.96*std_ya\n",
    "\n",
    "\n",
    "# Percentage of data within one standard deviation (by comparing values) \n",
    "data_1std = [x for x in table1_1.YA if x >= range_start and x <= range_stop]\n",
    "data_1std = len(data_1std)/n_yield\n",
    "print(bold + \"\\n\\n{} Results from comparing actual data: {}\".format('–'*8, '–'*8) + end)\n",
    "print(\"\\nThe required interval is: ({} - {})\".format(range_start, range_stop))\n",
    "print(\"\\n{}% data lies within one standard deviation from mean.\".format(data_1std*100))\n",
    "\n",
    "\n",
    "\n",
    "# Percentage of data within one standard deviation (using frequency table intervals without adjustment) \n",
    "data_1std = table1_3[(table1_3.interval_start > range_start) & (table1_3.interval_stop < range_stop)]\n",
    "data_1std = data_1std['Relative Frequency'].sum().round(2)\n",
    "print(bold + \"\\n\\n{} Results using frequency table intervals without adjustment: {}\".format('–'*8, '–'*8) + end)\n",
    "print(\"\\nThe required interval is: ({} - {})\".format(range_start, range_stop))\n",
    "print(\"\\n{}% data lies within one standard deviation from mean.\".format(data_1std*100))\n",
    "\n",
    "\n",
    "\n",
    "# Percentage of data within one standard deviation (using frequency table intervals with adjustment) \n",
    "bin_size = (table1_3.interval_stop[0] - table1_3.interval_start[0]).round()\n",
    "\n",
    "# Adjusting ranges to include data points left (if any). Range_start is decreased and range_stop is increased by\n",
    "# an amount bin_size/2 to make the range larger by 1 bin_size. Adjustment of half a bin_size will not add a \n",
    "# whole bin at any end, but will help include the bin which is already included half or more.\n",
    "range_start -= bin_size/2\n",
    "range_stop += bin_size/2\n",
    "\n",
    "data_1std = table1_3[(table1_3.interval_start > range_start) & (table1_3.interval_stop < range_stop)]\n",
    "data_1std = data_1std['Relative Frequency'].sum().round(2)\n",
    "print(bold + \"\\n\\n{} Results using frequency table intervals with adjustment: {}\".format('–'*8, '–'*8) + end)\n",
    "print(\"\\nThe adjusted interval is: ({} - {})\".format(range_start, range_stop))\n",
    "print(\"\\n{}% data lies within one standard deviation from mean.\".format(data_1std*100))"
   ]
  },
  {
   "cell_type": "code",
   "execution_count": null,
   "metadata": {},
   "outputs": [],
   "source": []
  },
  {
   "cell_type": "code",
   "execution_count": null,
   "metadata": {},
   "outputs": [],
   "source": []
  },
  {
   "cell_type": "markdown",
   "metadata": {},
   "source": [
    "# Exercise 1.8"
   ]
  },
  {
   "cell_type": "markdown",
   "metadata": {},
   "source": [
    "Repeat Exercise 1.7 for the $Y_B$ data in  Table 1.4. Determine the percentage of the data contained in the interval $\\bar{y}_B \\pm 1.96 s_B$.\n",
    "\n",
    "<table><tr><td><img src='Table1_4.png' width=300></td></tr></table>"
   ]
  },
  {
   "cell_type": "code",
   "execution_count": 16,
   "metadata": {},
   "outputs": [
    {
     "name": "stdout",
     "output_type": "stream",
     "text": [
      "    interval_start  interval_stop  Frequency  Relative Frequency\n",
      "0            66.51           67.5          1                0.02\n",
      "1            67.51           68.5          3                0.06\n",
      "2            68.51           69.5          4                0.08\n",
      "3            69.51           70.5          8                0.16\n",
      "4            70.51           71.5          4                0.08\n",
      "5            71.51           72.5          7                0.14\n",
      "6            72.51           73.5          4                0.08\n",
      "7            73.51           74.5          6                0.12\n",
      "8            74.51           75.5          5                0.10\n",
      "9            75.51           76.5          6                0.12\n",
      "10           76.51           77.5          0                0.00\n",
      "11           77.51           78.5          2                0.04\n",
      "12           78.51           79.5          0                0.00\n",
      "\u001b[1m\n",
      "\n",
      "–––––––– Results from comparing actual data: ––––––––\u001b[0m\n",
      "\n",
      "The required interval is: (67.05450176639319 - 77.88964223360684)\n",
      "\n",
      "96.0% data lies within one standard deviation from mean.\n",
      "\u001b[1m\n",
      "\n",
      "–––––––– Results using frequency table intervals without adjustment: ––––––––\u001b[0m\n",
      "\n",
      "The required interval is: (67.05450176639319 - 77.88964223360684)\n",
      "\n",
      "94.0% data lies within one standard deviation from mean.\n",
      "\u001b[1m\n",
      "\n",
      "–––––––– Results using frequency table intervals with adjustment: ––––––––\u001b[0m\n",
      "\n",
      "The adjusted interval is: (66.55450176639319 - 78.38964223360684)\n",
      "\n",
      "94.0% data lies within one standard deviation from mean.\n"
     ]
    }
   ],
   "source": [
    "print(table1_4)\n",
    "\n",
    "std_yb = np.sqrt(var_yb)\n",
    "\n",
    "range_start = avg_yb - 1.96*std_yb\n",
    "range_stop = avg_yb + 1.96*std_yb\n",
    "\n",
    "\n",
    "# Percentage of data within one standard deviation (by comparing values) \n",
    "data_1std = [x for x in table1_1.YB if x >= range_start and x <= range_stop]\n",
    "data_1std = len(data_1std)/n_yield\n",
    "print(bold + \"\\n\\n{} Results from comparing actual data: {}\".format('–'*8, '–'*8) + end)\n",
    "print(\"\\nThe required interval is: ({} - {})\".format(range_start, range_stop))\n",
    "print(\"\\n{}% data lies within one standard deviation from mean.\".format(data_1std*100))\n",
    "\n",
    "\n",
    "\n",
    "# Percentage of data within one standard deviation (using frequency table intervals without adjustment) \n",
    "data_1std = table1_4[(table1_4.interval_start > range_start) & (table1_4.interval_stop < range_stop)]\n",
    "data_1std = data_1std['Relative Frequency'].sum().round(2)\n",
    "print(bold + \"\\n\\n{} Results using frequency table intervals without adjustment: {}\".format('–'*8, '–'*8) + end)\n",
    "print(\"\\nThe required interval is: ({} - {})\".format(range_start, range_stop))\n",
    "print(\"\\n{}% data lies within one standard deviation from mean.\".format(data_1std*100))\n",
    "\n",
    "\n",
    "\n",
    "# Percentage of data within one standard deviation (using frequency table intervals with adjustment) \n",
    "bin_size = (table1_4.interval_stop[0] - table1_4.interval_start[0]).round()\n",
    "\n",
    "# Adjusting ranges to include data points left (if any). Range_start is decreased and range_stop is increased by\n",
    "# an amount bin_size/2 to make the range larger by 1 bin_size. Adjustment of half a bin_size will not add a \n",
    "# whole bin at any end, but will help include the bin which is already included half or more.\n",
    "range_start -= bin_size/2\n",
    "range_stop += bin_size/2\n",
    "\n",
    "data_1std = table1_4[(table1_4.interval_start > range_start) & (table1_4.interval_stop < range_stop)]\n",
    "data_1std = data_1std['Relative Frequency'].sum().round(2)\n",
    "print(bold + \"\\n\\n{} Results using frequency table intervals with adjustment: {}\".format('–'*8, '–'*8) + end)\n",
    "print(\"\\nThe adjusted interval is: ({} - {})\".format(range_start, range_stop))\n",
    "print(\"\\n{}% data lies within one standard deviation from mean.\".format(data_1std*100))"
   ]
  },
  {
   "cell_type": "markdown",
   "metadata": {},
   "source": [
    "> #### `Observations/Note:`\n",
    "\n",
    "> Turns out that the adjustment method I chose was not good enough to capture all the data points. It missed some data points by a margin of 0.06. The adjustment method wasn't too bad but isn't reliable as well. If only the frequency table is available, better ways need to used (I didn't find any method to do it, so not sure what the better ways are)."
   ]
  },
  {
   "cell_type": "code",
   "execution_count": null,
   "metadata": {},
   "outputs": [],
   "source": []
  },
  {
   "cell_type": "code",
   "execution_count": null,
   "metadata": {},
   "outputs": [],
   "source": []
  },
  {
   "cell_type": "markdown",
   "metadata": {},
   "source": [
    "# Exercise 1.9"
   ]
  },
  {
   "cell_type": "markdown",
   "metadata": {},
   "source": [
    "From Table 1.5 determine the value of $x$ such that only 5% of the data exceeds this value.\n",
    "\n",
    "<table><tr><td><img src='Table1_5.png' width=300></td></tr></table>"
   ]
  },
  {
   "cell_type": "code",
   "execution_count": 17,
   "metadata": {},
   "outputs": [
    {
     "name": "stdout",
     "output_type": "stream",
     "text": [
      "   x  Frequency  Relative Frequency\n",
      "0  0         22               0.367\n",
      "1  1         23               0.383\n",
      "2  2         11               0.183\n",
      "3  3          1               0.017\n",
      "4  4          2               0.033\n",
      "5  5          1               0.017\n",
      "6  6          0               0.000\n",
      "\u001b[1m\n",
      "\n",
      "–––––––– Results using only frequency table: ––––––––\u001b[0m\n",
      "The value such that only 5% data exceeds it is: 3\n",
      "\u001b[1m\n",
      "\n",
      "–––––––– Results using data points: ––––––––\u001b[0m\n",
      "The value such that only 5% data exceeds it is: 3\n",
      "\u001b[1m\n",
      "\n",
      "–––––––– Results using built-in functions: ––––––––\u001b[0m\n",
      "Using Pandas.Series.quantile():\n",
      "The value such that only 5% data exceeds it is: 3.049999999999997\n",
      "\n",
      "Using Numpy.percentile():\n",
      "The value such that only 5% data exceeds it is: 3.049999999999997\n"
     ]
    }
   ],
   "source": [
    "print(table1_5)\n",
    "\n",
    "# Only 5% data exceeding a value => 95% of data is less than that value\n",
    "percentile = 1 - 0.05\n",
    "\n",
    "\n",
    "# If only frequency table is available\n",
    "data = []\n",
    "for _, row in table1_5.iterrows():\n",
    "    data.extend([int(row.x)]*int(row.Frequency))\n",
    "\n",
    "#since data is already sorted, no sorting is required\n",
    "l = len(data) - 1  # subtracting 1 for zero-based indexing\n",
    "print(bold + \"\\n\\n{} Results using only frequency table: {}\".format('–'*8, '–'*8) + end)\n",
    "print(\"The value such that only 5% data exceeds it is: {}\".format(data[int(l*percentile)]))\n",
    "\n",
    "\n",
    "\n",
    "# Since we have the data available to us in table1.2, we can skip generating 'data' list\n",
    "# We can directly take data from the table1.2\n",
    "# Note: As we can see from table1.2, this time the data needs sorting\n",
    "data = sorted(table1_2.Inclusions.values)\n",
    "\n",
    "l = len(data) - 1  # subtracting 1 for zero-based indexing\n",
    "print(bold + \"\\n\\n{} Results using data points: {}\".format('–'*8, '–'*8) + end)\n",
    "print(\"The value such that only 5% data exceeds it is: {}\".format(data[int(l*percentile)]))\n",
    "\n",
    "\n",
    "# Using built-in functions for percentiles/Quantiles\n",
    "print(bold + \"\\n\\n{} Results using built-in functions: {}\".format('–'*8, '–'*8) + end)\n",
    "print(\"Using Pandas.Series.quantile():\")\n",
    "print(\"The value such that only 5% data exceeds it is: {}\".format(table1_2.Inclusions.quantile(0.95)))\n",
    "\n",
    "print(\"\\nUsing Numpy.percentile():\")\n",
    "print(\"The value such that only 5% data exceeds it is: {}\".format(np.percentile(data, 95)))"
   ]
  },
  {
   "cell_type": "markdown",
   "metadata": {},
   "source": [
    "> #### `Observations:`\n",
    "\n",
    "> Since the built-in methods use interpolation (mentioned ion documentation), the results are different from those with manual computations."
   ]
  },
  {
   "cell_type": "code",
   "execution_count": null,
   "metadata": {},
   "outputs": [],
   "source": []
  },
  {
   "cell_type": "code",
   "execution_count": null,
   "metadata": {},
   "outputs": [],
   "source": []
  },
  {
   "cell_type": "markdown",
   "metadata": {},
   "source": [
    "# Exercise 1.10"
   ]
  },
  {
   "cell_type": "markdown",
   "metadata": {},
   "source": [
    "Using $\\mu=75.52$ and $\\sigma= 1.43$, compute theoretical values of the function in Eq 4.155 (also Eq 1.3) given below <br><br>\n",
    "$$\n",
    "f(y|\\mu, \\sigma) = \\frac{1}{\\sigma\\sqrt{2\\pi}}e^{\\frac{-(y-\\mu)^2}{2\n",
    "    \\sigma^2}}; - \\infty < y < \\infty\n",
    "$$\n",
    "\n",
    "at the center points of the frequency groups for the $Y_A$ data in Table 1.3; i.e., for $y= 72, 73, \\ldots, 79$.  Compare these theoretical values with the corresponding relative frequency values."
   ]
  },
  {
   "cell_type": "code",
   "execution_count": 18,
   "metadata": {},
   "outputs": [
    {
     "name": "stdout",
     "output_type": "stream",
     "text": [
      "\n",
      "Avg Difference Percentage:  34.123011014662225\n"
     ]
    },
    {
     "data": {
      "text/html": [
       "<div>\n",
       "<style scoped>\n",
       "    .dataframe tbody tr th:only-of-type {\n",
       "        vertical-align: middle;\n",
       "    }\n",
       "\n",
       "    .dataframe tbody tr th {\n",
       "        vertical-align: top;\n",
       "    }\n",
       "\n",
       "    .dataframe thead th {\n",
       "        text-align: right;\n",
       "    }\n",
       "</style>\n",
       "<table border=\"1\" class=\"dataframe\">\n",
       "  <thead>\n",
       "    <tr style=\"text-align: right;\">\n",
       "      <th></th>\n",
       "      <th>72.0</th>\n",
       "      <th>73.0</th>\n",
       "      <th>74.0</th>\n",
       "      <th>75.0</th>\n",
       "      <th>76.0</th>\n",
       "      <th>77.0</th>\n",
       "      <th>78.0</th>\n",
       "      <th>79.0</th>\n",
       "    </tr>\n",
       "  </thead>\n",
       "  <tbody>\n",
       "    <tr>\n",
       "      <th>Theoretical Values</th>\n",
       "      <td>0.01348</td>\n",
       "      <td>0.05905</td>\n",
       "      <td>0.15857</td>\n",
       "      <td>0.26113</td>\n",
       "      <td>0.2637</td>\n",
       "      <td>0.16330</td>\n",
       "      <td>0.06201</td>\n",
       "      <td>0.01444</td>\n",
       "    </tr>\n",
       "    <tr>\n",
       "      <th>Relative Frequency</th>\n",
       "      <td>0.02000</td>\n",
       "      <td>0.04000</td>\n",
       "      <td>0.18000</td>\n",
       "      <td>0.34000</td>\n",
       "      <td>0.1400</td>\n",
       "      <td>0.16000</td>\n",
       "      <td>0.10000</td>\n",
       "      <td>0.02000</td>\n",
       "    </tr>\n",
       "    <tr>\n",
       "      <th>Difference</th>\n",
       "      <td>0.00652</td>\n",
       "      <td>-0.01905</td>\n",
       "      <td>0.02143</td>\n",
       "      <td>0.07887</td>\n",
       "      <td>-0.1237</td>\n",
       "      <td>-0.00330</td>\n",
       "      <td>0.03799</td>\n",
       "      <td>0.00556</td>\n",
       "    </tr>\n",
       "    <tr>\n",
       "      <th>Difference Percentage</th>\n",
       "      <td>48.31612</td>\n",
       "      <td>-32.26193</td>\n",
       "      <td>13.51129</td>\n",
       "      <td>30.20228</td>\n",
       "      <td>-46.9091</td>\n",
       "      <td>-2.01857</td>\n",
       "      <td>61.26305</td>\n",
       "      <td>38.50175</td>\n",
       "    </tr>\n",
       "  </tbody>\n",
       "</table>\n",
       "</div>"
      ],
      "text/plain": [
       "                           72.0      73.0      74.0      75.0     76.0  \\\n",
       "Theoretical Values      0.01348   0.05905   0.15857   0.26113   0.2637   \n",
       "Relative Frequency      0.02000   0.04000   0.18000   0.34000   0.1400   \n",
       "Difference              0.00652  -0.01905   0.02143   0.07887  -0.1237   \n",
       "Difference Percentage  48.31612 -32.26193  13.51129  30.20228 -46.9091   \n",
       "\n",
       "                          77.0      78.0      79.0  \n",
       "Theoretical Values     0.16330   0.06201   0.01444  \n",
       "Relative Frequency     0.16000   0.10000   0.02000  \n",
       "Difference            -0.00330   0.03799   0.00556  \n",
       "Difference Percentage -2.01857  61.26305  38.50175  "
      ]
     },
     "execution_count": 18,
     "metadata": {},
     "output_type": "execute_result"
    }
   ],
   "source": [
    "def function_of_y(y, mu=75.52, sigma=1.43):\n",
    "    value = (1/(sigma*np.sqrt(2*np.pi)))*np.exp(-((y-mu)**2)/(2*(sigma**2)))\n",
    "    return value\n",
    "\n",
    "center_points = (table1_3.interval_start + table1_3.interval_stop)/2\n",
    "center_points = center_points.values.round()\n",
    "\n",
    "theoretical_values = []\n",
    "for centre_pt in center_points:\n",
    "    theoretical_values.append(function_of_y(centre_pt))\n",
    "    \n",
    "comparision_df = pd.DataFrame(\n",
    "    [theoretical_values, table1_3['Relative Frequency'].values.tolist()],\n",
    "    columns=center_points,\n",
    "    index=['Theoretical Values', 'Relative Frequency']\n",
    ")\n",
    "\n",
    "# diff = Relative freq - Theoretical Vals\n",
    "difference = pd.Series(comparision_df.iloc[1][:] - comparision_df.iloc[0][:])\n",
    "difference.name = 'Difference'\n",
    "comparision_df = comparision_df.append(difference)\n",
    "\n",
    "difference = (difference/comparision_df.iloc[0][:])*100 # (diff/Theoretical_vals)*100\n",
    "difference.name = 'Difference Percentage'\n",
    "comparision_df = comparision_df.append(difference)\n",
    "\n",
    "print(\"\\nAvg Difference Percentage: \", abs(comparision_df.iloc[3][:].values).mean())\n",
    "comparision_df.round(5)"
   ]
  },
  {
   "cell_type": "markdown",
   "metadata": {},
   "source": [
    "> #### `Observations:`\n",
    "\n",
    "> The model results are close to some values (for 77, 74) and way off for others. The average difference percentage is too high (34%). Such a model is not very useful in real world."
   ]
  },
  {
   "cell_type": "code",
   "execution_count": null,
   "metadata": {},
   "outputs": [],
   "source": []
  },
  {
   "cell_type": "code",
   "execution_count": null,
   "metadata": {},
   "outputs": [],
   "source": []
  },
  {
   "cell_type": "markdown",
   "metadata": {},
   "source": [
    "# Exercise 1.11"
   ]
  },
  {
   "cell_type": "markdown",
   "metadata": {},
   "source": [
    "Repeat Exercise 1.10 for $Y_B$ data and Table 1.4"
   ]
  },
  {
   "cell_type": "code",
   "execution_count": 19,
   "metadata": {},
   "outputs": [
    {
     "name": "stdout",
     "output_type": "stream",
     "text": [
      "\n",
      "Avg Difference Percentage:  29928761.803127747\n"
     ]
    },
    {
     "data": {
      "text/html": [
       "<div>\n",
       "<style scoped>\n",
       "    .dataframe tbody tr th:only-of-type {\n",
       "        vertical-align: middle;\n",
       "    }\n",
       "\n",
       "    .dataframe tbody tr th {\n",
       "        vertical-align: top;\n",
       "    }\n",
       "\n",
       "    .dataframe thead th {\n",
       "        text-align: right;\n",
       "    }\n",
       "</style>\n",
       "<table border=\"1\" class=\"dataframe\">\n",
       "  <thead>\n",
       "    <tr style=\"text-align: right;\">\n",
       "      <th></th>\n",
       "      <th>67.0</th>\n",
       "      <th>68.0</th>\n",
       "      <th>69.0</th>\n",
       "      <th>70.0</th>\n",
       "      <th>71.0</th>\n",
       "      <th>72.0</th>\n",
       "      <th>73.0</th>\n",
       "      <th>74.0</th>\n",
       "      <th>75.0</th>\n",
       "      <th>76.0</th>\n",
       "      <th>77.0</th>\n",
       "      <th>78.0</th>\n",
       "      <th>79.0</th>\n",
       "    </tr>\n",
       "  </thead>\n",
       "  <tbody>\n",
       "    <tr>\n",
       "      <th>Theoretical Values</th>\n",
       "      <td>0.000000e+00</td>\n",
       "      <td>0.000000e+00</td>\n",
       "      <td>0.0000</td>\n",
       "      <td>0.0002</td>\n",
       "      <td>0.0019</td>\n",
       "      <td>0.0135</td>\n",
       "      <td>0.0591</td>\n",
       "      <td>0.1586</td>\n",
       "      <td>0.2611</td>\n",
       "      <td>0.2637</td>\n",
       "      <td>0.1633</td>\n",
       "      <td>0.0620</td>\n",
       "      <td>0.0144</td>\n",
       "    </tr>\n",
       "    <tr>\n",
       "      <th>Relative Frequency</th>\n",
       "      <td>2.000000e-02</td>\n",
       "      <td>6.000000e-02</td>\n",
       "      <td>0.0800</td>\n",
       "      <td>0.1600</td>\n",
       "      <td>0.0800</td>\n",
       "      <td>0.1400</td>\n",
       "      <td>0.0800</td>\n",
       "      <td>0.1200</td>\n",
       "      <td>0.1000</td>\n",
       "      <td>0.1200</td>\n",
       "      <td>0.0000</td>\n",
       "      <td>0.0400</td>\n",
       "      <td>0.0000</td>\n",
       "    </tr>\n",
       "    <tr>\n",
       "      <th>Difference</th>\n",
       "      <td>2.000000e-02</td>\n",
       "      <td>6.000000e-02</td>\n",
       "      <td>0.0800</td>\n",
       "      <td>0.1598</td>\n",
       "      <td>0.0781</td>\n",
       "      <td>0.1265</td>\n",
       "      <td>0.0209</td>\n",
       "      <td>-0.0386</td>\n",
       "      <td>-0.1611</td>\n",
       "      <td>-0.1437</td>\n",
       "      <td>-0.1633</td>\n",
       "      <td>-0.0220</td>\n",
       "      <td>-0.0144</td>\n",
       "    </tr>\n",
       "    <tr>\n",
       "      <th>Difference Percentage</th>\n",
       "      <td>3.662739e+08</td>\n",
       "      <td>2.175921e+07</td>\n",
       "      <td>936773.5749</td>\n",
       "      <td>98570.5271</td>\n",
       "      <td>4136.5588</td>\n",
       "      <td>938.2129</td>\n",
       "      <td>35.4761</td>\n",
       "      <td>-24.3258</td>\n",
       "      <td>-61.7052</td>\n",
       "      <td>-54.4935</td>\n",
       "      <td>-100.0000</td>\n",
       "      <td>-35.4948</td>\n",
       "      <td>-100.0000</td>\n",
       "    </tr>\n",
       "  </tbody>\n",
       "</table>\n",
       "</div>"
      ],
      "text/plain": [
       "                               67.0          68.0         69.0        70.0  \\\n",
       "Theoretical Values     0.000000e+00  0.000000e+00       0.0000      0.0002   \n",
       "Relative Frequency     2.000000e-02  6.000000e-02       0.0800      0.1600   \n",
       "Difference             2.000000e-02  6.000000e-02       0.0800      0.1598   \n",
       "Difference Percentage  3.662739e+08  2.175921e+07  936773.5749  98570.5271   \n",
       "\n",
       "                            71.0      72.0     73.0     74.0     75.0  \\\n",
       "Theoretical Values        0.0019    0.0135   0.0591   0.1586   0.2611   \n",
       "Relative Frequency        0.0800    0.1400   0.0800   0.1200   0.1000   \n",
       "Difference                0.0781    0.1265   0.0209  -0.0386  -0.1611   \n",
       "Difference Percentage  4136.5588  938.2129  35.4761 -24.3258 -61.7052   \n",
       "\n",
       "                          76.0      77.0     78.0      79.0  \n",
       "Theoretical Values      0.2637    0.1633   0.0620    0.0144  \n",
       "Relative Frequency      0.1200    0.0000   0.0400    0.0000  \n",
       "Difference             -0.1437   -0.1633  -0.0220   -0.0144  \n",
       "Difference Percentage -54.4935 -100.0000 -35.4948 -100.0000  "
      ]
     },
     "execution_count": 19,
     "metadata": {},
     "output_type": "execute_result"
    }
   ],
   "source": [
    "def function_of_y(y, mu=75.52, sigma=1.43):\n",
    "    value = (1/(sigma*np.sqrt(2*np.pi)))*np.exp(-((y-mu)**2)/(2*(sigma**2)))\n",
    "    return value\n",
    "\n",
    "center_points = (table1_4.interval_start + table1_4.interval_stop)/2\n",
    "center_points = center_points.values.round()\n",
    "\n",
    "theoretical_values = []\n",
    "for centre_pt in center_points:\n",
    "    theoretical_values.append(function_of_y(centre_pt))\n",
    "    \n",
    "comparision_df = pd.DataFrame(\n",
    "    [theoretical_values, table1_4['Relative Frequency'].values.tolist()],\n",
    "    columns=center_points,\n",
    "    index=['Theoretical Values', 'Relative Frequency']\n",
    ")\n",
    "\n",
    "# diff = Relative freq - Theoretical Vals\n",
    "difference = pd.Series(comparision_df.iloc[1][:] - comparision_df.iloc[0][:])\n",
    "difference.name = 'Difference'\n",
    "comparision_df = comparision_df.append(difference)\n",
    "\n",
    "difference = (difference/comparision_df.iloc[0][:])*100 # (diff/Theoretical_vals)*100\n",
    "difference.name = 'Difference Percentage'\n",
    "comparision_df = comparision_df.append(difference)\n",
    "\n",
    "print(\"\\nAvg Difference Percentage: \", abs(comparision_df.iloc[3][:].values).mean())\n",
    "comparision_df.round(4)"
   ]
  },
  {
   "cell_type": "markdown",
   "metadata": {},
   "source": [
    "> #### `Observations:`\n",
    "\n",
    "> This results are horrible! Even the closest value off by 24% and the average difference percentage is way too large!"
   ]
  },
  {
   "cell_type": "code",
   "execution_count": null,
   "metadata": {},
   "outputs": [],
   "source": []
  },
  {
   "cell_type": "code",
   "execution_count": null,
   "metadata": {},
   "outputs": [],
   "source": []
  },
  {
   "cell_type": "markdown",
   "metadata": {},
   "source": [
    "# Exercise 1.12"
   ]
  },
  {
   "cell_type": "markdown",
   "metadata": {},
   "source": [
    "Using $\\lambda = 1.02$, compute theoretical values of the function $f(x|\\lambda)$ in Eq 4.40 (also Eq 1.4) given below <br> <br>\n",
    "$$\n",
    "f(x|\\lambda) = \\frac{e^{-\\lambda}\\lambda^x}{x!}; x= 0, 1, 2,\\ldots\n",
    "$$\n",
    "\n",
    "at $x= 0, 1, 2, \\ldots 6$ and compare with the corresponding relative frequency values in Table 1.5"
   ]
  },
  {
   "cell_type": "code",
   "execution_count": 20,
   "metadata": {},
   "outputs": [
    {
     "name": "stdout",
     "output_type": "stream",
     "text": [
      "\n",
      "Avg Difference Percentage:  99.57223281011709\n"
     ]
    },
    {
     "data": {
      "text/html": [
       "<div>\n",
       "<style scoped>\n",
       "    .dataframe tbody tr th:only-of-type {\n",
       "        vertical-align: middle;\n",
       "    }\n",
       "\n",
       "    .dataframe tbody tr th {\n",
       "        vertical-align: top;\n",
       "    }\n",
       "\n",
       "    .dataframe thead th {\n",
       "        text-align: right;\n",
       "    }\n",
       "</style>\n",
       "<table border=\"1\" class=\"dataframe\">\n",
       "  <thead>\n",
       "    <tr style=\"text-align: right;\">\n",
       "      <th></th>\n",
       "      <th>0</th>\n",
       "      <th>1</th>\n",
       "      <th>2</th>\n",
       "      <th>3</th>\n",
       "      <th>4</th>\n",
       "      <th>5</th>\n",
       "      <th>6</th>\n",
       "    </tr>\n",
       "  </thead>\n",
       "  <tbody>\n",
       "    <tr>\n",
       "      <th>theoretical_values</th>\n",
       "      <td>0.3606</td>\n",
       "      <td>0.3678</td>\n",
       "      <td>0.1876</td>\n",
       "      <td>0.0638</td>\n",
       "      <td>0.0163</td>\n",
       "      <td>0.0033</td>\n",
       "      <td>0.0006</td>\n",
       "    </tr>\n",
       "    <tr>\n",
       "      <th>Relative Frequency</th>\n",
       "      <td>0.3670</td>\n",
       "      <td>0.3830</td>\n",
       "      <td>0.1830</td>\n",
       "      <td>0.0170</td>\n",
       "      <td>0.0330</td>\n",
       "      <td>0.0170</td>\n",
       "      <td>0.0000</td>\n",
       "    </tr>\n",
       "    <tr>\n",
       "      <th>Difference</th>\n",
       "      <td>0.0064</td>\n",
       "      <td>0.0152</td>\n",
       "      <td>-0.0046</td>\n",
       "      <td>-0.0468</td>\n",
       "      <td>0.0167</td>\n",
       "      <td>0.0137</td>\n",
       "      <td>-0.0006</td>\n",
       "    </tr>\n",
       "    <tr>\n",
       "      <th>Difference Percentage</th>\n",
       "      <td>1.7762</td>\n",
       "      <td>4.1307</td>\n",
       "      <td>-2.4424</td>\n",
       "      <td>-73.3449</td>\n",
       "      <td>102.9107</td>\n",
       "      <td>412.4007</td>\n",
       "      <td>-100.0000</td>\n",
       "    </tr>\n",
       "  </tbody>\n",
       "</table>\n",
       "</div>"
      ],
      "text/plain": [
       "                            0       1       2        3         4         5  \\\n",
       "theoretical_values     0.3606  0.3678  0.1876   0.0638    0.0163    0.0033   \n",
       "Relative Frequency     0.3670  0.3830  0.1830   0.0170    0.0330    0.0170   \n",
       "Difference             0.0064  0.0152 -0.0046  -0.0468    0.0167    0.0137   \n",
       "Difference Percentage  1.7762  4.1307 -2.4424 -73.3449  102.9107  412.4007   \n",
       "\n",
       "                              6  \n",
       "theoretical_values       0.0006  \n",
       "Relative Frequency       0.0000  \n",
       "Difference              -0.0006  \n",
       "Difference Percentage -100.0000  "
      ]
     },
     "execution_count": 20,
     "metadata": {},
     "output_type": "execute_result"
    }
   ],
   "source": [
    "def function_of_x(x, lmbda=1.02):\n",
    "    value = (np.exp(-lmbda)*(lmbda**x))/math.factorial(x)\n",
    "    return value\n",
    "\n",
    "center_points = list(range(0,7))\n",
    "\n",
    "theoretical_values = []\n",
    "for centre_pt in center_points:\n",
    "    theoretical_values.append(function_of_x(centre_pt))\n",
    "    \n",
    "comparision_df = pd.DataFrame(\n",
    "    [theoretical_values, table1_5['Relative Frequency'].values.tolist()],\n",
    "    columns=center_points,\n",
    "    index=['theoretical_values', 'Relative Frequency']\n",
    ")\n",
    "\n",
    "# diff = Relative freq - Theoretical Vals\n",
    "difference = pd.Series(comparision_df.iloc[1][:] - comparision_df.iloc[0][:])\n",
    "difference.name = 'Difference'\n",
    "comparision_df = comparision_df.append(difference)\n",
    "\n",
    "difference = (difference/comparision_df.iloc[0][:])*100 # (diff/Theoretical_vals)*100\n",
    "difference.name = 'Difference Percentage'\n",
    "comparision_df = comparision_df.append(difference)\n",
    "\n",
    "print(\"\\nAvg Difference Percentage: \", abs(comparision_df.iloc[3][:].values).mean())\n",
    "comparision_df.round(4)"
   ]
  },
  {
   "cell_type": "markdown",
   "metadata": {},
   "source": [
    "> #### `Observations:`\n",
    "\n",
    "> The model results are good for half of the values (0, 1 and 2). The others might improve if we have more data points. This model looks pretty reasonable."
   ]
  },
  {
   "cell_type": "code",
   "execution_count": null,
   "metadata": {},
   "outputs": [],
   "source": []
  }
 ],
 "metadata": {
  "kernelspec": {
   "display_name": "Python 3",
   "language": "python",
   "name": "python3"
  },
  "language_info": {
   "codemirror_mode": {
    "name": "ipython",
    "version": 3
   },
   "file_extension": ".py",
   "mimetype": "text/x-python",
   "name": "python",
   "nbconvert_exporter": "python",
   "pygments_lexer": "ipython3",
   "version": "3.6.4"
  }
 },
 "nbformat": 4,
 "nbformat_minor": 2
}
