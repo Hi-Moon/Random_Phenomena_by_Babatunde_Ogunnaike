{
 "cells": [
  {
   "cell_type": "code",
   "execution_count": 123,
   "metadata": {},
   "outputs": [],
   "source": [
    "bold = '\\033[1m' \n",
    "end = '\\033[0m'\n",
    "\n",
    "import pandas as pd\n",
    "import numpy as np\n",
    "from matplotlib import pyplot as plt\n",
    "import math"
   ]
  },
  {
   "cell_type": "code",
   "execution_count": 2,
   "metadata": {},
   "outputs": [],
   "source": [
    "table1_1 = pd.read_excel('Chapter1.xlsx', sheet_name='Table1.1')\n",
    "table1_2 = pd.read_excel('Chapter1.xlsx', sheet_name='Table1.2')\n",
    "table1_3 = pd.read_excel('Chapter1.xlsx', sheet_name='Table1.3')\n",
    "table1_4 = pd.read_excel('Chapter1.xlsx', sheet_name='Table1.4')\n",
    "table1_5 = pd.read_excel('Chapter1.xlsx', sheet_name='Table1.5')\n",
    "prob1_13 = pd.read_excel('Chapter1.xlsx', sheet_name='Prob1.13')\n",
    "prob1_15 = pd.read_excel('Chapter1.xlsx', sheet_name='Prob1.15')\n",
    "prob1_16 = pd.read_excel('Chapter1.xlsx', sheet_name='Prob1.16')\n",
    "prob1_17 = pd.read_excel('Chapter1.xlsx', sheet_name='Prob1.17')"
   ]
  },
  {
   "cell_type": "code",
   "execution_count": 3,
   "metadata": {},
   "outputs": [
    {
     "name": "stdout",
     "output_type": "stream",
     "text": [
      "        YA       YB\n",
      "0  74.0422  75.7523\n",
      "1  75.2921  68.4104\n",
      "2  75.6269  74.1911\n",
      "3  75.9191  68.1020\n",
      "4  77.2113  68.1002\n",
      "(50, 2)\n"
     ]
    }
   ],
   "source": [
    "print(table1_1.head())\n",
    "print(table1_1.shape)"
   ]
  },
  {
   "cell_type": "code",
   "execution_count": 4,
   "metadata": {},
   "outputs": [
    {
     "name": "stdout",
     "output_type": "stream",
     "text": [
      "   Inclusions\n",
      "0           0\n",
      "1           2\n",
      "2           1\n",
      "3           1\n",
      "4           2\n",
      "(60, 1)\n"
     ]
    }
   ],
   "source": [
    "print(table1_2.head())\n",
    "print(table1_2.shape)"
   ]
  },
  {
   "cell_type": "code",
   "execution_count": 5,
   "metadata": {},
   "outputs": [
    {
     "name": "stdout",
     "output_type": "stream",
     "text": [
      "   interval_start  interval_stop  Frequency  Relative Frequency\n",
      "0           71.51           72.5          1                0.02\n",
      "1           72.51           73.5          2                0.04\n",
      "2           73.51           74.5          9                0.18\n",
      "3           74.51           75.5         17                0.34\n",
      "4           75.51           76.5          7                0.14\n",
      "(8, 4)\n"
     ]
    }
   ],
   "source": [
    "print(table1_3.head())\n",
    "print(table1_3.shape)"
   ]
  },
  {
   "cell_type": "code",
   "execution_count": 6,
   "metadata": {
    "scrolled": true
   },
   "outputs": [
    {
     "name": "stdout",
     "output_type": "stream",
     "text": [
      "   interval_start  interval_stop  Frequency  Relative Frequency\n",
      "0           66.51           67.5          1                0.02\n",
      "1           67.51           68.5          3                0.06\n",
      "2           68.51           69.5          4                0.08\n",
      "3           69.51           70.5          8                0.16\n",
      "4           70.51           71.5          4                0.08\n",
      "(13, 4)\n"
     ]
    }
   ],
   "source": [
    "print(table1_4.head())\n",
    "print(table1_4.shape)"
   ]
  },
  {
   "cell_type": "code",
   "execution_count": 7,
   "metadata": {},
   "outputs": [
    {
     "name": "stdout",
     "output_type": "stream",
     "text": [
      "   x  Frequency  Relative Frequency\n",
      "0  0         22               0.367\n",
      "1  1         23               0.383\n",
      "2  2         11               0.183\n",
      "3  3          1               0.017\n",
      "4  4          2               0.033\n",
      "(7, 3)\n"
     ]
    }
   ],
   "source": [
    "print(table1_5.head())\n",
    "print(table1_5.shape)"
   ]
  },
  {
   "cell_type": "code",
   "execution_count": 8,
   "metadata": {},
   "outputs": [
    {
     "name": "stdout",
     "output_type": "stream",
     "text": [
      "   JanPapers\n",
      "0    19.1934\n",
      "1    15.0834\n",
      "2     9.5556\n",
      "3     4.2003\n",
      "4     5.4189\n",
      "(85, 1)\n"
     ]
    }
   ],
   "source": [
    "print(prob1_13.head())\n",
    "print(prob1_13.shape)"
   ]
  },
  {
   "cell_type": "code",
   "execution_count": 9,
   "metadata": {},
   "outputs": [
    {
     "name": "stdout",
     "output_type": "stream",
     "text": [
      "   SafetyIncidents\n",
      "0                1\n",
      "1                0\n",
      "2                0\n",
      "3                0\n",
      "4                2\n",
      "(48, 1)\n"
     ]
    }
   ],
   "source": [
    "print(prob1_15.head())\n",
    "print(prob1_15.shape)"
   ]
  },
  {
   "cell_type": "code",
   "execution_count": 10,
   "metadata": {},
   "outputs": [
    {
     "name": "stdout",
     "output_type": "stream",
     "text": [
      "   Before WT  After WT\n",
      "0        272       263\n",
      "1        319       313\n",
      "2        253       251\n",
      "3        325       312\n",
      "4        236       227\n",
      "(20, 2)\n"
     ]
    }
   ],
   "source": [
    "print(prob1_16.head())\n",
    "print(prob1_16.shape)"
   ]
  },
  {
   "cell_type": "code",
   "execution_count": 11,
   "metadata": {},
   "outputs": [
    {
     "name": "stdout",
     "output_type": "stream",
     "text": [
      "   x  yO  yY\n",
      "0  0  32   8\n",
      "1  1  41  25\n",
      "2  2  21  35\n",
      "3  3   5  23\n",
      "4  4   1   8\n",
      "(6, 3)\n"
     ]
    }
   ],
   "source": [
    "print(prob1_17.head())\n",
    "print(prob1_17.shape)"
   ]
  },
  {
   "cell_type": "code",
   "execution_count": null,
   "metadata": {},
   "outputs": [],
   "source": []
  },
  {
   "cell_type": "code",
   "execution_count": null,
   "metadata": {},
   "outputs": [],
   "source": []
  },
  {
   "cell_type": "markdown",
   "metadata": {},
   "source": [
    "# `EXERCISES`"
   ]
  },
  {
   "cell_type": "markdown",
   "metadata": {},
   "source": [
    "# Exercise 1.1"
   ]
  },
  {
   "cell_type": "markdown",
   "metadata": {},
   "source": [
    "The variance of a collection of $n$ data points, $y_1, y_2, \\ldots, y_n$, is defined as:\n",
    "<br> <br>\n",
    "    $$ s^2 = \\frac{\\sum_{i=1}^n(y_i - \\bar{y})^2}{n-1} $$ \n",
    "    \n",
    "where $\\bar{y}$ is the arithmetic average of the data set. From the yield data in Table 1.1, obtain the variances $s^2_A$ and $s^2_B$ for the $Y_A$ and $Y_B$ data sets, respectively.  Which  is greater, $s^2_A$ or $s^2_B$?"
   ]
  },
  {
   "cell_type": "markdown",
   "metadata": {},
   "source": [
    "\n",
    "\n"
   ]
  },
  {
   "cell_type": "code",
   "execution_count": 12,
   "metadata": {},
   "outputs": [
    {
     "name": "stdout",
     "output_type": "stream",
     "text": [
      "\u001b[1m\n",
      "–––––––– Results using formulas given in book: ––––––––\u001b[0m\n",
      "Average of YA =  75.518804\n",
      "Average of YB =  72.47207200000001\n",
      "Variance of YA =  2.049267960800001\n",
      "Variance of YB =  7.640063316342855\n",
      "\u001b[1m\n",
      "\n",
      "–––––––– Results using built-in functions: ––––––––\u001b[0m\n",
      "Average of YA =  75.518804\n",
      "Average of YB =  72.47207200000001\n",
      "Variance of YA =  2.0492679608\n",
      "Variance of YB =  7.640063316342858\n",
      "\n",
      "\n",
      "Variance of YB (7.640063316342858) is greater than varinace of YA (2.0492679608)\n"
     ]
    }
   ],
   "source": [
    "n_yield = table1_1.shape[0]\n",
    "\n",
    "\n",
    "# using formulas given in book\n",
    "print(bold + \"\\n{} Results using formulas given in book: {}\".format('–'*8, '–'*8) + end)\n",
    "avg_ya = sum(table1_1.YA.values)/n_yield\n",
    "avg_yb = sum(table1_1.YB.values)/n_yield\n",
    "var_ya = sum((table1_1.YA.values - avg_ya)**2)/(n_yield-1)\n",
    "var_yb = sum((table1_1.YB.values - avg_yb)**2)/(n_yield-1)\n",
    "\n",
    "print(\"Average of YA = \", avg_ya)\n",
    "print(\"Average of YB = \", avg_yb)\n",
    "print(\"Variance of YA = \", var_ya)\n",
    "print(\"Variance of YB = \", var_yb)\n",
    "\n",
    "\n",
    "\n",
    "# using built-in functions\n",
    "print(bold + \"\\n\\n{} Results using built-in functions: {}\".format('–'*8, '–'*8) + end)\n",
    "avg_ya = table1_1.YA.mean()\n",
    "avg_yb = table1_1.YB.mean()\n",
    "var_ya = table1_1.YA.var()\n",
    "var_yb = table1_1.YB.var()\n",
    "\n",
    "print(\"Average of YA = \", avg_ya)\n",
    "print(\"Average of YB = \", avg_yb)\n",
    "print(\"Variance of YA = \", var_ya)\n",
    "print(\"Variance of YB = \", var_yb)\n",
    "\n",
    "\n",
    "variance = {\n",
    "    'YA': var_ya,\n",
    "    'YB': var_yb,\n",
    "}\n",
    "print(\"\\n\")\n",
    "print(\"Variance of {} ({}) is greater than varinace of {} ({})\".format(\n",
    "    max(variance, key=variance.get),\n",
    "    max(variance.values()),\n",
    "    min(variance, key=variance.get),\n",
    "    min(variance.values()),\n",
    "))"
   ]
  },
  {
   "cell_type": "code",
   "execution_count": null,
   "metadata": {},
   "outputs": [],
   "source": []
  },
  {
   "cell_type": "code",
   "execution_count": null,
   "metadata": {},
   "outputs": [],
   "source": []
  },
  {
   "cell_type": "markdown",
   "metadata": {},
   "source": [
    "# Exercise 1.2"
   ]
  },
  {
   "cell_type": "markdown",
   "metadata": {},
   "source": [
    "Even though the data sets in Table 1.1 were not generated in pairs, obtain the 50 differences,\n",
    "<br> <br>\n",
    "    $$\n",
    "    d_i = y_{A_i} - y_{B_i}\\,; \\,\\,\\, i = 1, 2, \\ldots, 50,\n",
    "    $$\n",
    "<br>\n",
    "for corresponding values of $Y_A$ and $Y_B$ as presented in this table.  Obtain a histogram of $d_i$ and compute the arithmetic average,\n",
    "<br> <br>\n",
    "    $$\n",
    "    \\bar{d} = \\frac{1}{n}\\sum_{i=1}^n d_i.\n",
    "    $$\n",
    "\n",
    "What do these results suggest about the possibility that $Y_A$ may be greater than $Y_B$? "
   ]
  },
  {
   "cell_type": "markdown",
   "metadata": {},
   "source": [
    "\n"
   ]
  },
  {
   "cell_type": "code",
   "execution_count": 13,
   "metadata": {},
   "outputs": [
    {
     "name": "stdout",
     "output_type": "stream",
     "text": [
      "[-1.7101  6.8817  1.4358  7.8171  9.1111]\n",
      "\n",
      "Average of d: 3.0467319999999996\n",
      "Percentage of values greater than zero: 84.0%\n"
     ]
    },
    {
     "data": {
      "image/png": "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\n",
      "text/plain": [
       "<matplotlib.figure.Figure at 0x1104c3208>"
      ]
     },
     "metadata": {},
     "output_type": "display_data"
    }
   ],
   "source": [
    "table1_1['d'] = table1_1.YA - table1_1.YB\n",
    "print(table1_1.d.head().values)\n",
    "\n",
    "table1_1.d.hist(bins=np.arange(-10, 10, 1))\n",
    "\n",
    "avg_d = table1_1.d.mean()\n",
    "print(\"\\nAverage of d: {}\".format(avg_d))\n",
    "\n",
    "vals_more_than_zero = (len([x for x in table1_1.d if x>0])/n_yield)*100\n",
    "print(\"Percentage of values greater than zero: {}%\".format(vals_more_than_zero))"
   ]
  },
  {
   "cell_type": "markdown",
   "metadata": {},
   "source": [
    "#### `Observations:`\n",
    "\n",
    "From the histogram, we can see that most of the values(84%) are positive. \n",
    "The average value of d and the histogram suggest that YA is greater than YB by a value of 3."
   ]
  },
  {
   "cell_type": "code",
   "execution_count": null,
   "metadata": {},
   "outputs": [],
   "source": []
  },
  {
   "cell_type": "code",
   "execution_count": null,
   "metadata": {},
   "outputs": [],
   "source": []
  },
  {
   "cell_type": "markdown",
   "metadata": {},
   "source": [
    "# Exercise 1.3"
   ]
  },
  {
   "cell_type": "markdown",
   "metadata": {},
   "source": [
    "A set of theoretical results state that, for $d_i$ and $\\bar{d}$ (defined in Exercise 1.2), and variance $s^2$ (defined in Exercise 1.1), <br> <br>\n",
    "$$\n",
    "    \\bar{d} = \\bar{y}_A - \\bar{y}_B\n",
    "    $$ <br>\n",
    "    $$\n",
    "    s^2_d = s^2_A + s^2_B\n",
    "    $$\n",
    "    \n",
    "Confirm these results specifically for the data in Table 1.1"
   ]
  },
  {
   "cell_type": "code",
   "execution_count": 14,
   "metadata": {
    "scrolled": true
   },
   "outputs": [
    {
     "name": "stdout",
     "output_type": "stream",
     "text": [
      "\u001b[1m\n",
      "–––––––– Results using formulas defined in Exercises: ––––––––\u001b[0m\n",
      "Average value of d:  3.0467319999999996\n",
      "Variance of d:  11.0220858634449\n",
      "\u001b[1m\n",
      "–––––––– Results using theoretical statements: ––––––––\u001b[0m\n",
      "Average value of d:  3.0467319999999916\n",
      "Variance of d:  9.689331277142859\n"
     ]
    }
   ],
   "source": [
    "var_d = sum((table1_1.d.values - avg_d)**2)/(n_yield-1)\n",
    "\n",
    "print(bold + \"\\n{} Results using formulas defined in Exercises: {}\".format('–'*8, '–'*8) + end)\n",
    "print(\"Average value of d: \", avg_d)\n",
    "print(\"Variance of d: \", var_d)\n",
    "\n",
    "\n",
    "print(bold + \"\\n{} Results using theoretical statements: {}\".format('–'*8, '–'*8) + end)\n",
    "print(\"Average value of d: \", avg_ya - avg_yb)\n",
    "print(\"Variance of d: \", var_ya + var_yb)\n"
   ]
  },
  {
   "cell_type": "markdown",
   "metadata": {},
   "source": [
    "##### `Observations:`\n",
    "    \n",
    "As we can see, average value of d is indeed the difference of average values of YA and YB.\n",
    "But, variance of d is not the sum of variances of YA and YB."
   ]
  },
  {
   "cell_type": "code",
   "execution_count": null,
   "metadata": {},
   "outputs": [],
   "source": []
  },
  {
   "cell_type": "code",
   "execution_count": null,
   "metadata": {},
   "outputs": [],
   "source": []
  },
  {
   "cell_type": "markdown",
   "metadata": {},
   "source": [
    "# Exercise 1.4"
   ]
  },
  {
   "cell_type": "markdown",
   "metadata": {},
   "source": [
    "From the data in Table 1.2, obtain $s^2_x$, the variance of the inclusions."
   ]
  },
  {
   "cell_type": "code",
   "execution_count": 15,
   "metadata": {},
   "outputs": [
    {
     "name": "stdout",
     "output_type": "stream",
     "text": [
      "Average value of Inclusions:  1.0166666666666666\n",
      "Variance of Inclusions:  1.2031073446327696\n"
     ]
    }
   ],
   "source": [
    "n_inclusions = table1_2.shape[0]\n",
    "avg_inclusions = sum(table1_2.Inclusions.values)/n_inclusions\n",
    "var_inclusions = sum((table1_2.Inclusions.values - avg_inclusions)**2)/(n_inclusions-1)\n",
    "\n",
    "print(\"Average value of Inclusions: \", avg_inclusions)\n",
    "print(\"Variance of Inclusions: \", var_inclusions)"
   ]
  },
  {
   "cell_type": "code",
   "execution_count": null,
   "metadata": {},
   "outputs": [],
   "source": []
  },
  {
   "cell_type": "code",
   "execution_count": null,
   "metadata": {},
   "outputs": [],
   "source": []
  },
  {
   "cell_type": "markdown",
   "metadata": {},
   "source": [
    "# Exercise 1.5"
   ]
  },
  {
   "cell_type": "markdown",
   "metadata": {},
   "source": [
    "The random variable, $X$, representing the number of inclusions, is purported to be a Poisson random variable .  If true, then the average, $\\bar{x}$, and variance, $s^2_x$, are theoretically equal.  Compare the  values computed for these two quantities from the data set in  Table 1.2.  What do these results suggest about the possibility that $X$ may in fact be a Poisson random variable?"
   ]
  },
  {
   "cell_type": "code",
   "execution_count": 16,
   "metadata": {},
   "outputs": [
    {
     "name": "stdout",
     "output_type": "stream",
     "text": [
      "Average value of Inclusions:  1.0166666666666666\n",
      "Variance of Inclusions:  1.2031073446327696\n"
     ]
    }
   ],
   "source": [
    "print(\"Average value of Inclusions: \", avg_inclusions)\n",
    "print(\"Variance of Inclusions: \", var_inclusions)"
   ]
  },
  {
   "cell_type": "markdown",
   "metadata": {},
   "source": [
    "#### `Observations:`\n",
    "The average ($\\bar{x}$ = 1.016666) and variance ($s_x^2$ = 1.203107) of $X$ are close but not equal. The results vaguely suggest that $X$ may be Poisson random variable."
   ]
  },
  {
   "cell_type": "code",
   "execution_count": null,
   "metadata": {},
   "outputs": [],
   "source": []
  },
  {
   "cell_type": "code",
   "execution_count": null,
   "metadata": {},
   "outputs": [],
   "source": []
  },
  {
   "cell_type": "markdown",
   "metadata": {},
   "source": [
    "# Exercise 1.6"
   ]
  },
  {
   "cell_type": "markdown",
   "metadata": {},
   "source": [
    "Using a bin size of 0.75, obtain relative frequencies for $Y_A$ and $Y_B$ data and the corresponding histograms. Repeat this exercise for a bin size of 2.0. Compare these two sets of histograms with the corresponding histograms in Figs 12.8 and 1.2.\n",
    "\n",
    "\n",
    " Fig 12.8 | Fig 1.2 \n",
    "- | - \n",
    "![YA yield histogram](https://raw.githubusercontent.com/ayushi-b/Random_Phenomena_by_Babatunde_Ogunnaike/master/Chapter%201/Fig12_8.png) | ![YB yield histogram](https://raw.githubusercontent.com/ayushi-b/Random_Phenomena_by_Babatunde_Ogunnaike/master/Chapter%201/Fig1_2.png)"
   ]
  },
  {
   "cell_type": "code",
   "execution_count": 161,
   "metadata": {
    "scrolled": false
   },
   "outputs": [
    {
     "name": "stdout",
     "output_type": "stream",
     "text": [
      "    frequency  interval_start  interval_stop  relative_frequency\n",
      "0         1.0           72.00          72.75                0.02\n",
      "1         2.0           72.75          73.50                0.04\n",
      "2         7.0           73.50          74.25                0.14\n",
      "3         9.0           74.25          75.00                0.18\n",
      "4        12.0           75.00          75.75                0.24\n",
      "5         5.0           75.75          76.50                0.10\n",
      "6         7.0           76.50          77.25                0.14\n",
      "7         5.0           77.25          78.00                0.10\n",
      "8         1.0           78.00          78.75                0.02\n",
      "9         1.0           78.75          79.50                0.02\n",
      "10        0.0           79.50          80.25                0.00\n"
     ]
    },
    {
     "data": {
      "image/png": "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\n",
      "text/plain": [
       "<matplotlib.figure.Figure at 0x111659a20>"
      ]
     },
     "metadata": {},
     "output_type": "display_data"
    },
    {
     "name": "stdout",
     "output_type": "stream",
     "text": [
      "\n",
      "\n",
      "    frequency  interval_start  interval_stop  relative_frequency\n",
      "0        7.0            72.0           74.0                0.14\n",
      "1       28.0            74.0           76.0                0.56\n",
      "2       13.0            76.0           78.0                0.26\n",
      "3        2.0            78.0           80.0                0.04\n"
     ]
    },
    {
     "data": {
      "image/png": "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\n",
      "text/plain": [
       "<matplotlib.figure.Figure at 0x111073160>"
      ]
     },
     "metadata": {},
     "output_type": "display_data"
    }
   ],
   "source": [
    "data_ya_75 = plt.hist(table1_1.YA, bins=np.arange(np.floor(min(table1_1.YA)), np.ceil(max(table1_1.YA))+1, 0.75))\n",
    "\n",
    "freq_ya_75 = pd.DataFrame(data_ya_75[0], columns=['frequency'])\n",
    "freq_ya_75['interval_start'] = data_ya_75[1][:-1]\n",
    "freq_ya_75['interval_stop'] = data_ya_75[1][1:]\n",
    "freq_ya_75['relative_frequency'] = freq_ya_75.frequency/sum(freq_ya_75.frequency)\n",
    "print(freq_ya_75)\n",
    "\n",
    "plt.grid(True)\n",
    "plt.title('Yield of A (bin_size=0.75)')\n",
    "plt.show()\n",
    "\n",
    "\n",
    "\n",
    "data_ya_2 = plt.hist(table1_1.YA, bins=np.arange(np.floor(min(table1_1.YA)), np.ceil(max(table1_1.YA))+1, 2))\n",
    "\n",
    "freq_ya_2 = pd.DataFrame(data_ya_2[0], columns=['frequency'])\n",
    "freq_ya_2['interval_start'] = data_ya_2[1][:-1]\n",
    "freq_ya_2['interval_stop'] = data_ya_2[1][1:]\n",
    "freq_ya_2['relative_frequency'] = freq_ya_2.frequency/sum(freq_ya_2.frequency)\n",
    "print(\"\\n\\n\", freq_ya_2)\n",
    "\n",
    "plt.grid(True)\n",
    "plt.title('Yield of A (bin_size=2)')\n",
    "plt.show()"
   ]
  },
  {
   "cell_type": "markdown",
   "metadata": {},
   "source": [
    "#### `Observations:`\n",
    "\n",
    "As the bin size increases, the shape of histogram tends to \n",
    "\n",
    "When compared to Fig 12.8"
   ]
  },
  {
   "cell_type": "code",
   "execution_count": 162,
   "metadata": {},
   "outputs": [
    {
     "name": "stdout",
     "output_type": "stream",
     "text": [
      "    frequency  interval_start  interval_stop  relative_frequency\n",
      "0         1.0           67.00          67.75                0.02\n",
      "1         3.0           67.75          68.50                0.06\n",
      "2         3.0           68.50          69.25                0.06\n",
      "3         2.0           69.25          70.00                0.04\n",
      "4         7.0           70.00          70.75                0.14\n",
      "5         4.0           70.75          71.50                0.08\n",
      "6         4.0           71.50          72.25                0.08\n",
      "7         6.0           72.25          73.00                0.12\n",
      "8         2.0           73.00          73.75                0.04\n",
      "9         5.0           73.75          74.50                0.10\n",
      "10        3.0           74.50          75.25                0.06\n",
      "11        6.0           75.25          76.00                0.12\n",
      "12        2.0           76.00          76.75                0.04\n",
      "13        0.0           76.75          77.50                0.00\n",
      "14        0.0           77.50          78.25                0.00\n",
      "15        2.0           78.25          79.00                0.04\n",
      "16        0.0           79.00          79.75                0.00\n"
     ]
    },
    {
     "data": {
      "image/png": "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\n",
      "text/plain": [
       "<matplotlib.figure.Figure at 0x111ee26d8>"
      ]
     },
     "metadata": {},
     "output_type": "display_data"
    },
    {
     "name": "stdout",
     "output_type": "stream",
     "text": [
      "\n",
      "\n",
      "    frequency  interval_start  interval_stop  relative_frequency\n",
      "0        5.0            67.0           69.0                0.10\n",
      "1       12.0            69.0           71.0                0.24\n",
      "2       13.0            71.0           73.0                0.26\n",
      "3       10.0            73.0           75.0                0.20\n",
      "4        8.0            75.0           77.0                0.16\n",
      "5        2.0            77.0           79.0                0.04\n"
     ]
    },
    {
     "data": {
      "image/png": "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\n",
      "text/plain": [
       "<matplotlib.figure.Figure at 0x111c242e8>"
      ]
     },
     "metadata": {},
     "output_type": "display_data"
    }
   ],
   "source": [
    "data_yb_75 = plt.hist(table1_1.YB, bins=np.arange(np.floor(min(table1_1.YB)), np.ceil(max(table1_1.YB))+1, 0.75))\n",
    "\n",
    "freq_yb_75 = pd.DataFrame(data_yb_75[0], columns=['frequency'])\n",
    "freq_yb_75['interval_start'] = data_yb_75[1][:-1]\n",
    "freq_yb_75['interval_stop'] = data_yb_75[1][1:]\n",
    "freq_yb_75['relative_frequency'] = freq_yb_75.frequency/sum(freq_yb_75.frequency)\n",
    "print(freq_yb_75)\n",
    "\n",
    "plt.grid(True)\n",
    "plt.title('Yield of B (bin_size=0.75)')\n",
    "plt.show()\n",
    "\n",
    "\n",
    "\n",
    "data_yb_2 = plt.hist(table1_1.YB, bins=np.arange(np.floor(min(table1_1.YB)), np.ceil(max(table1_1.YB))+1, 2))\n",
    "\n",
    "freq_yb_2 = pd.DataFrame(data_yb_2[0], columns=['frequency'])\n",
    "freq_yb_2['interval_start'] = data_yb_2[1][:-1]\n",
    "freq_yb_2['interval_stop'] = data_yb_2[1][1:]\n",
    "freq_yb_2['relative_frequency'] = freq_yb_2.frequency/sum(freq_yb_2.frequency)\n",
    "print(\"\\n\\n\", freq_yb_2)\n",
    "\n",
    "plt.grid(True)\n",
    "plt.title('Yield of B (bin_size=2)')\n",
    "plt.show()"
   ]
  },
  {
   "cell_type": "code",
   "execution_count": null,
   "metadata": {},
   "outputs": [],
   "source": []
  },
  {
   "cell_type": "code",
   "execution_count": null,
   "metadata": {},
   "outputs": [],
   "source": []
  },
  {
   "cell_type": "markdown",
   "metadata": {},
   "source": [
    "# Exercise 1.7"
   ]
  },
  {
   "cell_type": "markdown",
   "metadata": {},
   "source": [
    "From the frequency distribution in Table 12.3 (same as table 1.3) and the  values computed for the average, $\\bar{y}_A$, and variance, $s^2_A$ of the yield data set, $Y_A$, determine the percentage of the data contained in the interval $\\bar{y}_A \\pm 1.96 s_A$, where $s_A$ is the positive square root of the variance, $s^2_A$."
   ]
  },
  {
   "cell_type": "code",
   "execution_count": 43,
   "metadata": {},
   "outputs": [
    {
     "name": "stdout",
     "output_type": "stream",
     "text": [
      "   interval_start  interval_stop  Frequency  Relative Frequency\n",
      "0           71.51           72.5          1                0.02\n",
      "1           72.51           73.5          2                0.04\n",
      "2           73.51           74.5          9                0.18\n",
      "3           74.51           75.5         17                0.34\n",
      "4           75.51           76.5          7                0.14\n",
      "5           76.51           77.5          8                0.16\n",
      "6           77.51           78.5          5                0.10\n",
      "7           78.51           79.5          1                0.02\n",
      "\u001b[1m\n",
      "\n",
      "–––––––– Results from comparing actual data: ––––––––\u001b[0m\n",
      "\n",
      "The required interval is: (72.71301216912423 - 78.32459583087578)\n",
      "\n",
      "96.0% data lies within one standard deviation from mean.\n",
      "\u001b[1m\n",
      "\n",
      "–––––––– Results using frequency table intervals without adjustment: ––––––––\u001b[0m\n",
      "\n",
      "The required interval is: (72.71301216912423 - 78.32459583087578)\n",
      "\n",
      "82.0% data lies within one standard deviation from mean.\n",
      "\u001b[1m\n",
      "\n",
      "–––––––– Results using frequency table intervals with adjustment: ––––––––\u001b[0m\n",
      "\n",
      "The adjusted interval is: (72.21301216912423 - 78.82459583087578)\n",
      "\n",
      "96.0% data lies within one standard deviation from mean.\n"
     ]
    }
   ],
   "source": [
    "print(table1_3)\n",
    "\n",
    "std_ya = np.sqrt(var_ya)\n",
    "\n",
    "range_start = avg_ya - 1.96*std_ya\n",
    "range_stop = avg_ya + 1.96*std_ya\n",
    "\n",
    "\n",
    "# Percentage of data within one standard deviation (by comparing values) \n",
    "data_1std = [x for x in table1_1.YA if x >= range_start and x <= range_stop]\n",
    "data_1std = len(data_1std)/n_yield\n",
    "print(bold + \"\\n\\n{} Results from comparing actual data: {}\".format('–'*8, '–'*8) + end)\n",
    "print(\"\\nThe required interval is: ({} - {})\".format(range_start, range_stop))\n",
    "print(\"\\n{}% data lies within one standard deviation from mean.\".format(data_1std*100))\n",
    "\n",
    "\n",
    "\n",
    "# Percentage of data within one standard deviation (using frequency table intervals without adjustment) \n",
    "data_1std = table1_3[(table1_3.interval_start > range_start) & (table1_3.interval_stop < range_stop)]\n",
    "data_1std = data_1std['Relative Frequency'].sum().round(2)\n",
    "print(bold + \"\\n\\n{} Results using frequency table intervals without adjustment: {}\".format('–'*8, '–'*8) + end)\n",
    "print(\"\\nThe required interval is: ({} - {})\".format(range_start, range_stop))\n",
    "print(\"\\n{}% data lies within one standard deviation from mean.\".format(data_1std*100))\n",
    "\n",
    "\n",
    "\n",
    "# Percentage of data within one standard deviation (using frequency table intervals with adjustment) \n",
    "bin_size = (table1_3.interval_stop[0] - table1_3.interval_start[0]).round()\n",
    "\n",
    "# Adjusting ranges to include data points left (if any). Range_start is decreased and range_stop is increased by\n",
    "# an amount bin_size/2 to make the range larger by 1 bin_size. Adjustment of half a bin_size will not add a \n",
    "# whole bin at any end, but will help include the bin which is already included half or more.\n",
    "range_start -= bin_size/2\n",
    "range_stop += bin_size/2\n",
    "\n",
    "data_1std = table1_3[(table1_3.interval_start > range_start) & (table1_3.interval_stop < range_stop)]\n",
    "data_1std = data_1std['Relative Frequency'].sum().round(2)\n",
    "print(bold + \"\\n\\n{} Results using frequency table intervals with adjustment: {}\".format('–'*8, '–'*8) + end)\n",
    "print(\"\\nThe adjusted interval is: ({} - {})\".format(range_start, range_stop))\n",
    "print(\"\\n{}% data lies within one standard deviation from mean.\".format(data_1std*100))"
   ]
  },
  {
   "cell_type": "code",
   "execution_count": null,
   "metadata": {},
   "outputs": [],
   "source": []
  },
  {
   "cell_type": "code",
   "execution_count": null,
   "metadata": {},
   "outputs": [],
   "source": []
  },
  {
   "cell_type": "markdown",
   "metadata": {},
   "source": [
    "# Exercise 1.8"
   ]
  },
  {
   "cell_type": "markdown",
   "metadata": {},
   "source": [
    "Repeat Exercise 1.7 for the $Y_B$ data in  Table 1.4. Determine the percentage of the data contained in the interval $\\bar{y}_B \\pm 1.96 s_B$."
   ]
  },
  {
   "cell_type": "code",
   "execution_count": 46,
   "metadata": {},
   "outputs": [
    {
     "name": "stdout",
     "output_type": "stream",
     "text": [
      "    interval_start  interval_stop  Frequency  Relative Frequency\n",
      "0            66.51           67.5          1                0.02\n",
      "1            67.51           68.5          3                0.06\n",
      "2            68.51           69.5          4                0.08\n",
      "3            69.51           70.5          8                0.16\n",
      "4            70.51           71.5          4                0.08\n",
      "5            71.51           72.5          7                0.14\n",
      "6            72.51           73.5          4                0.08\n",
      "7            73.51           74.5          6                0.12\n",
      "8            74.51           75.5          5                0.10\n",
      "9            75.51           76.5          6                0.12\n",
      "10           76.51           77.5          0                0.00\n",
      "11           77.51           78.5          2                0.04\n",
      "12           78.51           79.5          0                0.00\n",
      "\u001b[1m\n",
      "\n",
      "–––––––– Results from comparing actual data: ––––––––\u001b[0m\n",
      "\n",
      "The required interval is: (67.05450176639319 - 77.88964223360684)\n",
      "\n",
      "96.0% data lies within one standard deviation from mean.\n",
      "\u001b[1m\n",
      "\n",
      "–––––––– Results using frequency table intervals without adjustment: ––––––––\u001b[0m\n",
      "\n",
      "The required interval is: (67.05450176639319 - 77.88964223360684)\n",
      "\n",
      "94.0% data lies within one standard deviation from mean.\n",
      "\u001b[1m\n",
      "\n",
      "–––––––– Results using frequency table intervals with adjustment: ––––––––\u001b[0m\n",
      "\n",
      "The adjusted interval is: (66.55450176639319 - 78.38964223360684)\n",
      "\n",
      "94.0% data lies within one standard deviation from mean.\n"
     ]
    }
   ],
   "source": [
    "print(table1_4)\n",
    "\n",
    "std_yb = np.sqrt(var_yb)\n",
    "\n",
    "range_start = avg_yb - 1.96*std_yb\n",
    "range_stop = avg_yb + 1.96*std_yb\n",
    "\n",
    "\n",
    "# Percentage of data within one standard deviation (by comparing values) \n",
    "data_1std = [x for x in table1_1.YB if x >= range_start and x <= range_stop]\n",
    "data_1std = len(data_1std)/n_yield\n",
    "print(bold + \"\\n\\n{} Results from comparing actual data: {}\".format('–'*8, '–'*8) + end)\n",
    "print(\"\\nThe required interval is: ({} - {})\".format(range_start, range_stop))\n",
    "print(\"\\n{}% data lies within one standard deviation from mean.\".format(data_1std*100))\n",
    "\n",
    "\n",
    "\n",
    "# Percentage of data within one standard deviation (using frequency table intervals without adjustment) \n",
    "data_1std = table1_4[(table1_4.interval_start > range_start) & (table1_4.interval_stop < range_stop)]\n",
    "data_1std = data_1std['Relative Frequency'].sum().round(2)\n",
    "print(bold + \"\\n\\n{} Results using frequency table intervals without adjustment: {}\".format('–'*8, '–'*8) + end)\n",
    "print(\"\\nThe required interval is: ({} - {})\".format(range_start, range_stop))\n",
    "print(\"\\n{}% data lies within one standard deviation from mean.\".format(data_1std*100))\n",
    "\n",
    "\n",
    "\n",
    "# Percentage of data within one standard deviation (using frequency table intervals with adjustment) \n",
    "bin_size = (table1_4.interval_stop[0] - table1_4.interval_start[0]).round()\n",
    "\n",
    "# Adjusting ranges to include data points left (if any). Range_start is decreased and range_stop is increased by\n",
    "# an amount bin_size/2 to make the range larger by 1 bin_size. Adjustment of half a bin_size will not add a \n",
    "# whole bin at any end, but will help include the bin which is already included half or more.\n",
    "range_start -= bin_size/2\n",
    "range_stop += bin_size/2\n",
    "\n",
    "data_1std = table1_4[(table1_4.interval_start > range_start) & (table1_4.interval_stop < range_stop)]\n",
    "data_1std = data_1std['Relative Frequency'].sum().round(2)\n",
    "print(bold + \"\\n\\n{} Results using frequency table intervals with adjustment: {}\".format('–'*8, '–'*8) + end)\n",
    "print(\"\\nThe adjusted interval is: ({} - {})\".format(range_start, range_stop))\n",
    "print(\"\\n{}% data lies within one standard deviation from mean.\".format(data_1std*100))"
   ]
  },
  {
   "cell_type": "code",
   "execution_count": null,
   "metadata": {},
   "outputs": [],
   "source": []
  },
  {
   "cell_type": "code",
   "execution_count": null,
   "metadata": {},
   "outputs": [],
   "source": []
  },
  {
   "cell_type": "markdown",
   "metadata": {},
   "source": [
    "# Exercise 1.9"
   ]
  },
  {
   "cell_type": "markdown",
   "metadata": {},
   "source": [
    "From Table 1.5 determine the value of $x$ such that only 5% of the data exceeds this value.\n"
   ]
  },
  {
   "cell_type": "code",
   "execution_count": 95,
   "metadata": {},
   "outputs": [
    {
     "name": "stdout",
     "output_type": "stream",
     "text": [
      "   x  Frequency  Relative Frequency\n",
      "0  0         22               0.367\n",
      "1  1         23               0.383\n",
      "2  2         11               0.183\n",
      "3  3          1               0.017\n",
      "4  4          2               0.033\n",
      "5  5          1               0.017\n",
      "6  6          0               0.000\n",
      "\u001b[1m\n",
      "\n",
      "–––––––– Results using only frequency table: ––––––––\u001b[0m\n",
      "The value such that only 5% data exceeds it is: 3\n",
      "\u001b[1m\n",
      "\n",
      "–––––––– Results using data points: ––––––––\u001b[0m\n",
      "The value such that only 5% data exceeds it is: 3\n",
      "\u001b[1m\n",
      "\n",
      "–––––––– Results using buil-in functions: ––––––––\u001b[0m\n",
      "Using Pandas.Series.quantile():\n",
      "The value such that only 5% data exceeds it is: 3.049999999999997\n",
      "\n",
      "Using Numpy.percentile():\n",
      "The value such that only 5% data exceeds it is: 3.049999999999997\n"
     ]
    }
   ],
   "source": [
    "print(table1_5)\n",
    "\n",
    "# Only 5% data exceeding a value => 95% of data is less than that value\n",
    "percentile = 1 - 0.05\n",
    "\n",
    "\n",
    "# If only frequency table is available\n",
    "data = []\n",
    "for _, row in table1_5.iterrows():\n",
    "    data.extend([int(row.x)]*int(row.Frequency))\n",
    "\n",
    "#since data is already sorted, no sorting is required\n",
    "l = len(data) - 1  # subtracting 1 for zero-based indexing\n",
    "print(bold + \"\\n\\n{} Results using only frequency table: {}\".format('–'*8, '–'*8) + end)\n",
    "print(\"The value such that only 5% data exceeds it is: {}\".format(data[int(l*percentile)]))\n",
    "\n",
    "\n",
    "\n",
    "# Since we have the data available to us in table1.2, we can skip generating 'data' list\n",
    "# We can directly take data from the table1.2\n",
    "# Note: As we can see from table1.2, this time the data needs sorting\n",
    "data = sorted(table1_2.Inclusions.values)\n",
    "\n",
    "l = len(data) - 1  # subtracting 1 for zero-based indexing\n",
    "print(bold + \"\\n\\n{} Results using data points: {}\".format('–'*8, '–'*8) + end)\n",
    "print(\"The value such that only 5% data exceeds it is: {}\".format(data[int(l*percentile)]))\n",
    "\n",
    "\n",
    "# Using built-in functions for percentiles/Quantiles\n",
    "print(bold + \"\\n\\n{} Results using buil-in functions: {}\".format('–'*8, '–'*8) + end)\n",
    "print(\"Using Pandas.Series.quantile():\")\n",
    "print(\"The value such that only 5% data exceeds it is: {}\".format(table1_2.Inclusions.quantile(0.95)))\n",
    "\n",
    "print(\"\\nUsing Numpy.percentile():\")\n",
    "print(\"The value such that only 5% data exceeds it is: {}\".format(np.percentile(data, 95)))"
   ]
  },
  {
   "cell_type": "code",
   "execution_count": null,
   "metadata": {},
   "outputs": [],
   "source": []
  },
  {
   "cell_type": "code",
   "execution_count": null,
   "metadata": {},
   "outputs": [],
   "source": []
  },
  {
   "cell_type": "markdown",
   "metadata": {},
   "source": [
    "# Exercise 1.10"
   ]
  },
  {
   "cell_type": "markdown",
   "metadata": {},
   "source": [
    "Using $\\mu=75.52$ and $\\sigma= 1.43$, compute theoretical values of the function in Eq 4.155 (also Eq 1.3) given below <br><br>\n",
    "$$\n",
    "f(y|\\mu, \\sigma) = \\frac{1}{\\sigma\\sqrt{2\\pi}}e^{\\frac{-(y-\\mu)^2}{2\n",
    "    \\sigma^2}}; - \\infty < y < \\infty\n",
    "$$\n",
    "\n",
    "at the center points of the frequency groups for the $Y_A$ data in Table 1.3; i.e., for $y= 72, 73, \\ldots, 79$.  Compare these theoretical values with the corresponding relative frequency values."
   ]
  },
  {
   "cell_type": "code",
   "execution_count": 118,
   "metadata": {},
   "outputs": [
    {
     "data": {
      "text/html": [
       "<div>\n",
       "<style scoped>\n",
       "    .dataframe tbody tr th:only-of-type {\n",
       "        vertical-align: middle;\n",
       "    }\n",
       "\n",
       "    .dataframe tbody tr th {\n",
       "        vertical-align: top;\n",
       "    }\n",
       "\n",
       "    .dataframe thead th {\n",
       "        text-align: right;\n",
       "    }\n",
       "</style>\n",
       "<table border=\"1\" class=\"dataframe\">\n",
       "  <thead>\n",
       "    <tr style=\"text-align: right;\">\n",
       "      <th></th>\n",
       "      <th>72.0</th>\n",
       "      <th>73.0</th>\n",
       "      <th>74.0</th>\n",
       "      <th>75.0</th>\n",
       "      <th>76.0</th>\n",
       "      <th>77.0</th>\n",
       "      <th>78.0</th>\n",
       "      <th>79.0</th>\n",
       "    </tr>\n",
       "  </thead>\n",
       "  <tbody>\n",
       "    <tr>\n",
       "      <th>theoretical_values</th>\n",
       "      <td>0.013485</td>\n",
       "      <td>0.059051</td>\n",
       "      <td>0.158575</td>\n",
       "      <td>0.261132</td>\n",
       "      <td>0.263699</td>\n",
       "      <td>0.163296</td>\n",
       "      <td>0.06201</td>\n",
       "      <td>0.01444</td>\n",
       "    </tr>\n",
       "    <tr>\n",
       "      <th>Relative Frequency</th>\n",
       "      <td>0.020000</td>\n",
       "      <td>0.040000</td>\n",
       "      <td>0.180000</td>\n",
       "      <td>0.340000</td>\n",
       "      <td>0.140000</td>\n",
       "      <td>0.160000</td>\n",
       "      <td>0.10000</td>\n",
       "      <td>0.02000</td>\n",
       "    </tr>\n",
       "  </tbody>\n",
       "</table>\n",
       "</div>"
      ],
      "text/plain": [
       "                        72.0      73.0      74.0      75.0      76.0  \\\n",
       "theoretical_values  0.013485  0.059051  0.158575  0.261132  0.263699   \n",
       "Relative Frequency  0.020000  0.040000  0.180000  0.340000  0.140000   \n",
       "\n",
       "                        77.0     78.0     79.0  \n",
       "theoretical_values  0.163296  0.06201  0.01444  \n",
       "Relative Frequency  0.160000  0.10000  0.02000  "
      ]
     },
     "execution_count": 118,
     "metadata": {},
     "output_type": "execute_result"
    }
   ],
   "source": [
    "def function_of_y(y, mu=75.52, sigma=1.43):\n",
    "    value = (1/(sigma*np.sqrt(2*np.pi)))*np.exp(-((y-mu)**2)/(2*(sigma**2)))\n",
    "    return value\n",
    "\n",
    "center_points = (table1_3.interval_start + table1_3.interval_stop)/2\n",
    "center_points = center_points.values.round()\n",
    "\n",
    "theoretical_values = []\n",
    "for centre_pt in center_points:\n",
    "    theoretical_values.append(function_of_y(centre_pt))\n",
    "    \n",
    "comparision_df = pd.DataFrame(\n",
    "    [theoretical_values, table1_3['Relative Frequency'].values.tolist()],\n",
    "    columns=center_points,\n",
    "    index=['theoretical_values', 'Relative Frequency']\n",
    ")\n",
    "\n",
    "comparision_df"
   ]
  },
  {
   "cell_type": "markdown",
   "metadata": {},
   "source": [
    "#### `Observations:`"
   ]
  },
  {
   "cell_type": "code",
   "execution_count": null,
   "metadata": {},
   "outputs": [],
   "source": []
  },
  {
   "cell_type": "code",
   "execution_count": null,
   "metadata": {},
   "outputs": [],
   "source": []
  },
  {
   "cell_type": "markdown",
   "metadata": {},
   "source": [
    "# Exercise 1.11"
   ]
  },
  {
   "cell_type": "markdown",
   "metadata": {},
   "source": [
    "Repeat Exercise 1.10 for $Y_B$ data and Table 1.4"
   ]
  },
  {
   "cell_type": "code",
   "execution_count": 119,
   "metadata": {},
   "outputs": [
    {
     "data": {
      "text/html": [
       "<div>\n",
       "<style scoped>\n",
       "    .dataframe tbody tr th:only-of-type {\n",
       "        vertical-align: middle;\n",
       "    }\n",
       "\n",
       "    .dataframe tbody tr th {\n",
       "        vertical-align: top;\n",
       "    }\n",
       "\n",
       "    .dataframe thead th {\n",
       "        text-align: right;\n",
       "    }\n",
       "</style>\n",
       "<table border=\"1\" class=\"dataframe\">\n",
       "  <thead>\n",
       "    <tr style=\"text-align: right;\">\n",
       "      <th></th>\n",
       "      <th>67.0</th>\n",
       "      <th>68.0</th>\n",
       "      <th>69.0</th>\n",
       "      <th>70.0</th>\n",
       "      <th>71.0</th>\n",
       "      <th>72.0</th>\n",
       "      <th>73.0</th>\n",
       "      <th>74.0</th>\n",
       "      <th>75.0</th>\n",
       "      <th>76.0</th>\n",
       "      <th>77.0</th>\n",
       "      <th>78.0</th>\n",
       "      <th>79.0</th>\n",
       "    </tr>\n",
       "  </thead>\n",
       "  <tbody>\n",
       "    <tr>\n",
       "      <th>theoretical_values</th>\n",
       "      <td>5.460394e-09</td>\n",
       "      <td>2.757440e-07</td>\n",
       "      <td>0.000009</td>\n",
       "      <td>0.000162</td>\n",
       "      <td>0.001888</td>\n",
       "      <td>0.013485</td>\n",
       "      <td>0.059051</td>\n",
       "      <td>0.158575</td>\n",
       "      <td>0.261132</td>\n",
       "      <td>0.263699</td>\n",
       "      <td>0.163296</td>\n",
       "      <td>0.06201</td>\n",
       "      <td>0.01444</td>\n",
       "    </tr>\n",
       "    <tr>\n",
       "      <th>Relative Frequency</th>\n",
       "      <td>2.000000e-02</td>\n",
       "      <td>6.000000e-02</td>\n",
       "      <td>0.080000</td>\n",
       "      <td>0.160000</td>\n",
       "      <td>0.080000</td>\n",
       "      <td>0.140000</td>\n",
       "      <td>0.080000</td>\n",
       "      <td>0.120000</td>\n",
       "      <td>0.100000</td>\n",
       "      <td>0.120000</td>\n",
       "      <td>0.000000</td>\n",
       "      <td>0.04000</td>\n",
       "      <td>0.00000</td>\n",
       "    </tr>\n",
       "  </tbody>\n",
       "</table>\n",
       "</div>"
      ],
      "text/plain": [
       "                            67.0          68.0      69.0      70.0      71.0  \\\n",
       "theoretical_values  5.460394e-09  2.757440e-07  0.000009  0.000162  0.001888   \n",
       "Relative Frequency  2.000000e-02  6.000000e-02  0.080000  0.160000  0.080000   \n",
       "\n",
       "                        72.0      73.0      74.0      75.0      76.0  \\\n",
       "theoretical_values  0.013485  0.059051  0.158575  0.261132  0.263699   \n",
       "Relative Frequency  0.140000  0.080000  0.120000  0.100000  0.120000   \n",
       "\n",
       "                        77.0     78.0     79.0  \n",
       "theoretical_values  0.163296  0.06201  0.01444  \n",
       "Relative Frequency  0.000000  0.04000  0.00000  "
      ]
     },
     "execution_count": 119,
     "metadata": {},
     "output_type": "execute_result"
    }
   ],
   "source": [
    "def function_of_y(y, mu=75.52, sigma=1.43):\n",
    "    value = (1/(sigma*np.sqrt(2*np.pi)))*np.exp(-((y-mu)**2)/(2*(sigma**2)))\n",
    "    return value\n",
    "\n",
    "center_points = (table1_4.interval_start + table1_4.interval_stop)/2\n",
    "center_points = center_points.values.round()\n",
    "\n",
    "theoretical_values = []\n",
    "for centre_pt in center_points:\n",
    "    theoretical_values.append(function_of_y(centre_pt))\n",
    "    \n",
    "comparision_df = pd.DataFrame(\n",
    "    [theoretical_values, table1_4['Relative Frequency'].values.tolist()],\n",
    "    columns=center_points,\n",
    "    index=['theoretical_values', 'Relative Frequency']\n",
    ")\n",
    "\n",
    "comparision_df"
   ]
  },
  {
   "cell_type": "markdown",
   "metadata": {},
   "source": [
    "#### `Observations:`"
   ]
  },
  {
   "cell_type": "code",
   "execution_count": null,
   "metadata": {},
   "outputs": [],
   "source": []
  },
  {
   "cell_type": "code",
   "execution_count": null,
   "metadata": {},
   "outputs": [],
   "source": []
  },
  {
   "cell_type": "markdown",
   "metadata": {},
   "source": [
    "# Exercise 1.12"
   ]
  },
  {
   "cell_type": "markdown",
   "metadata": {},
   "source": [
    "Using $\\lambda = 1.02$, compute theoretical values of the function $f(x|\\lambda)$ in Eq 4.40 (also Eq 1.4) given below <br> <br>\n",
    "$$\n",
    "f(x|\\lambda) = \\frac{e^{-\\lambda}\\lambda^x}{x!}; x= 0, 1, 2,\\ldots\n",
    "$$\n",
    "\n",
    "at $x= 0, 1, 2, \\ldots 6$ and compare with the corresponding relative frequency values in Table 1.5"
   ]
  },
  {
   "cell_type": "code",
   "execution_count": 126,
   "metadata": {},
   "outputs": [
    {
     "data": {
      "text/html": [
       "<div>\n",
       "<style scoped>\n",
       "    .dataframe tbody tr th:only-of-type {\n",
       "        vertical-align: middle;\n",
       "    }\n",
       "\n",
       "    .dataframe tbody tr th {\n",
       "        vertical-align: top;\n",
       "    }\n",
       "\n",
       "    .dataframe thead th {\n",
       "        text-align: right;\n",
       "    }\n",
       "</style>\n",
       "<table border=\"1\" class=\"dataframe\">\n",
       "  <thead>\n",
       "    <tr style=\"text-align: right;\">\n",
       "      <th></th>\n",
       "      <th>0</th>\n",
       "      <th>1</th>\n",
       "      <th>2</th>\n",
       "      <th>3</th>\n",
       "      <th>4</th>\n",
       "      <th>5</th>\n",
       "      <th>6</th>\n",
       "    </tr>\n",
       "  </thead>\n",
       "  <tbody>\n",
       "    <tr>\n",
       "      <th>theoretical_values</th>\n",
       "      <td>0.360595</td>\n",
       "      <td>0.367807</td>\n",
       "      <td>0.187581</td>\n",
       "      <td>0.063778</td>\n",
       "      <td>0.016263</td>\n",
       "      <td>0.003318</td>\n",
       "      <td>0.000564</td>\n",
       "    </tr>\n",
       "    <tr>\n",
       "      <th>Relative Frequency</th>\n",
       "      <td>0.367000</td>\n",
       "      <td>0.383000</td>\n",
       "      <td>0.183000</td>\n",
       "      <td>0.017000</td>\n",
       "      <td>0.033000</td>\n",
       "      <td>0.017000</td>\n",
       "      <td>0.000000</td>\n",
       "    </tr>\n",
       "  </tbody>\n",
       "</table>\n",
       "</div>"
      ],
      "text/plain": [
       "                           0         1         2         3         4  \\\n",
       "theoretical_values  0.360595  0.367807  0.187581  0.063778  0.016263   \n",
       "Relative Frequency  0.367000  0.383000  0.183000  0.017000  0.033000   \n",
       "\n",
       "                           5         6  \n",
       "theoretical_values  0.003318  0.000564  \n",
       "Relative Frequency  0.017000  0.000000  "
      ]
     },
     "execution_count": 126,
     "metadata": {},
     "output_type": "execute_result"
    }
   ],
   "source": [
    "def function_of_x(x, lmbda=1.02):\n",
    "    value = (np.exp(-lmbda)*(lmbda**x))/math.factorial(x)\n",
    "    return value\n",
    "\n",
    "center_points = list(range(0,7))\n",
    "\n",
    "theoretical_values = []\n",
    "for centre_pt in center_points:\n",
    "    theoretical_values.append(function_of_x(centre_pt))\n",
    "    \n",
    "comparision_df = pd.DataFrame(\n",
    "    [theoretical_values, table1_5['Relative Frequency'].values.tolist()],\n",
    "    columns=center_points,\n",
    "    index=['theoretical_values', 'Relative Frequency']\n",
    ")\n",
    "\n",
    "comparision_df"
   ]
  },
  {
   "cell_type": "code",
   "execution_count": null,
   "metadata": {},
   "outputs": [],
   "source": []
  },
  {
   "cell_type": "code",
   "execution_count": null,
   "metadata": {},
   "outputs": [],
   "source": []
  },
  {
   "cell_type": "markdown",
   "metadata": {},
   "source": [
    "# `Application Problems`"
   ]
  },
  {
   "cell_type": "markdown",
   "metadata": {},
   "source": [
    "# Exercise 1.13"
   ]
  },
  {
   "cell_type": "markdown",
   "metadata": {},
   "source": [
    "The data set in the table below is the time (in months) from receipt to publication (sometimes known as ``time-to-publication``) of 85 papers published in the January 2004 issue of a leading chemical engineering research journal.\n",
    "\n",
    "<img src=\"https://raw.githubusercontent.com/ayushi-b/Random_Phenomena_by_Babatunde_Ogunnaike/master/Chapter%201/Prob1_13.png\" width=300 height=500\>\n",
    "\n",
    "(i) Generate a histogram of this data set. Comment on the ``shape`` of this histogram and why, from the nature of the variable in question, such a shape may not be surprising."
   ]
  },
  {
   "cell_type": "code",
   "execution_count": 168,
   "metadata": {},
   "outputs": [
    {
     "name": "stdout",
     "output_type": "stream",
     "text": [
      "\n",
      "Most of the papers submitted are published within a year of submission. Few take longer than that. Thus the shape of this histogram is not surprising.\n"
     ]
    },
    {
     "data": {
      "image/png": "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\n",
      "text/plain": [
       "<matplotlib.figure.Figure at 0x111bb8160>"
      ]
     },
     "metadata": {},
     "output_type": "display_data"
    }
   ],
   "source": [
    "hist_data = plt.hist(prob1_13.JanPapers, bins=np.arange(prob1_13.min(), prob1_13.max(), 2))\n",
    "plt.grid(True)\n",
    "plt.title('JanPapers')\n",
    "\n",
    "print(\"\\nMost of the papers submitted are published within a year of submission. \\\n",
    "Few take longer than that. Thus the shape of this histogram is not surprising.\")"
   ]
  },
  {
   "cell_type": "markdown",
   "metadata": {},
   "source": [
    "<br><br>\n",
    "\n",
    "\n",
    "(ii) From the histogram of the data, what is the ``most popular`` time-to-publication, and what fraction of the papers took longer than this to publish?"
   ]
  },
  {
   "cell_type": "code",
   "execution_count": 208,
   "metadata": {},
   "outputs": [
    {
     "name": "stdout",
     "output_type": "stream",
     "text": [
      "    frequency  interval_start  interval_stop\n",
      "0         8.0          1.8254         3.8254\n",
      "1        12.0          3.8254         5.8254\n",
      "2        12.0          5.8254         7.8254\n",
      "3        17.0          7.8254         9.8254\n",
      "4         9.0          9.8254        11.8254\n",
      "5         7.0         11.8254        13.8254\n",
      "6         6.0         13.8254        15.8254\n",
      "7         4.0         15.8254        17.8254\n",
      "8         6.0         17.8254        19.8254\n",
      "9         3.0         19.8254        21.8254\n",
      "10        0.0         21.8254        23.8254\n",
      "\n",
      "\n",
      "The most popular time-to-publication is between 8.0 to 10.0 months. In the data given above 17.0 papers (about 20.0%) got published within this time.\n",
      "\n",
      "41.0% papers took longer than 10.0 months to publish.\n"
     ]
    }
   ],
   "source": [
    "total_papers = prob1_13.shape[0]\n",
    "\n",
    "prob13_hist = pd.DataFrame(hist_data[0], columns=['frequency'])\n",
    "\n",
    "prob13_hist['interval_start'] = hist_data[1][:-1]\n",
    "prob13_hist['interval_stop'] = hist_data[1][1:]\n",
    "\n",
    "print(prob13_hist)\n",
    "\n",
    "most_popular = prob13_hist.iloc[prob13_hist.frequency.values.argmax()]\n",
    "\n",
    "print(\"\\n\\nThe most popular time-to-publication is between {} to {} months. In the data given above {} papers (about {}%) \\\n",
    "got published within this time.\".format(\n",
    "    most_popular['interval_start'].round(),\n",
    "    most_popular['interval_stop'].round(),\n",
    "    most_popular['frequency'],\n",
    "    (most_popular['frequency']*100/total_papers).round(),\n",
    "))\n",
    "\n",
    "\n",
    "longer_pub_time = prob13_hist[prob13_hist['interval_start'] >= most_popular['interval_stop']]\n",
    "longer_pub_time_precentage = longer_pub_time['frequency'].sum()*100/total_papers\n",
    "\n",
    "print(\"\\n{}% papers took longer than {} months to publish.\".format(\n",
    "    longer_pub_time_precentage.round(), \n",
    "    most_popular['interval_stop'].round(),\n",
    "))"
   ]
  },
  {
   "cell_type": "code",
   "execution_count": null,
   "metadata": {},
   "outputs": [],
   "source": []
  },
  {
   "cell_type": "code",
   "execution_count": null,
   "metadata": {},
   "outputs": [],
   "source": []
  },
  {
   "cell_type": "markdown",
   "metadata": {},
   "source": [
    "# Exercise 1.14"
   ]
  },
  {
   "cell_type": "markdown",
   "metadata": {},
   "source": [
    "Refer to Problem 1.13. Let each raw data entry in the data table be $x_i$.\n",
    "\n",
    "(i) Generate a set of 85 `sample average publication time`, $y_i$, from 20 consecutive times as follows: <br> <br>\n",
    "$$\n",
    "y_1 = \\frac{1}{20} \\sum_{i=1}^{20} x_i \\\\\n",
    "y_2 = \\frac{1}{20} \\sum_{i=2}^{21} x_i \\\\\n",
    "y_3 = \\frac{1}{20} \\sum_{i=3}^{22} x_i \\\\\n",
    "{\\ldots} = \\ldots \\nonumber \\\\\n",
    "y_j = \\frac{1}{20} \\sum_{i=j}^{20+ (j-1)} x_i\n",
    "$$\n",
    "\n",
    "For values of $j \\geq 66$, $y_j$ should be obtained by replacing $x_{86},\n",
    "x_{87}, x_{88}, \\ldots, $  which do not exist,  with $x_1, x_2, x_3, \\ldots, $\n",
    "respectively (i.e., for these purposes treat the given $x_i$ data like a\n",
    "`circular array`).  Plot the histogram for this generated $y_i$ data and compare the shape of this histogram with that of the original $x_i$ data.\n",
    "\n"
   ]
  },
  {
   "cell_type": "code",
   "execution_count": 264,
   "metadata": {
    "scrolled": true
   },
   "outputs": [
    {
     "data": {
      "image/png": "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\n",
      "text/plain": [
       "<matplotlib.figure.Figure at 0x111f80a20>"
      ]
     },
     "metadata": {},
     "output_type": "display_data"
    }
   ],
   "source": [
    "Yj = []\n",
    "\n",
    "window = 20\n",
    "for i in range(total_papers):\n",
    "    j = i + window\n",
    "    if j > total_papers:\n",
    "        avg = prob1_13.JanPapers[i:total_papers].sum()\n",
    "        avg += prob1_13.JanPapers[:j-total_papers].sum()\n",
    "    else:\n",
    "        avg = prob1_13.JanPapers[i:j].sum()\n",
    "    \n",
    "    Yj.append(avg/window)\n",
    "\n",
    "hist_data = plt.hist(Yj, bins=np.arange(min(Yj), max(Yj), 0.2))\n",
    "plt.grid(True)\n",
    "plt.show()"
   ]
  },
  {
   "cell_type": "markdown",
   "metadata": {},
   "source": [
    "#### `Observations:`"
   ]
  },
  {
   "cell_type": "markdown",
   "metadata": {},
   "source": [
    "<br><br>\n",
    "(ii) Repeat part (i) above, this time for $z_i$ data generated from:\n",
    "$$\n",
    "z_j  =  \\frac{1}{20} \\sum_{i=j}^{20+ (j-1)} y_i\n",
    "$$\n",
    "for $j=1,2, \\ldots, 85$.  Compare the histogram of the $z_i$ data with that of\n",
    "the $y_i$ data and comment on the effect of `averaging` on the shape of the\n",
    "data histograms."
   ]
  },
  {
   "cell_type": "code",
   "execution_count": 263,
   "metadata": {},
   "outputs": [
    {
     "data": {
      "image/png": "iVBORw0KGgoAAAANSUhEUgAAAXQAAAD8CAYAAABn919SAAAABHNCSVQICAgIfAhkiAAAAAlwSFlzAAALEgAACxIB0t1+/AAAADl0RVh0U29mdHdhcmUAbWF0cGxvdGxpYiB2ZXJzaW9uIDIuMS4yLCBodHRwOi8vbWF0cGxvdGxpYi5vcmcvNQv5yAAAE1hJREFUeJzt3X2QXXV9x/H3VyI1uBpA9GqDdq0KrSXVNletWvSu+EDFGdRhRikoqJ0d66jYibVRp+NfTuNDrHboU0YptlXWKeJDQSupsmA7QE0U3UBUqGYwEYMMil3MVFO+/eOeONd1w32+d8/P92tmZ+899zx8ZnPuJ2d/e+45kZlIkurvAdMOIEkaDQtdkgphoUtSISx0SSqEhS5JhbDQJakQFrokFcJCl6RCWOiSVIh1k9zYSSedlLOzs30tc++99/LgBz94PIFGrE5ZoV5565QV6pXXrOMzqry7d+++KzMf3nXGzJzY1+bNm7Nf11xzTd/LTEudsmbWK2+dsmbWK69Zx2dUeYFd2UPHOuQiSYWw0CWpEBa6JBXCQpekQljoklQIC12SCmGhS1IhLHRJKoSFLkmFmOhH/3+ZzG69atoRutqy6TAXbr2KfdvOmnYUSSPgEbokFcJCl6RCWOiSVAgLXZIKYaFLUiEsdEkqhIUuSYXoWugRcUlE3BkRe1ZMf0NEfD0ibo6Id48voiSpF70coV8KnNk5ISLmgLOBJ2XmbwHvHX00SVI/uhZ6Zl4H3L1i8h8D2zLzf6t57hxDNklSHwYdQz8FOD0iboyIayPiKaMMJUnqX7RvKN1lpohZ4MrMPK16vge4Bngj8BTgY8Cv5yori4h5YB6g0WhsXlhY6Cvg8vIyMzMzfS0zLZ1Zlw7cM+U03TXWw8FDsGnjhmlH6apO+wHUK69Zx2dUeefm5nZnZrPbfINenGs/cEVV4P8VEfcBJwHfXzljZu4AdgA0m81stVp9bWhxcZF+l5mWzqwX1uTiXNuX1rHvvNa0o3RVp/0A6pXXrOMz6byDDrl8EpgDiIhTgGOBu0YVSpLUv65H6BFxGdACToqI/cA7gEuAS6qhl58AF6w23CJJmpyuhZ6Z5x7lpfNHnEWSNAQ/KSpJhbDQJakQFrokFcJCl6RCWOiSVAgLXZIKYaFLUiEsdEkqhIUuSYWw0CWpEBa6JBXCQpekQljoklQIC12SCmGhS1IhLHRJKkTXQo+ISyLizuruRCtf2xIRGREnjSeeJKlXvRyhXwqcuXJiRDwaeD5w+4gzSZIG0LXQM/M64O5VXvpL4C2A9xKVpDUgerm3c0TMAldm5mnV87OB52TmRRGxD2hm5l1HWXYemAdoNBqbFxYW+gq4vLzMzMxMX8tMS2fWpQP3TDlNd431cPAQbNq4YdpRuqrTfgD1ymvW8RlV3rm5ud2Z2ew2X9ebRK8UEccBb6M93NJVZu4AdgA0m81stVp9bW9xcZF+l5mWzqwXbr1qumF6sGXTYbYvrWPfea1pR+mqTvsB1CuvWcdn0nkHOcvlccBjga9WR+cnA1+OiEeOMpgkqT99H6Fn5hLwiCPPuw25SJImo5fTFi8DrgdOjYj9EfGa8ceSJPWr6xF6Zp7b5fXZkaWRJA3MT4pKUiEsdEkqhIUuSYWw0CWpEBa6JBXCQpekQvT9waJpma3JR+nr8JF/6WjW+vus8z22b9tZU06z9niELkmFsNAlqRAWuiQVwkKXpEJY6JJUCAtdkgphoUtSISx0SSpELze4uCQi7oyIPR3T3hMRX4+Ir0XEJyLi+PHGlCR108sR+qXAmSum7QROy8zfBr4JvHXEuSRJfepa6Jl5HXD3imlXZ+bh6ukNtG8ULUmaolGMob8a+OwI1iNJGkJkZveZImaBKzPztBXT3w40gZfmUVYUEfPAPECj0di8sLDQV8Dl5WVmZmZYOnBPX8tNQ2M9HDw07RS9O5J308YN047S1ZH9oC7qlLcz61p/n3W+x36Z9tu5ubndmdnsNt/AV1uMiAuBFwFnHK3MATJzB7ADoNlsZqvV6ms7i4uLtFqtWlzFcMumw2xfqs0FLH+Wd995rWlH6erIflAXdcrbmXWtv88632Put79ooPaJiDOBtwDPzswfjzaSJGkQvZy2eBlwPXBqROyPiNcAFwMPAXZGxE0R8XdjzilJ6qLrEXpmnrvK5A+NIYskaQh+UlSSCmGhS1IhLHRJKoSFLkmFsNAlqRAWuiQVwkKXpEJY6JJUCAtdkgphoUtSISx0SSqEhS5JhbDQJakQFrokFcJCl6RC9HKDi0si4s6I2NMx7cSI2BkRt1bfTxhvTElSN70coV8KnLli2lbg85n5BODz1XNJ0hR1LfTMvA64e8Xks4EPV48/DLx4xLkkSX0adAy9kZl3VI+/BzRGlEeSNKDIzO4zRcwCV2bmadXzH2bm8R2v/yAzVx1Hj4h5YB6g0WhsXlhY6Cvg8vIyMzMzLB24p6/lpqGxHg4emnaK3tUpb2fWTRs3TDdMD47st3XQmXWtv89+WfeDubm53ZnZ7DZf15tEH8XBiHhUZt4REY8C7jzajJm5A9gB0Gw2s9Vq9bWhxcVFWq0WF269asCok7Nl02G2Lw36I528OuXtzLrvvNZ0w/TgyH5bB51Z1/r7zP3g/g065PJp4ILq8QXAp0YTR5I0qF5OW7wMuB44NSL2R8RrgG3A8yLiVuC51XNJ0hR1/X07M889yktnjDiLJGkIflJUkgphoUtSISx0SSqEhS5JhbDQJakQFrokFcJCl6RC1ONz35K0wuwav0wBtC9VcORyCvu2nTX27XmELkmFsNAlqRAWuiQVwkKXpEJY6JJUCAtdkgphoUtSISx0SSrEUIUeEX8SETdHxJ6IuCwiHjSqYJKk/gxc6BGxEXgj0MzM04BjgJePKpgkqT/DDrmsA9ZHxDrgOOC7w0eSJA0iMnPwhSMuAt4JHAKuzszzVplnHpgHaDQamxcWFvraxvLyMjMzMywduGfgnJPSWA8HD007Re/qlLdOWaFeec06Pp15N23cMPB65ubmdmdms9t8Axd6RJwAfBx4GfBD4F+AyzPzn4+2TLPZzF27dvW1ncXFRVqtVm0uxLN9qT7XO6tT3jplhXrlNev4dOYd5uJcEdFToQ8z5PJc4NuZ+f3M/ClwBfCMIdYnSRrCMIV+O/B7EXFcRARwBrB3NLEkSf0auNAz80bgcuDLwFK1rh0jyiVJ6tNQg1GZ+Q7gHSPKIkkagp8UlaRCWOiSVAgLXZIKYaFLUiEsdEkqhIUuSYWw0CWpEBa6JBXCQpekQljoklQIC12SCmGhS1IhLHRJKoSFLkmFsNAlqRBDFXpEHB8Rl0fE1yNib0Q8fVTBJEn9GfZuqx8A/i0zz4mIY4HjRpBJkjSAgQs9IjYAzwIuBMjMnwA/GU0sSVK/hhlyeSzwfeAfIuIrEfHBiHjwiHJJkvoUmTnYghFN4AbgmZl5Y0R8APhRZv75ivnmgXmARqOxeWFhoa/tLC8vMzMzw9KBewbKOUmN9XDw0LRT9K5OeeuUFeqV16zj05l308YNA69nbm5ud2Y2u803TKE/ErghM2er56cDWzPzrKMt02w2c9euXX1tZ3FxkVarxezWqwbKOUlbNh1m+9Kwf5aYnDrlrVNWqFdes45PZ959245ajV1FRE+FPvCQS2Z+D/hORJxaTToDuGXQ9UmShjPsf3VvAD5SneHyLeBVw0eSJA1iqELPzJuArr8GSJLGz0+KSlIhLHRJKoSFLkmFsNAlqRAWuiQVwkKXpEJY6JJUCAtdkgphoUtSISx0SSqEhS5JhbDQJakQFrokFcJCl6RCWOiSVIihCz0ijqluEn3lKAJJkgYziiP0i4C9I1iPJGkIQxV6RJwMnAV8cDRxJEmDGvYI/f3AW4D7RpBFkjSEyMzBFox4EfDCzHxdRLSAN2fmi1aZbx6YB2g0GpsXFhb62s7y8jIzMzMsHbhnoJyT1FgPBw9NO0Xv6pS3TlmhXnnNOj6deTdt3DDweubm5nZnZtf7Nw9T6H8BvAI4DDwIeChwRWaef7Rlms1m7tq1q6/tLC4u0mq1mN161UA5J2nLpsNsXxrqvtsTVae8dcoK9cpr1vHpzLtv21kDrycieir0gYdcMvOtmXlyZs4CLwe+cH9lLkkaL89Dl6RCjOR3l8xcBBZHsS5J0mA8QpekQljoklQIC12SCmGhS1IhLHRJKoSFLkmFsNAlqRAWuiQVwkKXpEJY6JJUCAtdkgphoUtSISx0SSqEhS5JhbDQJakQFrokFWLgQo+IR0fENRFxS0TcHBEXjTKYJKk/w9yx6DCwJTO/HBEPAXZHxM7MvGVE2SRJfRjmJtF3ZOaXq8f/A+wFNo4qmCSpP5GZw68kYha4DjgtM3+04rV5YB6g0WhsXlhY6Gvdy8vLzMzMsHTgnqFzjltjPRw8NO0UvatT3jplhXrlNev4dObdtHHDwOuZm5vbnZnNbvMNXegRMQNcC7wzM6+4v3mbzWbu2rWrr/UvLi7SarWY3XrVECknY8umw2xfGsl9tyeiTnnrlBXqldes49OZd9+2swZeT0T0VOhDneUSEQ8EPg58pFuZS5LGa5izXAL4ELA3M983ukiSpEEMc4T+TOAVwHMi4qbq64UjyiVJ6tPAg1GZ+R9AjDCLJGkIflJUkgphoUtSISx0SSqEhS5JhbDQJakQFrokFcJCl6RCWOiSVAgLXZIKYaFLUiEsdEkqhIUuSYWw0CWpEBa6JBXCQpekQgx7C7ozI+IbEXFbRGwdVShJUv+GuQXdMcBfA38APBE4NyKeOKpgkqT+DHOE/lTgtsz8Vmb+BFgAzh5NLElSv4Yp9I3Adzqe76+mSZKmIDJzsAUjzgHOzMw/qp6/AnhaZr5+xXzzwHz19FTgG31u6iTgroFCTl6dskK98tYpK9Qrr1nHZ1R5fy0zH95tpoFvEg0cAB7d8fzkatrPycwdwI5BNxIRuzKzOejyk1SnrFCvvHXKCvXKa9bxmXTeYYZcvgQ8ISIeGxHHAi8HPj2aWJKkfg18hJ6ZhyPi9cDngGOASzLz5pElkyT1ZZghFzLzM8BnRpTlaAYerpmCOmWFeuWtU1aoV16zjs9E8w78R1FJ0triR/8lqRBrotAj4qKI2BMRN0fEm+5nvqdExOHqlMmp6SVvRLQi4qZqnmsnnbEjx/1mjYgNEfGvEfHVap5XTTjfJRFxZ0Ts6Zh2YkTsjIhbq+8nHGXZC6p5bo2IC9Zy3oh4ckRcX/2MvxYRL1urWTvmfWhE7I+Ii9dy1oh4TERcHRF7I+KWiJhd43nfXe0HeyPiryIiRhYsM6f6BZwG7AGOoz2m/+/A41eZ7xjgC7TH7M9Zy3mB44FbgMdUzx+xhrO+DXhX9fjhwN3AsRPM+Czgd4E9HdPeDWytHm89km/FcicC36q+n1A9PmEN5z0FeEL1+FeBO4Dj12LWjnk/AHwUuHit/lyr1xaB51WPZ4Dj1mpe4BnAf1Z9dgxwPdAaVa61cIT+m8CNmfnjzDwMXAu8dJX53gB8HLhzkuFW0UvePwSuyMzbATJzWpl7yZrAQ6qjhBnahX54UgEz87pqm53OBj5cPf4w8OJVFn0BsDMz787MHwA7gTPHFrQyaN7M/GZm3lo9/i7t/bjrB0WGMcTPlojYDDSAq8cWsMOgWavrR63LzJ3VepYz88fjzFptZ9CfbQIPAo4FfgV4IHBwVLnWQqHvAU6PiIdFxHHAC/n5DywRERuBlwB/O4V8K3XNS/to7ISIWIyI3RHxyomnbOsl68W0i/+7wBJwUWbeN9mYv6CRmXdUj79Hu1hWWkuXnugl789ExFNpv6H/e9zBVtE1a0Q8ANgOvHmSwVbRy8/1FOCHEXFFRHwlIt5TXThwGrrmzczrgWto/4Z2B/C5zNw7qgBDnbY4Cpm5NyLeRftI4F7gJuD/Vsz2fuDPMvO+UQ43DaLHvOuAzcAZwHrg+oi4ITO/uQazvqCa/hzgccDOiPhiZv5oklmPJjMzImpzKla3vBHxKOCfgAum/R/n/WR9HfCZzNw/7ffbEfeTdR1wOvA7wO3Ax4ALgQ9NLt0vOlreiHg87QOok6tJOyPi9Mz84ii2uxaO0MnMD2Xm5sx8FvADYGXxNYGFiNgHnAP8TUSs+qviJPSQdz/t/3nvzcy7gOuAJ006J/SU9VW0h4cyM28Dvg38xqRzrnCwKr4jBbjakFVPl56YkF7yEhEPBa4C3p6ZN0wwX6desj4deH31fnsv8MqI2Da5iD/TS9b9wE3ZvurrYeCTtMe2p6GXvC8BbqiGhpaBz9L+eY/Emij0iHhE9f0xtMd4P9r5emY+NjNnM3MWuBx4XWZ+cuJBK93yAp8Cfj8i1lVDHU8DRvZrVT96yHo77d8kiIgG7QuofWuSGVfxaeDIWSsX0P55rvQ54PkRcUJ1NsHzq2nT0DVvtC+P8QngHzPz8glmW6lr1sw8LzMfU73f3kw78zRuYNPLfvAl4PiIOPL3iOfQPiFhGnrJezvw7KobHgg8m1F2w7j/GtzLF/BF2v8IXwXOqKa9FnjtKvNeyhTPcuk1L/Cn1Tx7gDet1ay0z7i4mvb4+R7g/Annu4z2WOJPaR9tvQZ4GPB54FbaZ+acWM3bBD7Yseyrgduqr1et5bzA+dUyN3V8PXktZl2xjguZzFkuw+wHzwO+Vu3DlzKBs7SG2A+OAf6edonfArxvlLn8pKgkFWJNDLlIkoZnoUtSISx0SSqEhS5JhbDQJakQFrokFcJCl6RCWOiSVIj/B3cokD/xufCbAAAAAElFTkSuQmCC\n",
      "text/plain": [
       "<matplotlib.figure.Figure at 0x11070c5c0>"
      ]
     },
     "metadata": {},
     "output_type": "display_data"
    }
   ],
   "source": [
    "Zi = []\n",
    "\n",
    "for i in range(total_papers):\n",
    "    j = i + window\n",
    "    if j > total_papers:\n",
    "        avg = sum(Yj[i:total_papers])\n",
    "        avg += sum(Yj[:j-total_papers])\n",
    "    else:\n",
    "        avg = sum(Yj[i:j])\n",
    "    \n",
    "    Zi.append(avg/window)\n",
    "    \n",
    "hist_data = plt.hist(Zi, bins=np.arange(min(Zi), max(Zi), 0.2))\n",
    "plt.grid(True)\n",
    "plt.show()"
   ]
  },
  {
   "cell_type": "code",
   "execution_count": null,
   "metadata": {},
   "outputs": [],
   "source": []
  },
  {
   "cell_type": "code",
   "execution_count": null,
   "metadata": {},
   "outputs": [],
   "source": []
  },
  {
   "cell_type": "markdown",
   "metadata": {},
   "source": [
    "# Exercise 1.15"
   ]
  },
  {
   "cell_type": "markdown",
   "metadata": {},
   "source": [
    "The data shown in table below is a four-year record of the number of `recordable` safety incidents occurring at a plant site each month.\n",
    "\n",
    "<img src=\"https://raw.githubusercontent.com/ayushi-b/Random_Phenomena_by_Babatunde_Ogunnaike/master/Chapter%201/Prob1_15.png\" width=450 height=300>\n",
    "\n",
    "\n",
    "\n",
    "(i) Find the average number of safety incidents per month and the associated variance. Construct a frequency table of the data and plot a histogram."
   ]
  },
  {
   "cell_type": "code",
   "execution_count": 292,
   "metadata": {},
   "outputs": [
    {
     "name": "stdout",
     "output_type": "stream",
     "text": [
      "Average: 0.5 \n",
      "Variance: 0.5\n",
      "\n",
      "\n"
     ]
    },
    {
     "data": {
      "image/png": "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\n",
      "text/plain": [
       "<matplotlib.figure.Figure at 0x111250eb8>"
      ]
     },
     "metadata": {},
     "output_type": "display_data"
    },
    {
     "data": {
      "text/html": [
       "<div>\n",
       "<style scoped>\n",
       "    .dataframe tbody tr th:only-of-type {\n",
       "        vertical-align: middle;\n",
       "    }\n",
       "\n",
       "    .dataframe tbody tr th {\n",
       "        vertical-align: top;\n",
       "    }\n",
       "\n",
       "    .dataframe thead th {\n",
       "        text-align: right;\n",
       "    }\n",
       "</style>\n",
       "<table border=\"1\" class=\"dataframe\">\n",
       "  <thead>\n",
       "    <tr style=\"text-align: right;\">\n",
       "      <th></th>\n",
       "      <th>frequency</th>\n",
       "    </tr>\n",
       "  </thead>\n",
       "  <tbody>\n",
       "    <tr>\n",
       "      <th>0</th>\n",
       "      <td>30.0</td>\n",
       "    </tr>\n",
       "    <tr>\n",
       "      <th>1</th>\n",
       "      <td>12.0</td>\n",
       "    </tr>\n",
       "    <tr>\n",
       "      <th>2</th>\n",
       "      <td>6.0</td>\n",
       "    </tr>\n",
       "    <tr>\n",
       "      <th>3</th>\n",
       "      <td>0.0</td>\n",
       "    </tr>\n",
       "    <tr>\n",
       "      <th>4</th>\n",
       "      <td>0.0</td>\n",
       "    </tr>\n",
       "    <tr>\n",
       "      <th>5</th>\n",
       "      <td>0.0</td>\n",
       "    </tr>\n",
       "  </tbody>\n",
       "</table>\n",
       "</div>"
      ],
      "text/plain": [
       "   frequency\n",
       "0       30.0\n",
       "1       12.0\n",
       "2        6.0\n",
       "3        0.0\n",
       "4        0.0\n",
       "5        0.0"
      ]
     },
     "execution_count": 292,
     "metadata": {},
     "output_type": "execute_result"
    }
   ],
   "source": [
    "avg_inc = prob1_15.values.mean()\n",
    "var_inc = prob1_15.values.var()\n",
    "\n",
    "print(\"Average: {} \\nVariance: {}\\n\\n\".format(avg_inc, var_inc))\n",
    "\n",
    "\n",
    "hist_data = plt.hist(prob1_15.values, bins=[0,1,2,3,4,5,6])\n",
    "plt.grid(True)\n",
    "plt.show()\n",
    "\n",
    "freq_table = pd.DataFrame(hist_data[0], index=hist_data[1][:-1], columns=['frequency'])\n",
    "freq_table"
   ]
  },
  {
   "cell_type": "markdown",
   "metadata": {},
   "source": [
    "(ii) From the frequency table and the histogram, what can you say about the `chances` of obtaining each of the following observations, where $x$ represents the number of observed safety incidents per month: $x=0,  x=1, x=2, x=3, x=4$ and $x=5$?"
   ]
  },
  {
   "cell_type": "code",
   "execution_count": 293,
   "metadata": {},
   "outputs": [
    {
     "data": {
      "text/html": [
       "<div>\n",
       "<style scoped>\n",
       "    .dataframe tbody tr th:only-of-type {\n",
       "        vertical-align: middle;\n",
       "    }\n",
       "\n",
       "    .dataframe tbody tr th {\n",
       "        vertical-align: top;\n",
       "    }\n",
       "\n",
       "    .dataframe thead th {\n",
       "        text-align: right;\n",
       "    }\n",
       "</style>\n",
       "<table border=\"1\" class=\"dataframe\">\n",
       "  <thead>\n",
       "    <tr style=\"text-align: right;\">\n",
       "      <th></th>\n",
       "      <th>frequency</th>\n",
       "      <th>chances</th>\n",
       "    </tr>\n",
       "  </thead>\n",
       "  <tbody>\n",
       "    <tr>\n",
       "      <th>0</th>\n",
       "      <td>30.0</td>\n",
       "      <td>0.625</td>\n",
       "    </tr>\n",
       "    <tr>\n",
       "      <th>1</th>\n",
       "      <td>12.0</td>\n",
       "      <td>0.250</td>\n",
       "    </tr>\n",
       "    <tr>\n",
       "      <th>2</th>\n",
       "      <td>6.0</td>\n",
       "      <td>0.125</td>\n",
       "    </tr>\n",
       "    <tr>\n",
       "      <th>3</th>\n",
       "      <td>0.0</td>\n",
       "      <td>0.000</td>\n",
       "    </tr>\n",
       "    <tr>\n",
       "      <th>4</th>\n",
       "      <td>0.0</td>\n",
       "      <td>0.000</td>\n",
       "    </tr>\n",
       "    <tr>\n",
       "      <th>5</th>\n",
       "      <td>0.0</td>\n",
       "      <td>0.000</td>\n",
       "    </tr>\n",
       "  </tbody>\n",
       "</table>\n",
       "</div>"
      ],
      "text/plain": [
       "   frequency  chances\n",
       "0       30.0    0.625\n",
       "1       12.0    0.250\n",
       "2        6.0    0.125\n",
       "3        0.0    0.000\n",
       "4        0.0    0.000\n",
       "5        0.0    0.000"
      ]
     },
     "execution_count": 293,
     "metadata": {},
     "output_type": "execute_result"
    }
   ],
   "source": [
    "freq_table['chances'] = freq_table.frequency/freq_table.frequency.sum()\n",
    "freq_table"
   ]
  },
  {
   "cell_type": "markdown",
   "metadata": {},
   "source": [
    "(iii) Consider the postulate that a reasonable model for this phenomenon is:\n",
    "$$\n",
    "f(x) = \\frac{e^{-0.5}{0.5^{x}}} {x!}\n",
    "$$\n",
    "where $f(x)$ represents the theoretical `probability` of recording exactly $x$ safety incidents per month.  How well does this model fit the data?\n"
   ]
  },
  {
   "cell_type": "code",
   "execution_count": 295,
   "metadata": {},
   "outputs": [
    {
     "data": {
      "text/html": [
       "<div>\n",
       "<style scoped>\n",
       "    .dataframe tbody tr th:only-of-type {\n",
       "        vertical-align: middle;\n",
       "    }\n",
       "\n",
       "    .dataframe tbody tr th {\n",
       "        vertical-align: top;\n",
       "    }\n",
       "\n",
       "    .dataframe thead th {\n",
       "        text-align: right;\n",
       "    }\n",
       "</style>\n",
       "<table border=\"1\" class=\"dataframe\">\n",
       "  <thead>\n",
       "    <tr style=\"text-align: right;\">\n",
       "      <th></th>\n",
       "      <th>frequency</th>\n",
       "      <th>chances</th>\n",
       "      <th>theoretical_probability</th>\n",
       "    </tr>\n",
       "  </thead>\n",
       "  <tbody>\n",
       "    <tr>\n",
       "      <th>0</th>\n",
       "      <td>30.0</td>\n",
       "      <td>0.625</td>\n",
       "      <td>0.606531</td>\n",
       "    </tr>\n",
       "    <tr>\n",
       "      <th>1</th>\n",
       "      <td>12.0</td>\n",
       "      <td>0.250</td>\n",
       "      <td>0.303265</td>\n",
       "    </tr>\n",
       "    <tr>\n",
       "      <th>2</th>\n",
       "      <td>6.0</td>\n",
       "      <td>0.125</td>\n",
       "      <td>0.075816</td>\n",
       "    </tr>\n",
       "    <tr>\n",
       "      <th>3</th>\n",
       "      <td>0.0</td>\n",
       "      <td>0.000</td>\n",
       "      <td>0.012636</td>\n",
       "    </tr>\n",
       "    <tr>\n",
       "      <th>4</th>\n",
       "      <td>0.0</td>\n",
       "      <td>0.000</td>\n",
       "      <td>0.001580</td>\n",
       "    </tr>\n",
       "    <tr>\n",
       "      <th>5</th>\n",
       "      <td>0.0</td>\n",
       "      <td>0.000</td>\n",
       "      <td>0.000158</td>\n",
       "    </tr>\n",
       "  </tbody>\n",
       "</table>\n",
       "</div>"
      ],
      "text/plain": [
       "   frequency  chances  theoretical_probability\n",
       "0       30.0    0.625                 0.606531\n",
       "1       12.0    0.250                 0.303265\n",
       "2        6.0    0.125                 0.075816\n",
       "3        0.0    0.000                 0.012636\n",
       "4        0.0    0.000                 0.001580\n",
       "5        0.0    0.000                 0.000158"
      ]
     },
     "execution_count": 295,
     "metadata": {},
     "output_type": "execute_result"
    }
   ],
   "source": [
    "def function_of_x(x, lmbda=0.5):\n",
    "    value = (np.exp(-lmbda)*(lmbda**x))/math.factorial(x)\n",
    "    return value\n",
    "\n",
    "theoretical_probability = []\n",
    "for x in freq_table.index.values:\n",
    "    theoretical_probability.append(function_of_x(x))\n",
    "    \n",
    "freq_table['theoretical_probability'] = theoretical_probability\n",
    "freq_table"
   ]
  },
  {
   "cell_type": "markdown",
   "metadata": {},
   "source": [
    "#### `Observations:`\n",
    "The model fit the data pretty well. 'Chances' and 'Theoretical_probability' are close. According to the model, the theoretical_probability decreases sharply with increase in number of safety_incidents which is actually the case."
   ]
  },
  {
   "cell_type": "markdown",
   "metadata": {},
   "source": [
    "(iv) Assuming that this is a reasonable model, discuss how you would use it to answer the question: ``If, over the most recent four-month period, the plant recorded 1, 3, 2, 3 safety incidents respectively, is there evidence that there has been a 'real increase' in the number of safety incidents``? "
   ]
  },
  {
   "cell_type": "code",
   "execution_count": null,
   "metadata": {},
   "outputs": [],
   "source": []
  },
  {
   "cell_type": "code",
   "execution_count": null,
   "metadata": {},
   "outputs": [],
   "source": []
  },
  {
   "cell_type": "code",
   "execution_count": null,
   "metadata": {},
   "outputs": [],
   "source": []
  },
  {
   "cell_type": "markdown",
   "metadata": {},
   "source": [
    "# Exercise 1.16"
   ]
  },
  {
   "cell_type": "markdown",
   "metadata": {},
   "source": [
    "The table below shows a record of the `before` and `after` weights (in pounds) of 20 patients enrolled in a clinically-supervised ten-week weight-loss program.\n",
    "\n",
    "<img src=\"https://raw.githubusercontent.com/ayushi-b/Random_Phenomena_by_Babatunde_Ogunnaike/master/Chapter%201/Prob1_16.png\" width=550 height=300>\n",
    "\n",
    "Let $X_B$ represent the `Before` weight and $X_A$ the `After` weight.\n",
    "\n",
    "\n",
    "(i) Using the same bin size for each data set, obtain histograms for the $X_B$ and $X_A$ data and plot both on the same graph. Strictly on the basis of a  visual inspection of these histograms, what can you say about the effectiveness of the weight-loss program in achieving its objective of assisting patients to lose weight?\n"
   ]
  },
  {
   "cell_type": "code",
   "execution_count": null,
   "metadata": {},
   "outputs": [],
   "source": []
  },
  {
   "cell_type": "markdown",
   "metadata": {},
   "source": [
    "(ii) Define the difference variable, $D= X_B - X_A$, and from the given data, obtain and plot a histogram for this variable. Again, strictly from a  visual inspection of this histogram, what can you say about the effectiveness of the weight-loss program?"
   ]
  },
  {
   "cell_type": "code",
   "execution_count": null,
   "metadata": {},
   "outputs": [],
   "source": []
  },
  {
   "cell_type": "code",
   "execution_count": null,
   "metadata": {},
   "outputs": [],
   "source": []
  },
  {
   "cell_type": "code",
   "execution_count": null,
   "metadata": {},
   "outputs": [],
   "source": []
  },
  {
   "cell_type": "markdown",
   "metadata": {},
   "source": [
    "# Exercise 1.17"
   ]
  },
  {
   "cell_type": "markdown",
   "metadata": {},
   "source": [
    "The data shown in the table below is from an `Assisted Reproductive Technologies` clinic where a cohort of 100 patients under the age of 35 years (the `Younger` group), and  another cohort, 35 years and older (the `Older` group), each received five embryos in an in-vitro fertilization (IVF) treatment cycle.\n",
    "\n",
    "<img src=\"https://raw.githubusercontent.com/ayushi-b/Random_Phenomena_by_Babatunde_Ogunnaike/master/Chapter%201/Prob1_17.png\" width=500 height=350>\n",
    "\n",
    "\n",
    "The data shows $x$, the number of live births per delivered pregnancy, along with how many in each group had the pregnancy outcome of $x$. For example, the first entry indicates that the IVF treatment  was unsuccessful for 32 of the `older` patients, with the corresponding number being 8 for the `younger` patients; 41 `older` patients delivered singletons, compared with 25 for the younger patients; 21 older patients and 35 younger patients each delivered twins; etc. Obtain a `relative` frequency distribution for these data sets and plot the corresponding histograms. Determine the average number of live births per delivered pregnancy for each group and compare these values.  Comment on whether or not these data sets indicate that the outcomes of the IVF treatments are different for these two groups."
   ]
  },
  {
   "cell_type": "code",
   "execution_count": null,
   "metadata": {},
   "outputs": [],
   "source": []
  }
 ],
 "metadata": {
  "kernelspec": {
   "display_name": "Python 3",
   "language": "python",
   "name": "python3"
  },
  "language_info": {
   "codemirror_mode": {
    "name": "ipython",
    "version": 3
   },
   "file_extension": ".py",
   "mimetype": "text/x-python",
   "name": "python",
   "nbconvert_exporter": "python",
   "pygments_lexer": "ipython3",
   "version": "3.6.4"
  }
 },
 "nbformat": 4,
 "nbformat_minor": 2
}
