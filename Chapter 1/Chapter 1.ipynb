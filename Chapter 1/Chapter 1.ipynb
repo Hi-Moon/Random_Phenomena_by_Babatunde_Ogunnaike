{
 "cells": [
  {
   "cell_type": "code",
   "execution_count": 1,
   "metadata": {},
   "outputs": [],
   "source": [
    "bold = '\\033[1m' \n",
    "end = '\\033[0m'\n",
    "\n",
    "import pandas as pd\n",
    "import numpy as np\n",
    "from matplotlib import pyplot as plt"
   ]
  },
  {
   "cell_type": "code",
   "execution_count": 2,
   "metadata": {},
   "outputs": [],
   "source": [
    "table1_1 = pd.read_excel('Chapter1.xlsx', sheet_name='Table1.1')\n",
    "table1_2 = pd.read_excel('Chapter1.xlsx', sheet_name='Table1.2')\n",
    "table1_3 = pd.read_excel('Chapter1.xlsx', sheet_name='Table1.3')\n",
    "table1_4 = pd.read_excel('Chapter1.xlsx', sheet_name='Table1.4')\n",
    "table1_5 = pd.read_excel('Chapter1.xlsx', sheet_name='Table1.5')\n",
    "prob1_13 = pd.read_excel('Chapter1.xlsx', sheet_name='Prob1.13')\n",
    "prob1_15 = pd.read_excel('Chapter1.xlsx', sheet_name='Prob1.15')\n",
    "prob1_16 = pd.read_excel('Chapter1.xlsx', sheet_name='Prob1.16')\n",
    "prob1_17 = pd.read_excel('Chapter1.xlsx', sheet_name='Prob1.17')"
   ]
  },
  {
   "cell_type": "code",
   "execution_count": 3,
   "metadata": {},
   "outputs": [
    {
     "name": "stdout",
     "output_type": "stream",
     "text": [
      "        YA       YB\n",
      "0  74.0422  75.7523\n",
      "1  75.2921  68.4104\n",
      "2  75.6269  74.1911\n",
      "3  75.9191  68.1020\n",
      "4  77.2113  68.1002\n",
      "(50, 2)\n"
     ]
    }
   ],
   "source": [
    "print(table1_1.head())\n",
    "print(table1_1.shape)"
   ]
  },
  {
   "cell_type": "code",
   "execution_count": 4,
   "metadata": {},
   "outputs": [
    {
     "name": "stdout",
     "output_type": "stream",
     "text": [
      "   Inclusions\n",
      "0           0\n",
      "1           2\n",
      "2           1\n",
      "3           1\n",
      "4           2\n",
      "(60, 1)\n"
     ]
    }
   ],
   "source": [
    "print(table1_2.head())\n",
    "print(table1_2.shape)"
   ]
  },
  {
   "cell_type": "code",
   "execution_count": 5,
   "metadata": {},
   "outputs": [
    {
     "name": "stdout",
     "output_type": "stream",
     "text": [
      "   interval_start  interval_stop  Frequency  Relative Frequency\n",
      "0           71.51           72.5          1                0.02\n",
      "1           72.51           73.5          2                0.04\n",
      "2           73.51           74.5          9                0.18\n",
      "3           74.51           75.5         17                0.34\n",
      "4           75.51           76.5          7                0.14\n",
      "(8, 4)\n"
     ]
    }
   ],
   "source": [
    "print(table1_3.head())\n",
    "print(table1_3.shape)"
   ]
  },
  {
   "cell_type": "code",
   "execution_count": 6,
   "metadata": {
    "scrolled": true
   },
   "outputs": [
    {
     "name": "stdout",
     "output_type": "stream",
     "text": [
      "   interval_start  interval_stop  Frequency  Relative Frequency\n",
      "0           66.51           67.5          1                0.02\n",
      "1           67.51           68.5          3                0.06\n",
      "2           68.51           69.5          4                0.08\n",
      "3           69.51           70.5          8                0.16\n",
      "4           70.51           71.5          4                0.04\n",
      "(13, 4)\n"
     ]
    }
   ],
   "source": [
    "print(table1_4.head())\n",
    "print(table1_4.shape)"
   ]
  },
  {
   "cell_type": "code",
   "execution_count": 18,
   "metadata": {},
   "outputs": [
    {
     "name": "stdout",
     "output_type": "stream",
     "text": [
      "   x  Frequency  Relative Frequency\n",
      "0  0         22               0.367\n",
      "1  1         23               0.383\n",
      "2  2         11               0.183\n",
      "3  3          1               0.017\n",
      "4  4          2               0.033\n",
      "(7, 3)\n"
     ]
    }
   ],
   "source": [
    "print(table1_5.head())\n",
    "print(table1_5.shape)"
   ]
  },
  {
   "cell_type": "code",
   "execution_count": 7,
   "metadata": {},
   "outputs": [
    {
     "name": "stdout",
     "output_type": "stream",
     "text": [
      "   JanPapers\n",
      "0    19.1934\n",
      "1    15.0834\n",
      "2     9.5556\n",
      "3     4.2003\n",
      "4     5.4189\n",
      "(85, 1)\n"
     ]
    }
   ],
   "source": [
    "print(prob1_13.head())\n",
    "print(prob1_13.shape)"
   ]
  },
  {
   "cell_type": "code",
   "execution_count": 8,
   "metadata": {},
   "outputs": [
    {
     "name": "stdout",
     "output_type": "stream",
     "text": [
      "   SafetyIncidents\n",
      "0                1\n",
      "1                0\n",
      "2                0\n",
      "3                0\n",
      "4                2\n",
      "(48, 1)\n"
     ]
    }
   ],
   "source": [
    "print(prob1_15.head())\n",
    "print(prob1_15.shape)"
   ]
  },
  {
   "cell_type": "code",
   "execution_count": 9,
   "metadata": {},
   "outputs": [
    {
     "name": "stdout",
     "output_type": "stream",
     "text": [
      "   Before WT  After WT\n",
      "0        272       263\n",
      "1        319       313\n",
      "2        253       251\n",
      "3        325       312\n",
      "4        236       227\n",
      "(20, 2)\n"
     ]
    }
   ],
   "source": [
    "print(prob1_16.head())\n",
    "print(prob1_16.shape)"
   ]
  },
  {
   "cell_type": "code",
   "execution_count": 10,
   "metadata": {},
   "outputs": [
    {
     "name": "stdout",
     "output_type": "stream",
     "text": [
      "   x  yO  yY\n",
      "0  0  32   8\n",
      "1  1  41  25\n",
      "2  2  21  35\n",
      "3  3   5  23\n",
      "4  4   1   8\n",
      "(6, 3)\n"
     ]
    }
   ],
   "source": [
    "print(prob1_17.head())\n",
    "print(prob1_17.shape)"
   ]
  },
  {
   "cell_type": "code",
   "execution_count": null,
   "metadata": {},
   "outputs": [],
   "source": []
  },
  {
   "cell_type": "code",
   "execution_count": null,
   "metadata": {},
   "outputs": [],
   "source": []
  },
  {
   "cell_type": "markdown",
   "metadata": {},
   "source": [
    "# `EXERCISES`"
   ]
  },
  {
   "cell_type": "markdown",
   "metadata": {},
   "source": [
    "# Exercise 1.1"
   ]
  },
  {
   "cell_type": "markdown",
   "metadata": {},
   "source": [
    "The variance of a collection of $n$ data points, $y_1, y_2, \\ldots, y_n$, is defined as:\n",
    "<br> <br>\n",
    "    $$ s^2 = \\frac{\\sum_{i=1}^n(y_i - \\bar{y})^2}{n-1} $$ \n",
    "    \n",
    "where $\\bar{y}$ is the arithmetic average of the data set. From the yield data in Table 1.1, obtain the variances $s^2_A$ and $s^2_B$ for the $Y_A$ and $Y_B$ data sets, respectively.  Which  is greater, $s^2_A$ or $s^2_B$?"
   ]
  },
  {
   "cell_type": "markdown",
   "metadata": {},
   "source": [
    "\n",
    "\n"
   ]
  },
  {
   "cell_type": "code",
   "execution_count": 11,
   "metadata": {},
   "outputs": [
    {
     "name": "stdout",
     "output_type": "stream",
     "text": [
      "\u001b[1m\n",
      "–––––––– Results using formulas given in book: ––––––––\u001b[0m\n",
      "Average of YA =  75.518804\n",
      "Average of YB =  72.47207200000001\n",
      "Variance of YA =  2.049267960800001\n",
      "Variance of YB =  7.640063316342855\n",
      "\u001b[1m\n",
      "\n",
      "–––––––– Results using built-in functions: ––––––––\u001b[0m\n",
      "Average of YA =  75.518804\n",
      "Average of YB =  72.47207200000001\n",
      "Variance of YA =  2.0492679608\n",
      "Variance of YB =  7.640063316342858\n",
      "\n",
      "\n",
      "Variance of YB (7.640063316342858) is greater than varinace of YA (2.0492679608)\n"
     ]
    }
   ],
   "source": [
    "n_yield = table1_1.shape[0]\n",
    "\n",
    "\n",
    "# using formulas given in book\n",
    "print(bold + \"\\n{} Results using formulas given in book: {}\".format('–'*8, '–'*8) + end)\n",
    "avg_ya = sum(table1_1.YA.values)/n_yield\n",
    "avg_yb = sum(table1_1.YB.values)/n_yield\n",
    "var_ya = sum((table1_1.YA.values - avg_ya)**2)/(n_yield-1)\n",
    "var_yb = sum((table1_1.YB.values - avg_yb)**2)/(n_yield-1)\n",
    "\n",
    "print(\"Average of YA = \", avg_ya)\n",
    "print(\"Average of YB = \", avg_yb)\n",
    "print(\"Variance of YA = \", var_ya)\n",
    "print(\"Variance of YB = \", var_yb)\n",
    "\n",
    "\n",
    "\n",
    "# using built-in functions\n",
    "print(bold + \"\\n\\n{} Results using built-in functions: {}\".format('–'*8, '–'*8) + end)\n",
    "avg_ya = table1_1.YA.mean()\n",
    "avg_yb = table1_1.YB.mean()\n",
    "var_ya = table1_1.YA.var()\n",
    "var_yb = table1_1.YB.var()\n",
    "\n",
    "print(\"Average of YA = \", avg_ya)\n",
    "print(\"Average of YB = \", avg_yb)\n",
    "print(\"Variance of YA = \", var_ya)\n",
    "print(\"Variance of YB = \", var_yb)\n",
    "\n",
    "\n",
    "variance = {\n",
    "    'YA': var_ya,\n",
    "    'YB': var_yb,\n",
    "}\n",
    "print(\"\\n\")\n",
    "print(\"Variance of {} ({}) is greater than varinace of {} ({})\".format(\n",
    "    max(variance, key=variance.get),\n",
    "    max(variance.values()),\n",
    "    min(variance, key=variance.get),\n",
    "    min(variance.values()),\n",
    "))"
   ]
  },
  {
   "cell_type": "code",
   "execution_count": null,
   "metadata": {},
   "outputs": [],
   "source": []
  },
  {
   "cell_type": "code",
   "execution_count": null,
   "metadata": {},
   "outputs": [],
   "source": []
  },
  {
   "cell_type": "markdown",
   "metadata": {},
   "source": [
    "# Exercise 1.2"
   ]
  },
  {
   "cell_type": "markdown",
   "metadata": {},
   "source": [
    "Even though the data sets in Table 1.1 were not generated in pairs, obtain the 50 differences,\n",
    "<br> <br>\n",
    "    $$\n",
    "    d_i = y_{A_i} - y_{B_i}\\,; \\,\\,\\, i = 1, 2, \\ldots, 50,\n",
    "    $$\n",
    "<br>\n",
    "for corresponding values of $Y_A$ and $Y_B$ as presented in this table.  Obtain a histogram of $d_i$ and compute the arithmetic average,\n",
    "<br> <br>\n",
    "    $$\n",
    "    \\bar{d} = \\frac{1}{n}\\sum_{i=1}^n d_i.\n",
    "    $$\n",
    "\n",
    "What do these results suggest about the possibility that $Y_A$ may be greater than $Y_B$? "
   ]
  },
  {
   "cell_type": "markdown",
   "metadata": {},
   "source": [
    "\n"
   ]
  },
  {
   "cell_type": "code",
   "execution_count": 12,
   "metadata": {},
   "outputs": [
    {
     "name": "stdout",
     "output_type": "stream",
     "text": [
      "[-1.7101  6.8817  1.4358  7.8171  9.1111]\n",
      "\n",
      "Average of d: 3.0467319999999996\n",
      "Percentage of values greater than zero: 84.0%\n"
     ]
    },
    {
     "data": {
      "image/png": "[encoded data removed]",
      "text/plain": [
       "<matplotlib.figure.Figure at 0x114af2048>"
      ]
     },
     "metadata": {},
     "output_type": "display_data"
    }
   ],
   "source": [
    "table1_1['d'] = table1_1.YA - table1_1.YB\n",
    "print(table1_1.d.head().values)\n",
    "\n",
    "table1_1.d.hist(bins=np.arange(-10, 10, 1))\n",
    "\n",
    "avg_d = table1_1.d.mean()\n",
    "print(\"\\nAverage of d: {}\".format(avg_d))\n",
    "\n",
    "vals_more_than_zero = (len([x for x in table1_1.d if x>0])/n_yield)*100\n",
    "print(\"Percentage of values greater than zero: {}%\".format(vals_more_than_zero))"
   ]
  },
  {
   "cell_type": "markdown",
   "metadata": {},
   "source": [
    "#### `Observations:`\n",
    "\n",
    "From the histogram, we can see that most of the values(84%) are positive. \n",
    "The average value of d and the histogram suggest that YA is greater than YB by a value of 3."
   ]
  },
  {
   "cell_type": "code",
   "execution_count": null,
   "metadata": {},
   "outputs": [],
   "source": []
  },
  {
   "cell_type": "code",
   "execution_count": null,
   "metadata": {},
   "outputs": [],
   "source": []
  },
  {
   "cell_type": "markdown",
   "metadata": {},
   "source": [
    "# Exercise 1.3"
   ]
  },
  {
   "cell_type": "markdown",
   "metadata": {},
   "source": [
    "A set of theoretical results state that, for $d_i$ and $\\bar{d}$ (defined in Exercise 1.2), and variance $s^2$ (defined in Exercise 1.1), <br> <br>\n",
    "$$\n",
    "    \\bar{d} = \\bar{y}_A - \\bar{y}_B\n",
    "    $$ <br>\n",
    "    $$\n",
    "    s^2_d = s^2_A + s^2_B\n",
    "    $$\n",
    "    \n",
    "Confirm these results specifically for the data in Table 1.1"
   ]
  },
  {
   "cell_type": "code",
   "execution_count": 13,
   "metadata": {},
   "outputs": [
    {
     "name": "stdout",
     "output_type": "stream",
     "text": [
      "\u001b[1m\n",
      "–––––––– Results using formulas defined in Exercises: ––––––––\u001b[0m\n",
      "Average value of d:  3.0467319999999996\n",
      "Variance of d:  11.0220858634449\n",
      "\u001b[1m\n",
      "–––––––– Results using theoretical statements: ––––––––\u001b[0m\n",
      "Average value of d:  3.0467319999999916\n",
      "Variance of d:  9.689331277142859\n"
     ]
    }
   ],
   "source": [
    "var_d = sum((table1_1.d.values - avg_d)**2)/(n_yield-1)\n",
    "\n",
    "print(bold + \"\\n{} Results using formulas defined in Exercises: {}\".format('–'*8, '–'*8) + end)\n",
    "print(\"Average value of d: \", avg_d)\n",
    "print(\"Variance of d: \", var_d)\n",
    "\n",
    "\n",
    "print(bold + \"\\n{} Results using theoretical statements: {}\".format('–'*8, '–'*8) + end)\n",
    "print(\"Average value of d: \", avg_ya - avg_yb)\n",
    "print(\"Variance of d: \", var_ya + var_yb)\n"
   ]
  },
  {
   "cell_type": "markdown",
   "metadata": {},
   "source": [
    "##### `Observations:`\n",
    "    \n",
    "As we can see, average value of d is indeed the difference of average values of YA and YB.\n",
    "But, variance of d is not the sum of variances of YA and YB."
   ]
  },
  {
   "cell_type": "code",
   "execution_count": null,
   "metadata": {},
   "outputs": [],
   "source": []
  },
  {
   "cell_type": "code",
   "execution_count": null,
   "metadata": {},
   "outputs": [],
   "source": []
  },
  {
   "cell_type": "markdown",
   "metadata": {},
   "source": [
    "# Exercise 1.4"
   ]
  },
  {
   "cell_type": "markdown",
   "metadata": {},
   "source": [
    "From the data in Table 1.2, obtain $s^2_x$, the variance of the inclusions."
   ]
  },
  {
   "cell_type": "code",
   "execution_count": 14,
   "metadata": {},
   "outputs": [
    {
     "name": "stdout",
     "output_type": "stream",
     "text": [
      "Average value of Inclusions:  1.0166666666666666\n",
      "Variance of Inclusions:  1.2031073446327696\n"
     ]
    }
   ],
   "source": [
    "n_inclusions = table1_2.shape[0]\n",
    "avg_inclusions = sum(table1_2.Inclusions.values)/n_inclusions\n",
    "var_inclusions = sum((table1_2.Inclusions.values - avg_inclusions)**2)/(n_inclusions-1)\n",
    "\n",
    "print(\"Average value of Inclusions: \", avg_inclusions)\n",
    "print(\"Variance of Inclusions: \", var_inclusions)"
   ]
  },
  {
   "cell_type": "code",
   "execution_count": null,
   "metadata": {},
   "outputs": [],
   "source": []
  },
  {
   "cell_type": "code",
   "execution_count": null,
   "metadata": {},
   "outputs": [],
   "source": []
  },
  {
   "cell_type": "markdown",
   "metadata": {},
   "source": [
    "# Exercise 1.5"
   ]
  },
  {
   "cell_type": "markdown",
   "metadata": {},
   "source": [
    "The random variable, $X$, representing the number of inclusions, is purported to be a Poisson random variable .  If true, then the average, $\\bar{x}$, and variance, $s^2_x$, are theoretically equal.  Compare the  values computed for these two quantities from the data set in  Table 1.2.  What do these results suggest about the possibility that $X$ may in fact be a Poisson random variable?"
   ]
  },
  {
   "cell_type": "code",
   "execution_count": 15,
   "metadata": {},
   "outputs": [
    {
     "name": "stdout",
     "output_type": "stream",
     "text": [
      "Average value of Inclusions:  1.0166666666666666\n",
      "Variance of Inclusions:  1.2031073446327696\n"
     ]
    }
   ],
   "source": [
    "print(\"Average value of Inclusions: \", avg_inclusions)\n",
    "print(\"Variance of Inclusions: \", var_inclusions)"
   ]
  },
  {
   "cell_type": "markdown",
   "metadata": {},
   "source": [
    "#### `Observations:`\n",
    "The average ($\\bar{x}$ = 1.016666) and variance ($s_x^2$ = 1.203107) of $X$ are close but not equal. The results vaguely suggest that $X$ may be Poisson random variable."
   ]
  },
  {
   "cell_type": "code",
   "execution_count": null,
   "metadata": {},
   "outputs": [],
   "source": []
  },
  {
   "cell_type": "code",
   "execution_count": null,
   "metadata": {},
   "outputs": [],
   "source": []
  },
  {
   "cell_type": "markdown",
   "metadata": {},
   "source": [
    "# Exercise 1.6"
   ]
  },
  {
   "cell_type": "markdown",
   "metadata": {},
   "source": [
    "Using a bin size of 0.75, obtain relative frequencies for $Y_A$ and $Y_B$ data and the corresponding histograms. Repeat this exercise for a bin size of 2.0. Compare these two sets of histograms with the corresponding histograms in Figs 12.8 and 1.2.\n",
    "\n",
    "\n",
    " Fig 12.8 | Fig 1.2 \n",
    "- | - \n",
    "![YA yield histogram](https://raw.githubusercontent.com/ayushi-b/Random_Phenomena_by_Babatunde_Ogunnaike/master/Chapter%201/Fig12_8.png) | ![YB yield histogram](https://raw.githubusercontent.com/ayushi-b/Random_Phenomena_by_Babatunde_Ogunnaike/master/Chapter%201/Fig1_2.png)"
   ]
  },
  {
   "cell_type": "code",
   "execution_count": 16,
   "metadata": {
    "scrolled": false
   },
   "outputs": [
    {
     "name": "stdout",
     "output_type": "stream",
     "text": [
      "    frequency  interval_start  interval_stop  relative_frequency\n",
      "0         1.0           72.00          72.75                0.02\n",
      "1         2.0           72.75          73.50                0.04\n",
      "2         7.0           73.50          74.25                0.14\n",
      "3         9.0           74.25          75.00                0.18\n",
      "4        12.0           75.00          75.75                0.24\n",
      "5         5.0           75.75          76.50                0.10\n",
      "6         7.0           76.50          77.25                0.14\n",
      "7         5.0           77.25          78.00                0.10\n",
      "8         1.0           78.00          78.75                0.02\n",
      "9         1.0           78.75          79.50                0.02\n",
      "10        0.0           79.50          80.25                0.00\n"
     ]
    },
    {
     "data": {
      "image/png": "[encoded data removed]",
      "text/plain": [
       "<matplotlib.figure.Figure at 0x114c18780>"
      ]
     },
     "metadata": {},
     "output_type": "display_data"
    },
    {
     "name": "stdout",
     "output_type": "stream",
     "text": [
      "   frequency  interval_start  interval_stop  relative_frequency\n",
      "0        7.0            72.0           74.0                0.14\n",
      "1       28.0            74.0           76.0                0.56\n",
      "2       13.0            76.0           78.0                0.26\n",
      "3        2.0            78.0           80.0                0.04\n"
     ]
    },
    {
     "data": {
      "image/png": "[encoded data removed]",
      "text/plain": [
       "<matplotlib.figure.Figure at 0x114c92668>"
      ]
     },
     "metadata": {},
     "output_type": "display_data"
    }
   ],
   "source": [
    "data_ya_75 = plt.hist(table1_1.YA, bins=np.arange(np.floor(min(table1_1.YA)), np.ceil(max(table1_1.YA))+1, 0.75))\n",
    "\n",
    "freq_ya_75 = pd.DataFrame(data_ya_75[0], columns=['frequency'])\n",
    "freq_ya_75['interval_start'] = data_ya_75[1][:-1]\n",
    "freq_ya_75['interval_stop'] = data_ya_75[1][1:]\n",
    "freq_ya_75['relative_frequency'] = freq_ya_75.frequency/sum(freq_ya_75.frequency)\n",
    "print(freq_ya_75)\n",
    "\n",
    "plt.show()\n",
    "\n",
    "\n",
    "\n",
    "data_ya_2 = plt.hist(table1_1.YA, bins=np.arange(np.floor(min(table1_1.YA)), np.ceil(max(table1_1.YA))+1, 2))\n",
    "\n",
    "freq_ya_2 = pd.DataFrame(data_ya_2[0], columns=['frequency'])\n",
    "freq_ya_2['interval_start'] = data_ya_2[1][:-1]\n",
    "freq_ya_2['interval_stop'] = data_ya_2[1][1:]\n",
    "freq_ya_2['relative_frequency'] = freq_ya_2.frequency/sum(freq_ya_2.frequency)\n",
    "print(freq_ya_2)\n",
    "\n",
    "plt.show()"
   ]
  },
  {
   "cell_type": "markdown",
   "metadata": {},
   "source": [
    "#### `Observations:`\n",
    "\n",
    "As the bin size increases, the shape of histogram tends to \n",
    "\n",
    "When compared to Fig 12.8"
   ]
  },
  {
   "cell_type": "code",
   "execution_count": 17,
   "metadata": {},
   "outputs": [
    {
     "name": "stdout",
     "output_type": "stream",
     "text": [
      "    frequency  interval_start  interval_stop  relative_frequency\n",
      "0         1.0           67.00          67.75                0.02\n",
      "1         3.0           67.75          68.50                0.06\n",
      "2         3.0           68.50          69.25                0.06\n",
      "3         2.0           69.25          70.00                0.04\n",
      "4         7.0           70.00          70.75                0.14\n",
      "5         4.0           70.75          71.50                0.08\n",
      "6         4.0           71.50          72.25                0.08\n",
      "7         6.0           72.25          73.00                0.12\n",
      "8         2.0           73.00          73.75                0.04\n",
      "9         5.0           73.75          74.50                0.10\n",
      "10        3.0           74.50          75.25                0.06\n",
      "11        6.0           75.25          76.00                0.12\n",
      "12        2.0           76.00          76.75                0.04\n",
      "13        0.0           76.75          77.50                0.00\n",
      "14        0.0           77.50          78.25                0.00\n",
      "15        2.0           78.25          79.00                0.04\n",
      "16        0.0           79.00          79.75                0.00\n"
     ]
    },
    {
     "data": {
      "image/png": "[encoded data removed]",
      "text/plain": [
       "<matplotlib.figure.Figure at 0x114c3fd30>"
      ]
     },
     "metadata": {},
     "output_type": "display_data"
    },
    {
     "name": "stdout",
     "output_type": "stream",
     "text": [
      "   frequency  interval_start  interval_stop  relative_frequency\n",
      "0        5.0            67.0           69.0                0.10\n",
      "1       12.0            69.0           71.0                0.24\n",
      "2       13.0            71.0           73.0                0.26\n",
      "3       10.0            73.0           75.0                0.20\n",
      "4        8.0            75.0           77.0                0.16\n",
      "5        2.0            77.0           79.0                0.04\n"
     ]
    },
    {
     "data": {
      "image/png": "[encoded data removed]",
      "text/plain": [
       "<matplotlib.figure.Figure at 0x114a7dcc0>"
      ]
     },
     "metadata": {},
     "output_type": "display_data"
    }
   ],
   "source": [
    "data_yb_75 = plt.hist(table1_1.YB, bins=np.arange(np.floor(min(table1_1.YB)), np.ceil(max(table1_1.YB))+1, 0.75))\n",
    "\n",
    "freq_yb_75 = pd.DataFrame(data_yb_75[0], columns=['frequency'])\n",
    "freq_yb_75['interval_start'] = data_yb_75[1][:-1]\n",
    "freq_yb_75['interval_stop'] = data_yb_75[1][1:]\n",
    "freq_yb_75['relative_frequency'] = freq_yb_75.frequency/sum(freq_yb_75.frequency)\n",
    "print(freq_yb_75)\n",
    "\n",
    "plt.show()\n",
    "\n",
    "\n",
    "\n",
    "data_yb_2 = plt.hist(table1_1.YB, bins=np.arange(np.floor(min(table1_1.YB)), np.ceil(max(table1_1.YB))+1, 2))\n",
    "\n",
    "freq_yb_2 = pd.DataFrame(data_yb_2[0], columns=['frequency'])\n",
    "freq_yb_2['interval_start'] = data_yb_2[1][:-1]\n",
    "freq_yb_2['interval_stop'] = data_yb_2[1][1:]\n",
    "freq_yb_2['relative_frequency'] = freq_yb_2.frequency/sum(freq_yb_2.frequency)\n",
    "print(freq_yb_2)\n",
    "\n",
    "plt.show()"
   ]
  },
  {
   "cell_type": "code",
   "execution_count": null,
   "metadata": {},
   "outputs": [],
   "source": []
  },
  {
   "cell_type": "code",
   "execution_count": null,
   "metadata": {},
   "outputs": [],
   "source": []
  },
  {
   "cell_type": "markdown",
   "metadata": {},
   "source": [
    "# Exercise 1.7"
   ]
  },
  {
   "cell_type": "markdown",
   "metadata": {},
   "source": [
    "From the frequency distribution in Table 12.3 (same as table 1.3) and the  values computed for the average, $\\bar{y}_A$, and variance, $s^2_A$ of the yield data set, $Y_A$, determine the percentage of the data contained in the interval $\\bar{y}_A \\pm 1.96 s_A$, where $s_A$ is the positive square root of the variance, $s^2_A$."
   ]
  },
  {
   "cell_type": "code",
   "execution_count": null,
   "metadata": {},
   "outputs": [],
   "source": []
  },
  {
   "cell_type": "code",
   "execution_count": null,
   "metadata": {},
   "outputs": [],
   "source": []
  },
  {
   "cell_type": "code",
   "execution_count": null,
   "metadata": {},
   "outputs": [],
   "source": []
  },
  {
   "cell_type": "code",
   "execution_count": null,
   "metadata": {},
   "outputs": [],
   "source": []
  },
  {
   "cell_type": "markdown",
   "metadata": {},
   "source": [
    "# Exercise 1.8"
   ]
  },
  {
   "cell_type": "markdown",
   "metadata": {},
   "source": [
    "Repeat Exercise 1.7 for the $Y_B$ data in  Table 1.4. Determine the percentage of the data contained in the interval $\\bar{y}_B \\pm 1.96 s_B$."
   ]
  },
  {
   "cell_type": "code",
   "execution_count": null,
   "metadata": {},
   "outputs": [],
   "source": []
  },
  {
   "cell_type": "code",
   "execution_count": null,
   "metadata": {},
   "outputs": [],
   "source": []
  },
  {
   "cell_type": "code",
   "execution_count": null,
   "metadata": {},
   "outputs": [],
   "source": []
  },
  {
   "cell_type": "markdown",
   "metadata": {},
   "source": [
    "# Exercise 1.9"
   ]
  },
  {
   "cell_type": "markdown",
   "metadata": {},
   "source": [
    "From Table 1.5 determine the value of $x$ such that only 5% of the data exceeds this value.\n"
   ]
  },
  {
   "cell_type": "code",
   "execution_count": null,
   "metadata": {},
   "outputs": [],
   "source": []
  },
  {
   "cell_type": "code",
   "execution_count": null,
   "metadata": {},
   "outputs": [],
   "source": []
  },
  {
   "cell_type": "code",
   "execution_count": null,
   "metadata": {},
   "outputs": [],
   "source": []
  },
  {
   "cell_type": "code",
   "execution_count": null,
   "metadata": {},
   "outputs": [],
   "source": []
  },
  {
   "cell_type": "code",
   "execution_count": null,
   "metadata": {},
   "outputs": [],
   "source": []
  },
  {
   "cell_type": "markdown",
   "metadata": {},
   "source": [
    "# Exercise 1.10"
   ]
  },
  {
   "cell_type": "markdown",
   "metadata": {},
   "source": [
    "Using $\\mu=75.52$ and $\\sigma= 1.43$, compute theoretical values of the function in Eq 4.155 (also Eq 1.3) given below <br><br>\n",
    "$$\n",
    "f(y|\\mu, \\sigma) = \\frac{1}{\\sigma\\sqrt{2\\pi}}e^{\\frac{-(y-\\mu)^2}{2\n",
    "    \\sigma^2}}; - \\infty < y < \\infty\n",
    "$$\n",
    "\n",
    "at the center points of the frequency groups for the $Y_A$ data in Table 1.3; i.e., for $y= 72, 73, \\ldots, 79$.  Compare these theoretical values with the corresponding relative frequency values."
   ]
  },
  {
   "cell_type": "code",
   "execution_count": null,
   "metadata": {},
   "outputs": [],
   "source": []
  },
  {
   "cell_type": "code",
   "execution_count": null,
   "metadata": {},
   "outputs": [],
   "source": []
  },
  {
   "cell_type": "code",
   "execution_count": null,
   "metadata": {},
   "outputs": [],
   "source": []
  },
  {
   "cell_type": "markdown",
   "metadata": {},
   "source": [
    "# Exercise 1.11"
   ]
  },
  {
   "cell_type": "markdown",
   "metadata": {},
   "source": [
    "Repeat Exercise 1.10 for $Y_B$ data and Table 1.4"
   ]
  },
  {
   "cell_type": "code",
   "execution_count": null,
   "metadata": {},
   "outputs": [],
   "source": []
  },
  {
   "cell_type": "code",
   "execution_count": null,
   "metadata": {},
   "outputs": [],
   "source": []
  },
  {
   "cell_type": "code",
   "execution_count": null,
   "metadata": {},
   "outputs": [],
   "source": []
  },
  {
   "cell_type": "code",
   "execution_count": null,
   "metadata": {},
   "outputs": [],
   "source": []
  },
  {
   "cell_type": "code",
   "execution_count": null,
   "metadata": {},
   "outputs": [],
   "source": []
  },
  {
   "cell_type": "markdown",
   "metadata": {},
   "source": [
    "# Exercise 1.12"
   ]
  },
  {
   "cell_type": "markdown",
   "metadata": {},
   "source": [
    "Using $\\lambda = 1.02$, compute theoretical values of the function $f(x|\\lambda)$ in Eq 4.40 (also Eq 1.4) given below <br> <br>\n",
    "$$\n",
    "f(x|\\lambda) = \\frac{e^{-\\lambda}\\lambda^x}{x!}; x= 0, 1, 2,\\ldots\n",
    "$$\n",
    "\n",
    "at $x= 0, 1, 2, \\ldots 6$ and compare with the corresponding relative frequency values in Table 1.5"
   ]
  },
  {
   "cell_type": "code",
   "execution_count": null,
   "metadata": {},
   "outputs": [],
   "source": []
  },
  {
   "cell_type": "code",
   "execution_count": null,
   "metadata": {},
   "outputs": [],
   "source": []
  },
  {
   "cell_type": "code",
   "execution_count": null,
   "metadata": {},
   "outputs": [],
   "source": []
  },
  {
   "cell_type": "markdown",
   "metadata": {},
   "source": [
    "# `Application Problems`"
   ]
  },
  {
   "cell_type": "markdown",
   "metadata": {},
   "source": [
    "# Exercise 1.13"
   ]
  },
  {
   "cell_type": "markdown",
   "metadata": {},
   "source": [
    "The data set in the table for this problem is the time (in months) from receipt to publication (sometimes known as ``time-to-publication``) of 85 papers published in the January 2004 issue of a leading chemical engineering research journal.\n",
    "\n",
    "\n",
    "\n",
    "(i) Generate a histogram of this data set. Comment on the ``shape`` of this histogram and why, from the nature of the variable in question, such a shape may not be surprising.\n",
    "\n",
    "(ii) From the histogram of the data, what is the ``most popular`` time-to-publication, and what fraction of the papers took longer than this to publish?"
   ]
  },
  {
   "cell_type": "code",
   "execution_count": null,
   "metadata": {},
   "outputs": [],
   "source": []
  },
  {
   "cell_type": "code",
   "execution_count": null,
   "metadata": {},
   "outputs": [],
   "source": []
  },
  {
   "cell_type": "code",
   "execution_count": null,
   "metadata": {},
   "outputs": [],
   "source": []
  },
  {
   "cell_type": "code",
   "execution_count": null,
   "metadata": {},
   "outputs": [],
   "source": []
  },
  {
   "cell_type": "markdown",
   "metadata": {},
   "source": [
    "# Exercise 1.14"
   ]
  },
  {
   "cell_type": "markdown",
   "metadata": {},
   "source": [
    "Refer to Problem 1.13. Let each raw data entry in the data table be $x_i$.\n",
    "\n",
    "(i) Generate a set of 85 `sample average publication time`, $y_i$, from 20 consecutive times as follows: <br> <br>\n",
    "$$\n",
    "y_1 = \\frac{1}{20} \\sum_{i=1}^{20} x_i \\\\\n",
    "y_2 = \\frac{1}{20} \\sum_{i=2}^{21} x_i \\\\\n",
    "y_3 = \\frac{1}{20} \\sum_{i=3}^{22} x_i \\\\\n",
    "{\\ldots} = \\ldots \\nonumber \\\\\n",
    "y_j = \\frac{1}{20} \\sum_{i=j}^{20+ (j-1)} x_i\n",
    "$$\n",
    "\n",
    "For values of $j \\geq 66$, $y_j$ should be obtained by replacing $x_{86},\n",
    "x_{87}, x_{88}, \\ldots, $  which do not exist,  with $x_1, x_2, x_3, \\ldots, $\n",
    "respectively (i.e., for these purposes treat the given $x_i$ data like a\n",
    "`circular array`).  Plot the histogram for this generated $y_i$ data and compare the shape of this histogram with that of the original $x_i$ data.\n",
    "\n",
    "\n",
    "(ii) Repeat part (i) above, this time for $z_i$ data generated from:\n",
    "$$\n",
    "z_j  =  \\frac{1}{20} \\sum_{i=j}^{20+ (j-1)} y_i\n",
    "$$\n",
    "for $j=1,2, \\ldots, 85$.  Compare the histogram of the $z_i$ data with that of\n",
    "the $y_i$ data and comment on the effect of `averaging` on the shape of the\n",
    "data histograms."
   ]
  },
  {
   "cell_type": "code",
   "execution_count": null,
   "metadata": {},
   "outputs": [],
   "source": []
  },
  {
   "cell_type": "code",
   "execution_count": null,
   "metadata": {},
   "outputs": [],
   "source": []
  },
  {
   "cell_type": "code",
   "execution_count": null,
   "metadata": {},
   "outputs": [],
   "source": []
  },
  {
   "cell_type": "code",
   "execution_count": null,
   "metadata": {},
   "outputs": [],
   "source": []
  },
  {
   "cell_type": "markdown",
   "metadata": {},
   "source": [
    "# Exercise 1.15"
   ]
  },
  {
   "cell_type": "markdown",
   "metadata": {},
   "source": [
    "The data shown in table for this problem is a four-year record of the number of `recordable` safety incidents occurring at a plant site each month.\n",
    "\n",
    "(i) Find the average number of safety incidents per month and the associated variance. Construct a frequency table of the data and plot a histogram.\n",
    "\n",
    "\n",
    "(ii) From the frequency table and the histogram, what can you say about the `chances` of obtaining each of the following observations, where $x$ represents the number of observed safety incidents per month: $x=0,  x=1, x=2, x=3, x=4$ and $x=5$?\n",
    "\n",
    "\n",
    "(iii) Consider the postulate that a reasonable model for this phenomenon is:\n",
    "$$\n",
    "f(x) = \\frac{e^{-0.5}{0.5^{x}}} {x!}\n",
    "$$\n",
    "where $f(x)$ represents the theoretical `probability` of recording exactly $x$ safety incidents per month.  How well does this model fit the data?\n",
    "\n",
    "\n",
    "(iv) Assuming that this is a reasonable model, discuss how you would use it to answer the question: ``If, over the most recent four-month period, the plant recorded 1, 3, 2, 3 safety incidents respectively, is there evidence that there has been a 'real increase' in the number of safety incidents``? "
   ]
  },
  {
   "cell_type": "code",
   "execution_count": null,
   "metadata": {},
   "outputs": [],
   "source": []
  },
  {
   "cell_type": "code",
   "execution_count": null,
   "metadata": {},
   "outputs": [],
   "source": []
  },
  {
   "cell_type": "code",
   "execution_count": null,
   "metadata": {},
   "outputs": [],
   "source": []
  },
  {
   "cell_type": "code",
   "execution_count": null,
   "metadata": {},
   "outputs": [],
   "source": []
  },
  {
   "cell_type": "markdown",
   "metadata": {},
   "source": [
    "# Exercise 1.16"
   ]
  },
  {
   "cell_type": "markdown",
   "metadata": {},
   "source": [
    "The table for this problem shows a record of the `before` and `after` weights (in pounds) of 20 patients enrolled in a clinically-supervised ten-week weight-loss program.\n",
    "\n",
    "Let $X_B$ represent the `Before` weight and $X_A$ the `After` weight.\n",
    "\n",
    "\n",
    "(i) Using the same bin size for each data set, obtain histograms for the $X_B$ and $X_A$ data and plot both on the same graph. Strictly on the basis of a  visual inspection of these histograms, what can you say about the effectiveness of the weight-loss program in achieving its objective of assisting patients to lose weight?\n",
    "\n",
    "\n",
    "(ii) Define the difference variable, $D= X_B - X_A$, and from the given data, obtain and plot a histogram for this variable. Again, strictly from a  visual inspection of this histogram, what can you say about the effectiveness of the weight-loss program?"
   ]
  },
  {
   "cell_type": "code",
   "execution_count": null,
   "metadata": {},
   "outputs": [],
   "source": []
  },
  {
   "cell_type": "code",
   "execution_count": null,
   "metadata": {},
   "outputs": [],
   "source": []
  },
  {
   "cell_type": "code",
   "execution_count": null,
   "metadata": {},
   "outputs": [],
   "source": []
  },
  {
   "cell_type": "markdown",
   "metadata": {},
   "source": [
    "# Exercise 1.17"
   ]
  },
  {
   "cell_type": "markdown",
   "metadata": {},
   "source": [
    "The data shown in the table for this problem is from an `Assisted Reproductive Technologies` clinic where a cohort of 100 patients under the age of 35 years (the `Younger` group), and  another cohort, 35 years and older (the `Older` group), each received five embryos in an in-vitro fertilization (IVF) treatment cycle.\n",
    "\n",
    "The data shows $x$, the number of live births per delivered pregnancy, along with how many in each group had the pregnancy outcome of $x$. For example, the first entry indicates that the IVF treatment  was unsuccessful for 32 of the `older` patients, with the corresponding number being 8 for the `younger` patients; 41 `older` patients delivered singletons, compared with 25 for the younger patients; 21 older patients and 35 younger patients each delivered twins; etc. Obtain a `relative` frequency distribution for these data sets and plot the corresponding histograms. Determine the average number of live births per delivered pregnancy for each group and compare these values.  Comment on whether or not these data sets indicate that the outcomes of the IVF treatments are different for these two groups."
   ]
  },
  {
   "cell_type": "code",
   "execution_count": null,
   "metadata": {},
   "outputs": [],
   "source": []
  }
 ],
 "metadata": {
  "kernelspec": {
   "display_name": "Python 3",
   "language": "python",
   "name": "python3"
  },
  "language_info": {
   "codemirror_mode": {
    "name": "ipython",
    "version": 3
   },
   "file_extension": ".py",
   "mimetype": "text/x-python",
   "name": "python",
   "nbconvert_exporter": "python",
   "pygments_lexer": "ipython3",
   "version": "3.6.4"
  }
 },
 "nbformat": 4,
 "nbformat_minor": 2
}
