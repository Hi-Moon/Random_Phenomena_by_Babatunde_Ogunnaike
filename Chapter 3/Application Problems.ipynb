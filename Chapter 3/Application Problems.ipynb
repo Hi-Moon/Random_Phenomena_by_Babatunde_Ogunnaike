{
 "cells": [
  {
   "cell_type": "code",
   "execution_count": 1,
   "metadata": {},
   "outputs": [],
   "source": [
    "bold = '\\033[1m' \n",
    "end = '\\033[0m'\n",
    "\n",
    "import pandas as pd\n",
    "import numpy as np\n",
    "from matplotlib import pyplot as plt\n",
    "from IPython.display import Image, HTML, display\n",
    "import math"
   ]
  },
  {
   "cell_type": "code",
   "execution_count": null,
   "metadata": {},
   "outputs": [],
   "source": []
  },
  {
   "cell_type": "markdown",
   "metadata": {},
   "source": [
    "# `Application Problems`"
   ]
  },
  {
   "cell_type": "markdown",
   "metadata": {},
   "source": [
    "# Exercise 3.23"
   ]
  },
  {
   "cell_type": "markdown",
   "metadata": {},
   "source": [
    "Patients suffering from manic depression and other similar disorders are sometimes treated with lithium, but the dosage must be monitored carefully because lithium toxicity, which is often fatal, can be difficult to diagnose. A new assay used to determine lithium concentration in blood samples is being promoted as a reliable way to diagnose lithium toxicity because the assay result is purported to correlate very strongly with toxicity.\n",
    "\n",
    "A careful study of the relationship between this blood assay and lithium toxicity in 150 patients yielded results summarized in Table 3.3.Here $A^+$ indicates high lithium concentrations\n",
    "in the blood assay and $A^-$ indicates low lithium concentration;  $L^+$ indicates confirmed Lithium toxicity and $L^-$ indicates **no** lithium toxicity. \n",
    "\n",
    "<table><tr><td><img src=\"Table3_3.png\" width=350/><td></tr></table>\n",
    "<br>\n",
    "(i) From these data, compute the following probabilities regarding the lithium toxicity status of a patient chosen at random:\n",
    "1. $P(L^+)$, the probability that the patient has lithium toxicity (regardless of the blood assay result);\n",
    "2. $P(L^+|A^+)$, the conditional probability that the patient has lithium toxicity given that the blood assay result indicates **high** lithium concentration.  What does this value indicate about the potential benefit of having this assay result available?\n",
    "3. $P(L^+|A^-)$ the conditional probability that the patient has lithium toxicity given that the blood assay result indicates **low** lithium concentration.  What does this value indicate about the potential for missed diagnoses?\n"
   ]
  },
  {
   "cell_type": "markdown",
   "metadata": {},
   "source": [
    "<hr>\n",
    "<span style=\"color: #990033;\" >\n",
    "   \n",
    "### `Solution:`\n",
    "\n",
    "(1) $P(L^+) = \\frac{51}{150} = 0.3400$\n",
    "\n",
    "<br>\n",
    "(2) $P(L^+|A^+) = \\frac{\\frac{30}{150}}{\\frac{47}{150}} = \\frac{30}{47} = 0.6383$\n",
    "\n",
    "This shows that the assay results indicates a weak possibilty of lithium intoxication.\n",
    "\n",
    "<br>\n",
    "(3) $P(L^+|A^-) = \\frac{\\frac{21}{150}}{\\frac{103}{150}} = \\frac{21}{103} = 0.2039$\n",
    "\n",
    "This shows that there is low possibility for misdiagnosis.\n",
    "\n",
    "</span>\n",
    "<hr>"
   ]
  },
  {
   "cell_type": "markdown",
   "metadata": {},
   "source": [
    "(ii)  Compute the following probabilities regarding the blood lithium assay:\n",
    "1. $P(A^+)$, the (total) probability of observing high lithium blood concentration (regardless of actual lithium toxicity status);\n",
    "2. $P(A^+|L^+)$ the conditional probability that the blood assay result indicates **high** lithium concentration given that the patient indeed has lithium toxicity. Why do you think that this quantity is referred to as the `sensitivity` of the assay, and what does the computed value indicate about the `sensitivity` of the particular assay in this study?\n",
    "3. From information about $P(L^+)$ (as the `prior` probability of lithium toxicity) along with the just computed values of  $P(A^+)$ and $P(A^+|L^+)$ as the relevant assay results, **now use Bayes' Rule** to compute $P(L^+|A^+)$ as the `posterior` probability of lithium toxicity **after** obtaining assay data, even though it has already been computed directly in (i) above."
   ]
  },
  {
   "cell_type": "markdown",
   "metadata": {},
   "source": [
    "<hr>\n",
    "<font color='#990033' >\n",
    "   \n",
    "### `Solution:`\n",
    "\n",
    "(1) $P(A^+) = \\frac{47}{150} = 0.3134$\n",
    "\n",
    "<br>\n",
    "(2) $P(A^+|L^+) = \\frac{\\frac{30}{150}}{\\frac{51}{150}} = \\frac{30}{51} = 0.5882$\n",
    "\n",
    "<br>\n",
    "(3) \n",
    "\n",
    "</font>\n",
    "<hr>"
   ]
  },
  {
   "cell_type": "code",
   "execution_count": null,
   "metadata": {},
   "outputs": [],
   "source": []
  },
  {
   "cell_type": "code",
   "execution_count": null,
   "metadata": {},
   "outputs": [],
   "source": []
  },
  {
   "cell_type": "markdown",
   "metadata": {},
   "source": [
    "# Exercise 3.24"
   ]
  },
  {
   "cell_type": "markdown",
   "metadata": {},
   "source": [
    "An experimental crystallizer produces five different polymorphs of the same crystal via mechanisms that are currently not well-understood. Types 1, 2 and 3 are approved for pharmaceutical application $A$; Types 2, 3 and 4 for a different application $B$; Type 5 is mostly unstable and has no known application. How much of each type is made in any batch varied randomly, but with the current operating procedure, 30% of the total product made by the crystallizer in a month is of Type 1; 20% is of Type 2, with the same percentage of Types 3 and 4; and 10%  is of Type 5.  Assuming that the polymorhps can be separated without loss,\n",
    "\n",
    "(i) Determine the probability of making product in a month that can be used for application $A$;"
   ]
  },
  {
   "cell_type": "markdown",
   "metadata": {},
   "source": [
    "<hr>\n",
    "<font color='#990033' >\n",
    "   \n",
    "### `Solution:`\n",
    "\n",
    "$\n",
    "P(A) = P(T_1) + P(T_2) + P(T_3) \\\\\n",
    "\\implies P(A) = 0.3 + 0.2 + 0.2 = 0.7\n",
    "$\n",
    "\n",
    "</font>\n",
    "<hr>"
   ]
  },
  {
   "cell_type": "markdown",
   "metadata": {},
   "source": [
    "(ii) Given a batch ready to be shipped for application $B$, what is the probabilities that any crystal selected at random is of Type 2? What is the probability that it is of Type 3 **or** Type 4.  State any assumptions you may need to make."
   ]
  },
  {
   "cell_type": "markdown",
   "metadata": {},
   "source": [
    "<hr>\n",
    "<font color='#990033' >\n",
    "   \n",
    "### `Solution:`\n",
    "\n",
    "$\n",
    "P(T_2|B) = \\frac{P(B \\cap T_2)}{P(B)} \\\\\n",
    "\\implies P(T_2|B) = \\frac{0.2}{0.6} \\\\\n",
    "\\implies P(T_2|B) = \\frac{1}{3}\n",
    "$\n",
    "\n",
    "<br>\n",
    "$\n",
    "P((T_3 \\cup T_4)|B) = 1 - P(T_2|B) \\\\\n",
    "\\implies P((T_3 \\cup T_4)|B) = \\frac{2}{3} \n",
    "$\n",
    "\n",
    "</font>\n",
    "<hr>"
   ]
  },
  {
   "cell_type": "markdown",
   "metadata": {},
   "source": [
    "(iii) What is the probability that an order change to one for application $A$ can be filled from a batch ready to be shipped for application $B$?"
   ]
  },
  {
   "cell_type": "markdown",
   "metadata": {},
   "source": [
    "<hr>\n",
    "<font color='#990033' >\n",
    "   \n",
    "### `Solution:`\n",
    "\n",
    "$\n",
    "P(A|B) = \\frac{P(A \\cap B)}{P(B)} \\\\\n",
    "\\implies P(A|B) = \\frac{0.4}{0.6} \\\\\n",
    "\\implies P(A|B) = \\frac{2}{3} = 0.6666\n",
    "$\n",
    "\n",
    "</font>\n",
    "<hr>"
   ]
  },
  {
   "cell_type": "markdown",
   "metadata": {},
   "source": [
    "(iv) What is the converse probability that an order change to one for application $B$ can be filled given a batch that is ready to be shipped for application $A$?"
   ]
  },
  {
   "cell_type": "markdown",
   "metadata": {},
   "source": [
    "<hr>\n",
    "<font color='#990033' >\n",
    "   \n",
    "### `Solution:`\n",
    "\n",
    "$\n",
    "P(B|A) = \\frac{P(A \\cap B)}{P(A)} \\\\\n",
    "\\implies P(B|A) = \\frac{0.4}{0.7} \\\\\n",
    "\\implies P(B|A) = \\frac{4}{7} = 0.5714\n",
    "$\n",
    "\n",
    "</font>\n",
    "<hr>"
   ]
  },
  {
   "cell_type": "code",
   "execution_count": null,
   "metadata": {},
   "outputs": [],
   "source": []
  },
  {
   "cell_type": "code",
   "execution_count": null,
   "metadata": {},
   "outputs": [],
   "source": []
  },
  {
   "cell_type": "markdown",
   "metadata": {},
   "source": [
    "# Exercise 3.25"
   ]
  },
  {
   "cell_type": "markdown",
   "metadata": {},
   "source": [
    "A test for a relatively rare disease involves taking from the patient an appropriate  tissue sample which is then assessed for abnormality.  A few sources of error are associated with this test. First, there is a small, but non-zero probability, $\\theta_s$, that the tissue sampling procedure will miss abnormal cells primarily because these cells (at least in the earlier stages) being relatively few in number, are randomly distributed in the tissue and tend not to cluster.  In addition, during the examination of the tissue sample itself, there is a probability, $\\theta_f$, of failing to identify an abnormality when present; and a probability, $\\theta_m$, of misclassifying a perfectly normal cell as abnormal.\n",
    "\n",
    "If the proportion of the population with this disease who are subjected to this test is $\\theta_D$,\n",
    "\n",
    "(i) In terms of the given parameters, determine the probability that the test result is correct.  (Hint: first compute the probability that the test result is incorrect, keeping in mind that the test may identify an abnormal cell incorrectly as normal, or a normal cell as abnormal.)\n"
   ]
  },
  {
   "cell_type": "markdown",
   "metadata": {},
   "source": [
    "<hr>\n",
    "<font color='#990033' >\n",
    "   \n",
    "### `Solution:`\n",
    "\n",
    "S = Success\n",
    "F = Failure\n",
    "\n",
    "$\n",
    "P(F) = \\theta_s + (1 - \\theta_s)*(\\theta_f + \\theta_m) \\\\\n",
    "\\implies P(F) = \\theta_s + \\theta_f + \\theta_m - \\theta_s\\theta_f - \\theta_s\\theta_m\n",
    "$\n",
    "\n",
    "$\n",
    "P(S) = 1 - P(F) \\\\\n",
    "\\implies P(S) = 1 - \\theta_s - \\theta_f - \\theta_m + \\theta_s\\theta_f + \\theta_s\\theta_m\n",
    "$\n",
    "\n",
    "<br>\n",
    "\n",
    "$\n",
    "P(S) = (1 - \\theta_s)(1 - \\theta_f)(1 - \\theta_m) \\\\\n",
    "\\implies P(S) = (1 - \\theta_s)(1 - \\theta_m - \\theta_f + \\theta_f\\theta_m) \\\\\n",
    "\\implies P(S) = 1 - \\theta_m - \\theta_f + \\theta_f\\theta_m - \\theta_s + \\theta_s\\theta_m + \\theta_s\\theta_f - \\theta_s\\theta_f\\theta_m \\\\\n",
    "$\n",
    "\n",
    "</font>\n",
    "<hr>"
   ]
  },
  {
   "cell_type": "markdown",
   "metadata": {},
   "source": [
    "(ii) Determine the probability of a false positive (i.e., returning an abnormality result when none exists)."
   ]
  },
  {
   "cell_type": "markdown",
   "metadata": {},
   "source": [
    "<hr>\n",
    "<font color='#990033' >\n",
    "   \n",
    "### `Solution:`\n",
    "\n",
    "\n",
    "\n",
    "</font>\n",
    "<hr>"
   ]
  },
  {
   "cell_type": "markdown",
   "metadata": {},
   "source": [
    "(iii) Determine the probability of a false negative (i.e., failing to identify an abnormality that is present)."
   ]
  },
  {
   "cell_type": "markdown",
   "metadata": {},
   "source": [
    "<hr>\n",
    "<font color='#990033' >\n",
    "   \n",
    "### `Solution:`\n",
    "\n",
    "\n",
    "\n",
    "</font>\n",
    "<hr>"
   ]
  },
  {
   "cell_type": "code",
   "execution_count": null,
   "metadata": {},
   "outputs": [],
   "source": []
  },
  {
   "cell_type": "code",
   "execution_count": null,
   "metadata": {},
   "outputs": [],
   "source": []
  },
  {
   "cell_type": "markdown",
   "metadata": {},
   "source": [
    "# Exercise 3.26"
   ]
  },
  {
   "cell_type": "markdown",
   "metadata": {},
   "source": [
    "Repeat Problem 3.25 for the specific values of $\\theta_s=0.1; \\theta_f=0.05; \\theta_m = 0.1$ for a population in which 2\\% have the disease.  A program sponsored by the Center for Disease Control (CDC) is to be aimed at reducing the number of false positives and/or false negatives by reducing one of the three probabilities $\\theta_s, \\theta_f$, and $\\theta_m$.  Which of these parameters would you recommend and why?"
   ]
  },
  {
   "cell_type": "markdown",
   "metadata": {},
   "source": [
    "<hr>\n",
    "<font color='#990033' >\n",
    "   \n",
    "### `Solution:`\n",
    "\n",
    "\n",
    "\n",
    "</font>\n",
    "<hr>"
   ]
  },
  {
   "cell_type": "code",
   "execution_count": null,
   "metadata": {},
   "outputs": [],
   "source": []
  },
  {
   "cell_type": "code",
   "execution_count": null,
   "metadata": {},
   "outputs": [],
   "source": []
  },
  {
   "cell_type": "markdown",
   "metadata": {},
   "source": [
    "# Exercise 3.27"
   ]
  },
  {
   "cell_type": "markdown",
   "metadata": {},
   "source": [
    "A manufacturer of flat-screen TVs purchases pre-cut glass sheets from three different manufacturers, $M_1, M_2$ and $M_3$, whose products are characterized in the TV manufacturer's `incoming material` quality control lab as `premier` grade, $Q_1$, `acceptable` grade, $Q_2$, and `marginal` grade, $Q_3$, on the basis of objective, measurable quality criteria, such as inclusions, warp, etc.  Incoming glass sheets deemed unacceptable are rejected and returned to the manufacturer.  An incoming batch of 425 **accepted** sheets has been classified by an automatic classifying system as shown in the table below. \n",
    "\n",
    "<table><tr><td><img src=\"Prob3_27.png\" width=500/><td></tr></table>\n",
    "<br>\n",
    "If a sheet is selected at random from this batch,\n",
    "\n",
    "(i) Determine the probability that it is of `premier` grade; also determine the probability that it is \\emph{not} of `marginal` grade."
   ]
  },
  {
   "cell_type": "markdown",
   "metadata": {},
   "source": [
    "<hr>\n",
    "<font color='#990033' >\n",
    "   \n",
    "### `Solution:`\n",
    "\n",
    "\n",
    "\n",
    "</font>\n",
    "<hr>"
   ]
  },
  {
   "cell_type": "markdown",
   "metadata": {},
   "source": [
    "(ii) Determine the probability that it is of `premier` grade given that it is from manufacturer $M_1$; also determine the probability that is of `premier` grade given that it is from either manufacturer $M_2$ or $M_3$."
   ]
  },
  {
   "cell_type": "markdown",
   "metadata": {},
   "source": [
    "<hr>\n",
    "<font color='#990033' >\n",
    "   \n",
    "### `Solution:`\n",
    "\n",
    "\n",
    "\n",
    "</font>\n",
    "<hr>"
   ]
  },
  {
   "cell_type": "markdown",
   "metadata": {},
   "source": [
    "(iii) Determine the probability that it is from manufacturer $M_3$ given that it is of `marginal` grade; also determine the probability that it is from manufacturer $M_2$ given that it is of `acceptable` grade."
   ]
  },
  {
   "cell_type": "markdown",
   "metadata": {},
   "source": [
    "<hr>\n",
    "<font color='#990033' >\n",
    "   \n",
    "### `Solution:`\n",
    "\n",
    "\n",
    "\n",
    "</font>\n",
    "<hr>"
   ]
  },
  {
   "cell_type": "code",
   "execution_count": null,
   "metadata": {},
   "outputs": [],
   "source": []
  },
  {
   "cell_type": "code",
   "execution_count": null,
   "metadata": {},
   "outputs": [],
   "source": []
  },
  {
   "cell_type": "markdown",
   "metadata": {},
   "source": [
    "# Exercise 3.28"
   ]
  },
  {
   "cell_type": "markdown",
   "metadata": {},
   "source": [
    "In a 1984 report\\footnote{\\emph{Annual Report of Commissioner and Chief Counsel}, Internal Revenue Service, U.S. Department of Treasury, 1984, p 60.}, the IRS published the information shown in the following table regarding 89.9 million federal tax returns it received, the income bracket of the filers, and the percentage audited.\n",
    "\n",
    "<table><tr><td><img src=\"Prob3_28.png\" width=500/><td></tr></table>\n",
    "<br>\n",
    "\n",
    "(i) Determine the probability that a tax filer selected at random from this population would be audited."
   ]
  },
  {
   "cell_type": "markdown",
   "metadata": {},
   "source": [
    "<hr>\n",
    "<font color='#990033' >\n",
    "   \n",
    "### `Solution:`\n",
    "\n",
    "\n",
    "\n",
    "</font>\n",
    "<hr>"
   ]
  },
  {
   "cell_type": "markdown",
   "metadata": {},
   "source": [
    "(ii) Determine the probability that a tax filer selected at random is in the $\\$25,000 - \\$49,999$ income bracket **and** was audited."
   ]
  },
  {
   "cell_type": "markdown",
   "metadata": {},
   "source": [
    "<hr>\n",
    "<font color='#990033' >\n",
    "   \n",
    "### `Solution:`\n",
    "\n",
    "\n",
    "\n",
    "</font>\n",
    "<hr>"
   ]
  },
  {
   "cell_type": "markdown",
   "metadata": {},
   "source": [
    "(iii) If we know that a tax filer selected at random was audited, determine the probability that this person belongs in the `50,000$ and above` income bracket."
   ]
  },
  {
   "cell_type": "markdown",
   "metadata": {},
   "source": [
    "<hr>\n",
    "<font color='#990033' >\n",
    "   \n",
    "### `Solution:`\n",
    "\n",
    "\n",
    "\n",
    "</font>\n",
    "<hr>"
   ]
  },
  {
   "cell_type": "code",
   "execution_count": null,
   "metadata": {},
   "outputs": [],
   "source": []
  }
 ],
 "metadata": {
  "kernelspec": {
   "display_name": "Python 3",
   "language": "python",
   "name": "python3"
  },
  "language_info": {
   "codemirror_mode": {
    "name": "ipython",
    "version": 3
   },
   "file_extension": ".py",
   "mimetype": "text/x-python",
   "name": "python",
   "nbconvert_exporter": "python",
   "pygments_lexer": "ipython3",
   "version": "3.6.4"
  }
 },
 "nbformat": 4,
 "nbformat_minor": 2
}
