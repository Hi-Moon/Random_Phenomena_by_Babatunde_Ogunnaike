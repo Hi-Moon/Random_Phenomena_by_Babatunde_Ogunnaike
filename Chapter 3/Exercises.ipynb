{
 "cells": [
  {
   "cell_type": "code",
   "execution_count": 3,
   "metadata": {},
   "outputs": [],
   "source": [
    "bold = '\\033[1m' \n",
    "end = '\\033[0m'\n",
    "\n",
    "import pandas as pd\n",
    "import numpy as np\n",
    "from matplotlib import pyplot as plt\n",
    "from IPython.display import Image, HTML, display\n",
    "import math"
   ]
  },
  {
   "cell_type": "code",
   "execution_count": null,
   "metadata": {},
   "outputs": [],
   "source": []
  },
  {
   "cell_type": "markdown",
   "metadata": {},
   "source": [
    "# `EXERCISES`"
   ]
  },
  {
   "cell_type": "markdown",
   "metadata": {},
   "source": [
    "# Exercise 3.1"
   ]
  },
  {
   "cell_type": "markdown",
   "metadata": {},
   "source": [
    "When two dice ––– one black  with white dots, the other black with white dots ––– are tossed once, simultaneously, and the number of dots shown on each die's top face after coming to rest are recorded as an ordered pair $(n_B, n_W)$, where $n_B$ is the number on the black die, and $n_W$ the number on the white die,\n",
    "\n",
    "**(i)** identify the **experiment**, what constitutes a **trial**, the **outcomes**, and the **sample space**."
   ]
  },
  {
   "cell_type": "markdown",
   "metadata": {},
   "source": [
    "<hr>\n",
    "### `Solution:`\n",
    "\n",
    "**Experiment:** Tossing two dice simultaneously and recording their face value  as an ordered pair $(n_B, n_W)$.\n",
    "\n",
    "**Trial:** Performing the experiment once.\n",
    "\n",
    "**Outcomes:** The recorded face value ordered pair.\n",
    "\n",
    "**Sample space:** $ (1,1), (1,2), (1,3), ... (1,6); (2,1), (2,2), ... (2,6); (3,1), ... (3,6); ... (6,6) $"
   ]
  },
  {
   "cell_type": "markdown",
   "metadata": {},
   "source": [
    "<hr>\n",
    "\n",
    "**(ii)** If the sum of the numbers on the two dice is $S$, i.e.,\n",
    "$$\n",
    "S = n_B + n_W,\n",
    "$$\n",
    "\n",
    "enumerate all the simple events associated with the observation $S = 7$."
   ]
  },
  {
   "cell_type": "markdown",
   "metadata": {},
   "source": [
    "### `Solution:`\n",
    "\n",
    "Possible outcomes for $S = 7$ are : $(1,6), (2,5), (3,4), (4,3), (5,2), (6,1) $"
   ]
  },
  {
   "cell_type": "code",
   "execution_count": null,
   "metadata": {},
   "outputs": [],
   "source": []
  },
  {
   "cell_type": "code",
   "execution_count": null,
   "metadata": {},
   "outputs": [],
   "source": []
  },
  {
   "cell_type": "markdown",
   "metadata": {},
   "source": [
    "# Exercise 3.2"
   ]
  },
  {
   "cell_type": "markdown",
   "metadata": {},
   "source": [
    "In an opinion poll, 20 individuals selected at random from a group of college students are asked to indicate which of three options –––*approve, disapprove, indifferent*–– best matches their individual opinions of a new campus policy.  Let $n_0$ be the number of indifferent students, $n_1$ the number that approve, and $n_2$ the number that disapprove, so that the outcome of one such opinion sample is the ordered triplet $(n_0, n_1, n_2)$.  Write mathematical expressions in terms of the numbers $n_0, n_1$, and $n_2$ for the following events:\n",
    "\n",
    "**(i)** $A=$ \\{Unanimous support for the policy\\}; and $A^*$, the complement of $A$."
   ]
  },
  {
   "cell_type": "markdown",
   "metadata": {},
   "source": [
    "### `Solution:`\n",
    "\n",
    "\n",
    "For unanimous support of policy, $A = \\{n_1 > n_0 + n_2\\}$\n",
    "\n",
    "$A^* = \\{n_1 <= n_0 + n_2\\}$"
   ]
  },
  {
   "cell_type": "markdown",
   "metadata": {},
   "source": [
    "**(ii)** $B=$ \\{More students disapprove than approve\\}; and $B^*$."
   ]
  },
  {
   "cell_type": "markdown",
   "metadata": {},
   "source": [
    "### `Solution:`\n",
    "\n",
    "$B = \\{n_2 > n_1\\}$\n",
    "\n",
    "$B^* = \\{n_2 <= n_1\\}$"
   ]
  },
  {
   "cell_type": "markdown",
   "metadata": {},
   "source": [
    "**(iii)** $C=$ \\{More students are indifferent than approve\\};"
   ]
  },
  {
   "cell_type": "markdown",
   "metadata": {},
   "source": [
    "### `Solution:`\n",
    "\n",
    "$C = \\{n_0 > n_1\\}$"
   ]
  },
  {
   "cell_type": "markdown",
   "metadata": {},
   "source": [
    "**(iv)** $D=$ \\{The majority of students are indifferent \\}."
   ]
  },
  {
   "cell_type": "markdown",
   "metadata": {},
   "source": [
    "### `Solution:`\n",
    "\n",
    "$D = \\{n_0 > n_1+n_2\\}$"
   ]
  },
  {
   "cell_type": "code",
   "execution_count": null,
   "metadata": {},
   "outputs": [],
   "source": []
  },
  {
   "cell_type": "code",
   "execution_count": null,
   "metadata": {},
   "outputs": [],
   "source": []
  },
  {
   "cell_type": "markdown",
   "metadata": {},
   "source": [
    "# Exercise 3.3"
   ]
  },
  {
   "cell_type": "markdown",
   "metadata": {},
   "source": [
    "Given the following two sets $A$ and $B$:\n",
    "$$\n",
    "A = \\{x: x= 1, 3, 5, 7, \\ldots\\} \\\\\n",
    "B = \\{x: x= 0, 2, 4, 6, \\ldots\\}\n",
    "$$\n",
    "find $A \\cup B$ and $A \\cap B$. "
   ]
  },
  {
   "cell_type": "markdown",
   "metadata": {},
   "source": [
    "### `Solution:`\n",
    "\n",
    "$ A \\cup B = \\{x : x = 0,1,2,3,4,5, ...\\} $\n",
    "\n",
    "$ A \\cap B = \\phi$\n"
   ]
  },
  {
   "cell_type": "code",
   "execution_count": 13,
   "metadata": {},
   "outputs": [
    {
     "name": "stdout",
     "output_type": "stream",
     "text": [
      "A ∪ B =  {0, 1, 2, 3, 4, 5, 6, 7, 8, 9, 10, 11, 12, 13, 14, 15, 16, 17, 18, 19, 20, 21, 22, 23, 24, 25, 26, 27, 28, 29, 30, 31, 32, 33, 34, 35, 36, 37, 38, 39, 40, 41, 42, 43, 44, 45, 46, 47, 48, 49, 50, 51, 52, 53, 54, 55, 56, 57, 58, 59, 60, 61, 62, 63, 64, 65, 66, 67, 68, 69, 70, 71, 72, 73, 74, 75, 76, 77, 78, 79, 80, 81, 82, 83, 84, 85, 86, 87, 88, 89, 90, 91, 92, 93, 94, 95, 96, 97, 98, 99}\n",
      "\n",
      "\n",
      "A ∩ B =  set()\n"
     ]
    }
   ],
   "source": [
    "## Programmatical results:\n",
    "\n",
    "a = set(range(1, 100, 2))\n",
    "b = set(range(0, 100, 2))\n",
    "\n",
    "print(\"A ∪ B = \", a.union(b))\n",
    "print(\"\\n\\nA ∩ B = \", a.intersection(b))"
   ]
  },
  {
   "cell_type": "code",
   "execution_count": null,
   "metadata": {},
   "outputs": [],
   "source": []
  },
  {
   "cell_type": "code",
   "execution_count": null,
   "metadata": {},
   "outputs": [],
   "source": []
  },
  {
   "cell_type": "markdown",
   "metadata": {},
   "source": [
    "# Exercise 3.4"
   ]
  },
  {
   "cell_type": "markdown",
   "metadata": {},
   "source": [
    "Let $A_k = \\{x: 1/(k+1)\\le x \\le 1\\}$ for $k = 1, 2, 3, \\ldots$.  Find the\n",
    "set $B$ defined by:\n",
    "$$\n",
    "B = A_1 \\cup A_2 \\cup A_3 \\cup \\ldots = \\bigcup_{i=1}^{\\infty} A_i\n",
    "$$"
   ]
  },
  {
   "cell_type": "markdown",
   "metadata": {},
   "source": [
    "### `Solution:`\n",
    "\n",
    "With increse in $k$, $A_k$ also increses in size. Thus the set $B$, union of all sets $A_k$ for $k = 1,2,3,...$, should be equal to the largest set i.e. $A_\\infty$\n",
    "\n",
    "$\\implies B = \\{x : 1/(\\infty + 1) \\le x \\le 1\\}$\n",
    "\n",
    "$\\implies B = \\{x : 0 \\le x \\le 1\\}$"
   ]
  },
  {
   "cell_type": "code",
   "execution_count": null,
   "metadata": {},
   "outputs": [],
   "source": []
  },
  {
   "cell_type": "code",
   "execution_count": null,
   "metadata": {},
   "outputs": [],
   "source": []
  },
  {
   "cell_type": "markdown",
   "metadata": {},
   "source": [
    "# Exercise 3.5"
   ]
  },
  {
   "cell_type": "markdown",
   "metadata": {},
   "source": [
    "For sets $A, B, C$, subsets of the universal set $\\Omega$, establish the following identities:\n",
    "\n",
    "$$\n",
    "(A \\cup B)^* = A^* \\cap B^* \\\\\n",
    "(A \\cap B)^* = A^* \\cup B^* \\\\\n",
    "A \\cap (B \\cup C) = (A \\cap B) \\cup (A \\cap C) \\\\\n",
    "A \\cup (B \\cap C) = (A \\cup B) \\cap (A \\cup C)\n",
    "$$"
   ]
  },
  {
   "cell_type": "code",
   "execution_count": 46,
   "metadata": {},
   "outputs": [
    {
     "name": "stdout",
     "output_type": "stream",
     "text": [
      "Set S = {0, 1, 2, 3, 4, 5, 6, 7, 8, 9, 10, 11, 12, 13, 14, 15, 16, 17, 18, 19, 20, 21, 22, 23, 24, 25, 26, 27, 28, 29}\n",
      "\n",
      "Set A = {0, 2, 4, 6, 8, 10, 12, 14, 16, 18, 20, 22, 24, 26, 28}\n",
      "Set B = {1, 4, 7, 10, 13, 16, 19, 22, 25, 28}\n",
      "Set C = {2, 5, 8, 11, 14, 17, 20, 23, 26, 29}\n",
      "\n",
      "Set A* = {1, 3, 5, 7, 9, 11, 13, 15, 17, 19, 21, 23, 25, 27, 29}\n",
      "Set B* = {0, 2, 3, 5, 6, 8, 9, 11, 12, 14, 15, 17, 18, 20, 21, 23, 24, 26, 27, 29}\n"
     ]
    }
   ],
   "source": [
    "# Lets assume the sets A, B, C and universal set S\n",
    "\n",
    "s = set(range(30))\n",
    "a = set(range(0, 30, 2))\n",
    "b = set(range(1, 30, 3))\n",
    "c = set(range(2, 30, 3))\n",
    "\n",
    "print(\"Set S =\", s)\n",
    "print(\"\\nSet A =\", a)\n",
    "print(\"Set B =\", b)\n",
    "print(\"Set C =\", c)\n",
    "\n",
    "\n",
    "# Complement sets\n",
    "a_ = s - a\n",
    "b_ = s - b\n",
    "c_ = s - c\n",
    "\n",
    "print(\"\\nSet A* =\", a_)\n",
    "print(\"Set B* =\", b_)\n",
    "\n"
   ]
  },
  {
   "cell_type": "code",
   "execution_count": 47,
   "metadata": {},
   "outputs": [
    {
     "name": "stdout",
     "output_type": "stream",
     "text": [
      "{3, 5, 9, 11, 15, 17, 21, 23, 27, 29}\n",
      "{3, 5, 9, 11, 15, 17, 21, 23, 27, 29}\n",
      "Is (A union B equal)* to A* intersection B* :  True\n",
      "\n",
      "\n",
      "{0, 1, 2, 3, 5, 6, 7, 8, 9, 11, 12, 13, 14, 15, 17, 18, 19, 20, 21, 23, 24, 25, 26, 27, 29}\n",
      "{0, 1, 2, 3, 5, 6, 7, 8, 9, 11, 12, 13, 14, 15, 17, 18, 19, 20, 21, 23, 24, 25, 26, 27, 29}\n",
      "Is (A intersection B)* equal to A* union B* :  True\n",
      "\n",
      "\n",
      "{2, 4, 8, 10, 14, 16, 20, 22, 26, 28}\n",
      "{2, 4, 8, 10, 14, 16, 20, 22, 26, 28}\n",
      "Is A intersection (B union C) = (A intersection B) union (A intersection C) :  True\n",
      "\n",
      "\n",
      "{0, 2, 4, 6, 8, 10, 12, 14, 16, 18, 20, 22, 24, 26, 28}\n",
      "{2, 4, 8, 10, 14, 16, 20, 22, 26, 28}\n",
      "Is A union (B intersection C) = (A union B) intersection (A union C) :  True\n"
     ]
    }
   ],
   "source": [
    "# Establishing Identity 1\n",
    "\n",
    "ab = a.union(b)  # a union b\n",
    "ab_ = s - ab  # (a union b)*\n",
    "\n",
    "a_b_i = a_.intersection(b_)  # (a* intersection b*)\n",
    "\n",
    "print(ab_)\n",
    "print(a_b_i)\n",
    "\n",
    "print(\"Is (A union B equal)* to A* intersection B* : \", ab_ == a_b_i)\n",
    "\n",
    "\n",
    "# Establishing Identity 2\n",
    "\n",
    "ab_i = a.intersection(b)  # a intersection b\n",
    "ab_i_ = s - ab_i  # (a intersection b)*\n",
    "\n",
    "a_b_ = a_.union(b_)  # (a* intersection b*)\n",
    "\n",
    "print(\"\\n\")\n",
    "print(ab_i_)\n",
    "print(a_b_)\n",
    "\n",
    "print(\"Is (A intersection B)* equal to A* union B* : \", ab_ == a_b_i)\n",
    "\n",
    "\n",
    "# Establishing Identity 3\n",
    "bc = b.union(c)\n",
    "a_bc_i = a.intersection(bc)\n",
    "\n",
    "ab_i = a.intersection(b)\n",
    "ac_i = a.intersection(c)\n",
    "\n",
    "ab_i_ac_i = ab_i.union(ac_i)\n",
    "\n",
    "print(\"\\n\")\n",
    "print(a_bc_i)\n",
    "print(ab_i_ac_i)\n",
    "print(\"Is A intersection (B union C) = (A intersection B) union (A intersection C) : \", a_bc_i == ab_i_ac_i)\n",
    "\n",
    "\n",
    "# Establishing Identity 4\n",
    "bc_i = b.intersection(c)\n",
    "a_bc_i = a.union(bc_i)\n",
    "\n",
    "ab = a.union(b)\n",
    "ac = a.union(c)\n",
    "\n",
    "ab_ac_i = ab.intersection(ac)\n",
    "\n",
    "print(\"\\n\")\n",
    "print(a_bc_i)\n",
    "print(ab_i_ac_i)\n",
    "print(\"Is A union (B intersection C) = (A union B) intersection (A union C) : \", a_bc_i == ab_ac_i)"
   ]
  },
  {
   "cell_type": "code",
   "execution_count": null,
   "metadata": {},
   "outputs": [],
   "source": []
  },
  {
   "cell_type": "code",
   "execution_count": null,
   "metadata": {},
   "outputs": [],
   "source": []
  },
  {
   "cell_type": "markdown",
   "metadata": {},
   "source": [
    "# Exercise 3.6"
   ]
  },
  {
   "cell_type": "markdown",
   "metadata": {},
   "source": [
    "For every pair of sets $A, B$, subsets of the *Sample Space* $\\Omega$\n",
    "upon which the probability set function $P(.)$ has been defined, prove that:\n",
    "\n",
    "$$\n",
    "P(A \\cup B) = P(A) + P(B) - P(A \\cap B)\n",
    "$$"
   ]
  },
  {
   "cell_type": "code",
   "execution_count": 101,
   "metadata": {},
   "outputs": [
    {
     "name": "stdout",
     "output_type": "stream",
     "text": [
      "A = {0, 2, 4, 6, 8}\n",
      "B = {0, 9, 3, 6}\n",
      "A union B = {0, 2, 3, 4, 6, 8, 9}\n",
      "A + B = { 0 0 2 3 4 6 6 8 9 }\n",
      "A intersection B = {0, 6}\n",
      "\n",
      "As we can see, (A union B) =  A + B - (A intersection B)\n",
      "\n",
      "\n",
      "P(A) = 0.5\n",
      "P(B) = 0.4\n",
      "P(A) + P(B) = 0.9\n",
      "P(A intersection B) = 0.2\n",
      "\n",
      "P(A union B) = 0.7 = P(A) + P(B) - P(A intersection B) = 0.7\n"
     ]
    }
   ],
   "source": [
    "# Let all the outcomes be equiprobable\n",
    "\n",
    "s = set(range(10))\n",
    "p_of_each_outcome = 1/len(s)\n",
    "\n",
    "a = set(range(0, 10, 2))\n",
    "b = set(range(0, 10, 3))\n",
    "\n",
    "k = list(a)\n",
    "k.extend(list(b))\n",
    "\n",
    "print(\"A =\", a)\n",
    "print(\"B =\", b)\n",
    "print(\"A union B =\", a.union(b))\n",
    "print(\"A + B = {\", *sorted(k), \"}\")\n",
    "print(\"A intersection B =\", a.intersection(b))\n",
    "\n",
    "print(\"\\nAs we can see, (A union B) =  A + B - (A intersection B)\")\n",
    "\n",
    "pa = p_of_each_outcome*len(a)\n",
    "pb = p_of_each_outcome*len(b)\n",
    "\n",
    "print(\"\\n\")\n",
    "print(\"P(A) =\", pa)\n",
    "print(\"P(B) =\", pb)\n",
    "print(\"P(A) + P(B) =\", pa+pb)\n",
    "print(\"P(A intersection B) =\", p_of_each_outcome*len(a.intersection(b)))\n",
    "\n",
    "print(\"\\nP(A union B) =\", \n",
    "      np.round(p_of_each_outcome*len(a.union(b)), 2),\n",
    "     \"= P(A) + P(B) - P(A intersection B) =\", \n",
    "      pa + pb - p_of_each_outcome*len(a.intersection(b))\n",
    "     )\n",
    "\n"
   ]
  },
  {
   "cell_type": "code",
   "execution_count": null,
   "metadata": {},
   "outputs": [],
   "source": []
  },
  {
   "cell_type": "code",
   "execution_count": null,
   "metadata": {},
   "outputs": [],
   "source": []
  },
  {
   "cell_type": "markdown",
   "metadata": {},
   "source": [
    "# Exercise 3.7"
   ]
  },
  {
   "cell_type": "markdown",
   "metadata": {},
   "source": [
    "In a certain engineering research and development company, apart from the\n",
    "support staff which number 25, all other employees are either engineers or\n",
    "statisticians or both.  The total number of employees (including the support\n",
    "staff) is 100.  Of these, 50 are engineers, and 40 are statisticians; the number\n",
    "of employees that are both engineers and statisticians is not given.  Find the probability that  an employee chosen at random is **not** one of those classified as being both an engineer and a\n",
    "statistician."
   ]
  },
  {
   "cell_type": "code",
   "execution_count": 104,
   "metadata": {},
   "outputs": [
    {
     "name": "stdout",
     "output_type": "stream",
     "text": [
      "P(not both statisticians and engineers) = 0.85\n"
     ]
    }
   ],
   "source": [
    "total = 100\n",
    "support = 25\n",
    "other = total - support\n",
    "\n",
    "engineers = 50\n",
    "statisticians = 40\n",
    "\n",
    "both = engineers + statisticians - other\n",
    "\n",
    "print(\"P(not both statisticians and engineers) =\", 1 - (both/total))"
   ]
  },
  {
   "cell_type": "code",
   "execution_count": null,
   "metadata": {},
   "outputs": [],
   "source": []
  },
  {
   "cell_type": "code",
   "execution_count": null,
   "metadata": {},
   "outputs": [],
   "source": []
  },
  {
   "cell_type": "markdown",
   "metadata": {},
   "source": [
    "# Exercise 3.8"
   ]
  },
  {
   "cell_type": "markdown",
   "metadata": {},
   "source": [
    "For every set $A$, let the set function $Q(.)$ be defined as follows:\n",
    "\n",
    "$$\n",
    "Q(A) = \\sum_{A} f(x)\n",
    "$$\n",
    "where\n",
    "$$\n",
    "f(x) = \\left(\\frac{2}{3}\\right) \\left( \\frac{1}{3}\\right)^x ; x = 0,1,2,\\ldots\n",
    "$$\n",
    "\n",
    "If $A_1 = \\{x: x= 0,1,2,3\\}$ and $A_2 = \\{x: x= 0,1,2,3, \\ldots\\}$ find $Q(A_1)$\n",
    "and $Q(A_2)$."
   ]
  },
  {
   "cell_type": "code",
   "execution_count": 126,
   "metadata": {
    "scrolled": true
   },
   "outputs": [
    {
     "name": "stdout",
     "output_type": "stream",
     "text": [
      "Q(A1) = 0.9876543209876543\n",
      "Q(A2) = 0.9999999999999997\n",
      "Note: Q(A2) tends to 1 when x tends to infinity.\n"
     ]
    }
   ],
   "source": [
    "def fx(x):\n",
    "    return ((2/3)*((1/3)**x))\n",
    "\n",
    "def QA(A):\n",
    "    result = 0\n",
    "    for x in A:\n",
    "        result += fx(x)\n",
    "        \n",
    "    return result\n",
    "\n",
    "A1 = [0,1,2,3]\n",
    "A2 = list(range(100))\n",
    "\n",
    "print(\"Q(A1) =\", QA(A1))\n",
    "print(\"Q(A2) =\", QA(A2))\n",
    "print(\"Note: Q(A2) tends to 1 when x tends to infinity.\")"
   ]
  },
  {
   "cell_type": "code",
   "execution_count": null,
   "metadata": {},
   "outputs": [],
   "source": []
  },
  {
   "cell_type": "code",
   "execution_count": null,
   "metadata": {},
   "outputs": [],
   "source": []
  },
  {
   "cell_type": "markdown",
   "metadata": {},
   "source": [
    "# Exercise 3.9"
   ]
  },
  {
   "cell_type": "markdown",
   "metadata": {},
   "source": [
    "Let the sample space for a certain experiment be $\\Omega=\\{\\omega: 0 <\n",
    "\\omega < \\infty\\}$.  Let $A \\subset \\Omega$ represent the event $A = \\{ \\omega:\n",
    "4 < \\omega < \\infty\\}$.  If the probability set function $P(A)$ is defined for\n",
    "any subset of the sample space according to:\n",
    "\n",
    "$$\n",
    "P(A) = \\int_A e^{-x} dx\n",
    "$$\n",
    "evaluate $P(A), P(A^*), P(A \\cup A^*)$"
   ]
  },
  {
   "cell_type": "markdown",
   "metadata": {},
   "source": [
    "<hr>\n",
    "### `Solution:`\n",
    "\n",
    "Given $A = \\{\\omega : 4 < \\omega < \\infty\\}$\n",
    "\n",
    "and $P(A) = \\int_A e^{-x} dx \\\\\n",
    "\\implies P(A) = \\int_4^\\infty e^{-x} dx = \\left.\\left(-e^{-x}\\right)\\right|_4^\\infty \\\\\n",
    "\\implies P(A) = -e^{-\\infty} - \\left(-e^{-4}\\right) = 0 + e^{-4} \\\\\n",
    "\\implies P(A) = e^{-4}\n",
    "$\n",
    "\n",
    "<br><br>\n",
    "\n",
    "$A^* = \\Omega - A \\\\\n",
    "\\implies A^* = \\{\\omega : 0 < \\omega < \\infty\\} - \\{\\omega : 4 < \\omega < \\infty\\} = \\{\\omega : 0 < \\omega < 4\\} \\\\\n",
    "\\implies P(A^*) = \\int_0^4 e^{-x} dx \\\\\n",
    "\\implies P(A^*) = -e^{-4} - \\left(-e^{-0}\\right) \\\\\n",
    "\\implies P(A^*) = 1 - e^{-4}\n",
    "$\n",
    "\n",
    "**NOTE:** By definition, for any event $A$, $P(A) + P(A^*) = 1 \\implies P(A^*) = 1 - P(A)$. The above calculations just proved the same result.\n",
    "\n",
    "<br><br>\n",
    "\n",
    "$\n",
    "A \\cup A* = \\{\\omega : 0 < \\omega < 4\\} + \\{\\omega : 4 < \\omega < \\infty\\} \\\\\n",
    "\\implies A \\cup A^* = \\{\\omega : 0 < \\omega < \\infty\\} \\\\\n",
    "\\implies P(A \\cup A^*) = \\int_0^\\infty e^{-x} dx = -e^{-\\infty} - \\left(-e^{-0}\\right) \\\\\n",
    "\\implies P(A \\cup A^*) = 1\n",
    "$\n",
    "\n",
    "**NOTE:** By definition, for any event $A$, $P(A \\cup A^*) = 1$. The above calculations proved the same result.\n",
    "\n",
    "<hr>"
   ]
  },
  {
   "cell_type": "code",
   "execution_count": null,
   "metadata": {},
   "outputs": [],
   "source": []
  },
  {
   "cell_type": "code",
   "execution_count": null,
   "metadata": {},
   "outputs": [],
   "source": []
  },
  {
   "cell_type": "markdown",
   "metadata": {},
   "source": [
    "# Exercise 3.10"
   ]
  },
  {
   "cell_type": "markdown",
   "metadata": {},
   "source": [
    "For the experiment of rolling two dice---one black  with white dots, the other black with white dots---once, simultaneously, presented in Exercise 3.1, first obtain $\\Omega$, the sample space, and, by assigning equal probability to each of the outcomes."
   ]
  },
  {
   "cell_type": "markdown",
   "metadata": {},
   "source": [
    "<hr>\n",
    "### `Solution:`\n",
    "**Sample Space $\\Omega = \\{(1,1),(1,2), ... (1,6),(2,1), ... (6,6)\\}$**\n",
    "\n",
    "$n = |\\Omega| = 36$\n",
    "\n",
    "Probability for each outcome, $p = \\frac{1}{36}$\n",
    "\n",
    "<hr>"
   ]
  },
  {
   "cell_type": "markdown",
   "metadata": {},
   "source": [
    "determine the probability of the following events:\n",
    "\n",
    "(i) $A= \\{n_B + n_W = 7 \\}$, i.e. the sum is 7;"
   ]
  },
  {
   "cell_type": "markdown",
   "metadata": {},
   "source": [
    "<hr>\n",
    "### `Solution:`\n",
    "\n",
    "$A = \\{(1,6), (2,5), (3,4), (4,3), (5,2), (6,1)\\}$\n",
    "\n",
    "$P(A) = p*|A|$\n",
    "\n",
    "$\\implies P(A) = \\frac{1}{36} * 6  = \\frac{1}{6}$\n",
    "\n",
    "<hr>"
   ]
  },
  {
   "cell_type": "markdown",
   "metadata": {},
   "source": [
    "(ii) $B= \\{n_B < n_W \\}$;"
   ]
  },
  {
   "cell_type": "markdown",
   "metadata": {},
   "source": [
    "<hr>\n",
    "### `Solution:`\n",
    "\n",
    "$B = \\{(1,2), (1,3), (1,4), (1,5), (1,6), (2,3), (2,4), (2,5), (2,6), (3,4), (3,5), (3,6), (4,5), (4,6), (5,6)\\}$\n",
    "\n",
    "$P(B) = p*|B|$\n",
    "\n",
    "$\\implies P(B) = \\frac{1}{36} * 15  = \\frac{5}{12}$\n",
    "\n",
    "<hr>"
   ]
  },
  {
   "cell_type": "markdown",
   "metadata": {},
   "source": [
    "(iii) $B^*$, the complement of $B$;"
   ]
  },
  {
   "cell_type": "markdown",
   "metadata": {},
   "source": [
    "<hr>\n",
    "### `Solution:`\n",
    "\n",
    "$P(B^*) = 1 - P(B)$\n",
    "\n",
    "$\\implies P(B^*) = 1 - \\frac{5}{12} = \\frac{7}{12}$\n",
    "\n",
    "<hr>"
   ]
  },
  {
   "cell_type": "markdown",
   "metadata": {},
   "source": [
    "(iv) $C = \\{n_B = n_W \\}$, i.e. the two dice show the same number;"
   ]
  },
  {
   "cell_type": "markdown",
   "metadata": {},
   "source": [
    "<hr>\n",
    "### `Solution:`\n",
    "\n",
    "$C = \\{(1,1), (2,2), (3,3), (4,4), (5,5), (6,6)\\}$\n",
    "\n",
    "$P(C) = p*|C|$\n",
    "\n",
    "$\\implies P(C) = \\frac{1}{36} * 6  = \\frac{1}{6}$\n",
    "\n",
    "<hr>"
   ]
  },
  {
   "cell_type": "markdown",
   "metadata": {},
   "source": [
    "(v) $D = \\{n_B + n_W = 5 \\mbox{ or } 9\\}$."
   ]
  },
  {
   "cell_type": "markdown",
   "metadata": {},
   "source": [
    "<hr>\n",
    "### `Solution:`\n",
    "\n",
    "$D = \\{(1,4), (2,3), (3,2), (4,1), (3,6), (4,5), (5,4), (6,3)\\}$\n",
    "\n",
    "$P(D) = p*|D|$\n",
    "\n",
    "$\\implies P(D) = \\frac{1}{36} * 8  = \\frac{2}{9}$\n",
    "\n",
    "<hr>"
   ]
  },
  {
   "cell_type": "code",
   "execution_count": null,
   "metadata": {},
   "outputs": [],
   "source": []
  },
  {
   "cell_type": "code",
   "execution_count": null,
   "metadata": {},
   "outputs": [],
   "source": []
  },
  {
   "cell_type": "markdown",
   "metadata": {},
   "source": [
    "# Exercise 3.11"
   ]
  },
  {
   "cell_type": "markdown",
   "metadata": {},
   "source": [
    "A black velvet bag contains three red balls and three green balls.  Each experiment involves drawing two balls at once, simultaneously, and recording their colors, $R$ for red, and $G$ for green.\n",
    "\n",
    "(i) Obtain the sample space, assuming that balls of the same color are indistinguishable."
   ]
  },
  {
   "cell_type": "markdown",
   "metadata": {},
   "source": [
    "<hr>\n",
    "### `Solution:`\n",
    "\n",
    "$ Sample Space = \\{(R, G), (G, R), (R, R), (G, G)\\}$\n",
    "\n",
    "<hr>"
   ]
  },
  {
   "cell_type": "markdown",
   "metadata": {},
   "source": [
    "(ii) Upon assigning equal probability to each element in the sample space,  determine the probability of drawing two balls of different colors."
   ]
  },
  {
   "cell_type": "markdown",
   "metadata": {},
   "source": [
    "<hr>\n",
    "### `Solution:`\n",
    "\n",
    "Different colour outcomes, D = $\\{(R, G), (G, R)\\}$\n",
    "\n",
    "$P(D) = \\frac{1}{4} * |D| $\n",
    "\n",
    "$\\implies P(D) = \\frac{1}{4} * 2 = \\frac{1}{2}$\n",
    "\n",
    "<hr>"
   ]
  },
  {
   "cell_type": "markdown",
   "metadata": {},
   "source": [
    "(iii) If the balls are distinguishable and numbered from 1 to 6, and if the two balls are drawn sequentially, not simultaneously, now obtain the sample space and from this determine the probability of drawing two balls of different colors."
   ]
  },
  {
   "cell_type": "markdown",
   "metadata": {},
   "source": [
    "<hr>\n",
    "### `Solution:`\n",
    "\n",
    "**New Sample Space, N** = $\\{(1,2), (1,3), ... (1,6), (2,1), (2,3), ... (2,6), ... (6,5)\\}$\n",
    "\n",
    "$|N|$ = 30\n",
    "\n",
    "Each ball can be paired with 3 other balls of different color. And we have 6 balls. So, number of possible outcomes for the given event $ = 6 * 3 = 18 $\n",
    "\n",
    "$\\implies P$(Balls with different colors) = $\\frac{18}{30} = \\frac{3}{5}$\n",
    "\n",
    "<hr>"
   ]
  },
  {
   "cell_type": "code",
   "execution_count": null,
   "metadata": {},
   "outputs": [],
   "source": []
  },
  {
   "cell_type": "code",
   "execution_count": null,
   "metadata": {},
   "outputs": [],
   "source": []
  },
  {
   "cell_type": "markdown",
   "metadata": {},
   "source": [
    "# Exercise 3.12"
   ]
  },
  {
   "cell_type": "markdown",
   "metadata": {},
   "source": [
    "An experiment is performed by selecting a card from an ordinary deck of 52\n",
    "playing cards.  The outcome, $\\omega$, is the type of card chosen, classified\n",
    "as: `Ace,` `King,` `Queen,` `Jack,` and `others.`  The\n",
    "random variable $X(\\omega)$ assigns the number 4 to the outcome if $\\omega$ is\n",
    "an `Ace;` $X(\\omega) = 3$ if the outcome is a `King`; $X(\\omega)=2$ if the\n",
    "outcome is a `Queen,` and $X(\\omega)=1$ if the outcome is a `Jack`;\n",
    "$X(\\omega)=0$ for all other outcomes.\n",
    "\n",
    "(i) What is the space $V$ of this random variable?"
   ]
  },
  {
   "cell_type": "markdown",
   "metadata": {},
   "source": [
    "<hr>\n",
    "### `Solution:`\n",
    "\n",
    "$$\n",
    "V = \\left\\{\n",
    "\\begin{array}{ll}\n",
    "4; & Ace \\\\\n",
    "3; & King \\\\\n",
    "2; & Queen \\\\\n",
    "1; & Jack \\\\\n",
    "0; & \\mbox{Otherwise} \\\\\n",
    "\\end{array}\n",
    "\\right.\n",
    "$$\n",
    "<hr>"
   ]
  },
  {
   "cell_type": "markdown",
   "metadata": {},
   "source": [
    "(ii) If the probability set function $P(\\Gamma)$ defined on the subsets of the\n",
    "original sample space $\\Omega$ assigns a probability $1/52$ to each of these\n",
    "outcomes, describe the induced probability set function $P_X(A)$ induced on all\n",
    "the subsets of the space $V$ by this random variable."
   ]
  },
  {
   "cell_type": "markdown",
   "metadata": {},
   "source": [
    "<hr>\n",
    "### `Solution:`\n",
    "\n",
    "$$\n",
    "P_X(A) = \\left\\{ \n",
    "\\begin{array}{ll}\n",
    "\\frac{1}{52}*4 = \\frac{1}{13}; & X=4 \\\\\n",
    "\\frac{1}{52}*4 = \\frac{1}{13}; & X=3 \\\\\n",
    "\\frac{1}{52}*4 = \\frac{1}{13}; & X=2 \\\\\n",
    "\\frac{1}{52}*4 = \\frac{1}{13}; & X=1 \\\\\n",
    "\\frac{1}{52}*36 = \\frac{9}{13}; & X=0\n",
    "\\end{array} \n",
    "\\right.\n",
    "$$\n",
    "<hr>"
   ]
  },
  {
   "cell_type": "markdown",
   "metadata": {},
   "source": [
    "(iii) Describe a physical (scientific or engineering) problem for which the\n",
    "above would be a good surrogate `model.`"
   ]
  },
  {
   "cell_type": "code",
   "execution_count": null,
   "metadata": {},
   "outputs": [],
   "source": []
  },
  {
   "cell_type": "code",
   "execution_count": null,
   "metadata": {},
   "outputs": [],
   "source": []
  },
  {
   "cell_type": "code",
   "execution_count": null,
   "metadata": {},
   "outputs": [],
   "source": []
  },
  {
   "cell_type": "markdown",
   "metadata": {},
   "source": [
    "# Exercise 3.13"
   ]
  },
  {
   "cell_type": "markdown",
   "metadata": {},
   "source": [
    "Obtain the sample space, $\\Omega$, for the experiment involving tossing a fair coin 4 times. Upon assigning equal probability to each outcome, determine the probabilities of obtaining, 0, 1, 2, 3, or 4 heads.  Confirm that your result is consistent with the postulate that the probability model for this phenomenon is given by the probability distribution function:\n",
    "    $$\n",
    "    f(x) = \\frac{n!}{x!(n-x)!}p^x (1-p)^{n-x}\n",
    "    $$\n",
    "    \n",
    "where $f(x)$ is the probability of obtaining $x$ heads in $n=4$ tosses, and $p= {1\\over2}$ is the probability of obtaining a head in a *single* toss of the coin. (See Chapter 8.)"
   ]
  },
  {
   "cell_type": "markdown",
   "metadata": {},
   "source": [
    "<hr>\n",
    "### `Solution:`\n",
    "\n",
    "**Sample Space, $\\Omega$** = $\n",
    "\\left\\{ \\\\\n",
    "(H,H,H,H), \\\\\n",
    "(H,H,H,T), \\\\\n",
    "(H,H,T,H), \\\\\n",
    "(H,H,T,T), \\\\\n",
    "(H,T,H,H), \\\\\n",
    "(H,T,H,T), \\\\\n",
    "(H,T,T,H), \\\\\n",
    "(H,T,T,T), \\\\\n",
    "(T,H,H,H), \\\\\n",
    "(T,H,H,T), \\\\\n",
    "(T,H,T,H), \\\\\n",
    "(T,H,T,T), \\\\\n",
    "(T,T,H,H), \\\\\n",
    "(T,T,H,T), \\\\\n",
    "(T,T,T,H), \\\\\n",
    "(T,T,T,T) \\\\\n",
    "\\right\\}$\n",
    "\n",
    "$|\\Omega|$ = 16\n",
    "\n",
    "Assigning equal probability to each outcome $\\implies P$(each outcome)$ = \\frac{1}{16}$\n",
    "\n",
    "<br>\n",
    "Now,\n",
    "\n",
    "Probability of obtaining x heads (for x = 0,1,2,3,4) denoted by $P(x)$ is:\n",
    "\n",
    "$\n",
    "P(0) = P(\\{(T,T,T,T)\\}) \\\\\n",
    "\\implies P(0) = \\frac{1}{16}\n",
    "$\n",
    "\n",
    "$\n",
    "P(1) = P(\\{(H,T,T,T), (T,H,T,T), (T,T,H,T), (T,T,T,H)\\}) \\\\\n",
    "\\implies P(1) = \\frac{4}{16}\n",
    "$\n",
    "\n",
    "\n",
    "$\n",
    "P(2) = P(\\{(H,H,T,T), (T,H,H,T), (T,T,H,H), (H,T,T,H), (H,T,H,T), (T,H,T,H)\\}) \\\\\n",
    "\\implies P(2) = \\frac{6}{16}\n",
    "$\n",
    "\n",
    "\n",
    "$\n",
    "P(3) = P(\\{T,H,H,H), (H,T,H,H), (H,H,T,H), (H,H,H,T)\\}) \\\\\n",
    "\\implies P(3) = \\frac{4}{16}\n",
    "$\n",
    "\n",
    "\n",
    "$\n",
    "P(4) = P(\\{(H,H,H,H)\\}) \\\\\n",
    "\\implies P(4) = \\frac{1}{16}\n",
    "$\n",
    "\n",
    "<br><br>\n",
    "\n",
    "According to the given probability distribution function:\n",
    "$$\n",
    "f(x) = \\frac{4!}{x!(4-x)!}\\frac{1}{2}^x (1-\\frac{1}{2})^{4-x}\n",
    "$$\n",
    "\n",
    "The probabilities are:\n",
    "\n",
    "$\n",
    "P(0) = \\frac{4!}{0!(4-0)!}\\frac{1}{2}^0 (1-\\frac{1}{2})^{4-0} = \\left(\\frac{1}{2}\\right)^4 \\\\\n",
    "\\implies P(0) = \\frac{1}{16}\n",
    "$\n",
    "\n",
    "\n",
    "$\n",
    "P(1) = \\frac{4!}{1!(4-1)!}\\frac{1}{2}^1 (1-\\frac{1}{2})^{4-1} = 4*\\frac{1}{2} \\left(\\frac{1}{2}\\right)^{3} \\\\\n",
    "\\implies P(1) = \\frac{4}{16}\n",
    "$\n",
    "\n",
    "\n",
    "$\n",
    "P(2) = \\frac{4!}{2!(4-2)!}\\frac{1}{2}^2 (1-\\frac{1}{2})^{4-2} = 6*\\frac{1}{2}^2 \\left(\\frac{1}{2}\\right)^{2} \\\\\n",
    "\\implies P(2) = \\frac{6}{16}\n",
    "$\n",
    "\n",
    "\n",
    "$\n",
    "P(3) = \\frac{4!}{3!(4-3)!}\\frac{1}{2}^3 (1-\\frac{1}{2})^{4-3} = 4*\\frac{1}{2}^3 \\left(\\frac{1}{2}\\right)^{1} \\\\\n",
    "\\implies P(3) = \\frac{4}{16}\n",
    "$\n",
    "\n",
    "\n",
    "$\n",
    "P(4) = \\frac{4!}{4!(4-4)!}\\frac{1}{2}^4 (1-\\frac{1}{2})^{4-4} = \\frac{1}{2}^4 \\left(\\frac{1}{2}\\right)^{0} \\\\\n",
    "\\implies P(4) = \\frac{1}{16}\n",
    "$\n",
    "\n",
    "<br>\n",
    "As we can see, both methods yeild the same results.\n",
    "\n",
    "<hr>"
   ]
  },
  {
   "cell_type": "code",
   "execution_count": null,
   "metadata": {},
   "outputs": [],
   "source": []
  },
  {
   "cell_type": "code",
   "execution_count": null,
   "metadata": {},
   "outputs": [],
   "source": []
  },
  {
   "cell_type": "markdown",
   "metadata": {},
   "source": [
    "# Exercise 3.14"
   ]
  },
  {
   "cell_type": "markdown",
   "metadata": {},
   "source": [
    "In the fall of 2007,  $k$ students born in 1989 attended an all-freshman introductory general engineering class at the University of Delaware.  Confirm that if $p$ is the probability that **at least two** of the students have the same birthday then: \n",
    "<br> <br>\n",
    "    $$\n",
    "    1-p = \\frac{365!}{(365-k)!}{1 \\over (365)^k}\n",
    "    $$\n",
    "    \n",
    "Show that for a class with 23 or more students born in 1989, the probability of at least 2 students sharing the same birthday, is more than 1/2, i.e., if $k>23$ then $p>1/2$."
   ]
  },
  {
   "cell_type": "code",
   "execution_count": null,
   "metadata": {},
   "outputs": [],
   "source": []
  },
  {
   "cell_type": "code",
   "execution_count": null,
   "metadata": {},
   "outputs": [],
   "source": []
  },
  {
   "cell_type": "code",
   "execution_count": null,
   "metadata": {},
   "outputs": [],
   "source": []
  },
  {
   "cell_type": "markdown",
   "metadata": {},
   "source": [
    "# Exercise 3.15"
   ]
  },
  {
   "cell_type": "markdown",
   "metadata": {},
   "source": [
    "Six simple events, with probabilities $P(E_1)= 0.11; P(E_2) = P(E_5) = 0.20; P(E_3) = 0.25; P(E_4) = 0.09; P(E_6) = 0.15$, constitute the entire set of outcomes of an experiment.  The following events are of interest: <br><br>\n",
    "$$\n",
    "A = \\{E_1, E_2\\}; \\; B = \\{E_2, E_3, E_4\\}; \\; C = \\{E_5, E_6\\}; \\; D= \\{ E_1, E_2, E_5 \\}\n",
    "$$\n",
    "\n",
    "Determine the following probabilities:\n",
    "\n",
    "(i) $P(A), P(B), P(C), P(D)$;\n"
   ]
  },
  {
   "cell_type": "markdown",
   "metadata": {},
   "source": [
    "<hr>\n",
    "### `Solution:`\n",
    "\n",
    "$\n",
    "P(A) = P(E_1) + P(E_2) = 0.11 + 0.20 \\\\\n",
    "\\implies P(A) = 0.31\n",
    "$\n",
    "\n",
    "<br>\n",
    "$\n",
    "P(B) = P(E_2) + P(E_3) + P(E_4) = 0.20 + 0.25 + 0.09 \\\\\n",
    "\\implies P(B) = 0.54\n",
    "$\n",
    "\n",
    "<br>\n",
    "$\n",
    "P(C) = P(E_5) + P(E_6) = 0.20 + 0.15 \\\\\n",
    "\\implies P(C) = 0.35\n",
    "$\n",
    "\n",
    "<br>\n",
    "$\n",
    "P(D) = P(E_1) + P(E_2) + P(E_5) = 0.11 + 0.20 + 0.20 \\\\\n",
    "\\implies P(D) = 0.51\n",
    "$\n",
    "\n",
    "\n",
    "\n",
    "<hr>"
   ]
  },
  {
   "cell_type": "markdown",
   "metadata": {},
   "source": [
    "(ii) $P(A \\cup B), P(A\\cap B); P(A \\cup D), P(A \\cap D); P(B\\cup C), P(B\\cap C)$;"
   ]
  },
  {
   "cell_type": "markdown",
   "metadata": {},
   "source": [
    "<hr>\n",
    "### `Solution:`\n",
    "\n",
    "$\n",
    "P(A \\cup B) = P(\\{E_1, E_2, E_3, E_4\\}) = 0.11 + 0.20 + 0.25 + 0.09 \\\\\n",
    "\\implies P(A \\cup B) = 0.65\n",
    "$\n",
    "\n",
    "<br>\n",
    "$\n",
    "P(A \\cap B) = P(\\{E_2\\}) = 0.20 \\\\\n",
    "\\implies P(A \\cap B) = 0.20\n",
    "$\n",
    "\n",
    "<br>\n",
    "$\n",
    "P(A \\cup D) = P(\\{E_1, E_2, E_5\\}) = 0.11 + 0.20 + 0.20 \\\\\n",
    "\\implies P(A \\cup D) = 0.51\n",
    "$\n",
    "\n",
    "<br>\n",
    "$\n",
    "P(A \\cap D) = P(\\{E_1, E_2\\}) = 0.11 + 0.20 \\\\\n",
    "\\implies P(A \\cap D) = 0.31\n",
    "$\n",
    "\n",
    "<br>\n",
    "$\n",
    "P(B \\cup C) = P(\\{E_2, E_3, E_4, E_5, E_6\\}) = 0.20 + 0.25 + 0.09 + 0.15 + 0.20 \\\\\n",
    "\\implies P(B \\cup C) = 0.89\n",
    "$\n",
    "\n",
    "<br>\n",
    "$\n",
    "P(B \\cap C) = P(\\{\\phi\\}) = 0 \\\\\n",
    "\\implies P(B \\cap C) = 0\n",
    "$\n",
    "\n",
    "\n",
    "<hr>"
   ]
  },
  {
   "cell_type": "markdown",
   "metadata": {},
   "source": [
    "(iii) $P(B|A), P(A|B)$; $P(B|C), P(D|C)$"
   ]
  },
  {
   "cell_type": "markdown",
   "metadata": {},
   "source": [
    "<hr>\n",
    "### `Solution:`\n",
    "\n",
    "$\n",
    "P(B|A) = \\frac{P(B \\cap A)}{P(A)} = \\frac{0.20}{0.31} \\\\\n",
    "\\implies P(B|A) = 0.64516\n",
    "$\n",
    "\n",
    "<br>\n",
    "$\n",
    "P(B|A) = \\frac{P(B \\cap A)}{P(B)} = \\frac{0.20}{0.54} \\\\\n",
    "\\implies P(B|A) = 0.37037\n",
    "$\n",
    "\n",
    "<br>\n",
    "$\n",
    "P(B|C) = \\frac{P(B \\cap C)}{P(C)} = \\frac{0}{0.35} \\\\\n",
    "\\implies P(B|C) = 0\n",
    "$\n",
    "\n",
    "<br>\n",
    "$\n",
    "P(C|D) = \\frac{P(C \\cap D)}{P(D)} = \\frac{0.20}{0.51} \\\\\n",
    "\\implies P(C|D) = 0.39215\n",
    "$\n",
    "\n",
    "\n",
    "<hr>"
   ]
  },
  {
   "cell_type": "markdown",
   "metadata": {},
   "source": [
    "Which of the events $A, B, C$ and $D$ are mutually exclusive?"
   ]
  },
  {
   "cell_type": "markdown",
   "metadata": {},
   "source": [
    "<hr>\n",
    "### `Solution:`\n",
    "\n",
    "Since $A \\cap C = \\phi$ and $B \\cap C = \\phi$, the events A and C and the events B and C are mutually exclusive. \n",
    "\n",
    "<hr>"
   ]
  },
  {
   "cell_type": "code",
   "execution_count": null,
   "metadata": {},
   "outputs": [],
   "source": []
  },
  {
   "cell_type": "code",
   "execution_count": null,
   "metadata": {},
   "outputs": [],
   "source": []
  },
  {
   "cell_type": "markdown",
   "metadata": {},
   "source": [
    "# Exercise 3.16"
   ]
  },
  {
   "cell_type": "markdown",
   "metadata": {},
   "source": [
    "Assuming that giving birth to a boy or a girl is equally likely, and further, that no multiple births have occurred, first, determine the probability of a family having three boys in a row. Now consider the conjecture (based on empirical data) that, for a family that has already had two boys in a row, the probability of having a third boy is 0.8. Under these conditions, what is now the probability of a family having three boys in a row?"
   ]
  },
  {
   "cell_type": "code",
   "execution_count": null,
   "metadata": {},
   "outputs": [],
   "source": []
  },
  {
   "cell_type": "code",
   "execution_count": null,
   "metadata": {},
   "outputs": [],
   "source": []
  },
  {
   "cell_type": "code",
   "execution_count": null,
   "metadata": {},
   "outputs": [],
   "source": []
  },
  {
   "cell_type": "markdown",
   "metadata": {},
   "source": [
    "# Exercise 3.17"
   ]
  },
  {
   "cell_type": "markdown",
   "metadata": {},
   "source": [
    "As a follow-up to the concept of independence of two events $A$ and $B$,\n",
    "\n",
    "1. Event $A$ is said to be `attracted` to  event $B$ if\n",
    "\n",
    "        P(A|B) > P(A)\n",
    "\n",
    "        \n",
    "2. Event $A$ is said to be `repelled` by event $B$ if\n",
    "\n",
    "        P(A|B) < P(A)\n",
    "        \n",
    "(Of course, when $P(A|B) = P(A)$, the two events have been previously identified as independent.)  Establish the result that if $B$ attracts $A$, then: \n",
    "\n",
    "(i) $A$ attracts $B$ (mutual attraction)"
   ]
  },
  {
   "cell_type": "markdown",
   "metadata": {},
   "source": [
    "<hr>\n",
    "### `Solution:`\n",
    "\n",
    "Given : B attracts A \n",
    "\n",
    "i.e.,\n",
    "$\n",
    "P(A) > P(A\\,|\\,B) \\\\\n",
    "\\implies P(A) > \\frac{P(A \\,\\cap\\, B)}{P(B)} \\\\\n",
    "\\implies P(B) > \\frac{P(A \\,\\cap\\, B)}{P(A)} \\\\\n",
    "\\implies P(B) > P(B\\,|\\,A) \\\\\n",
    "\\implies A \\, attracts \\, B \\\\\n",
    "\\implies Mutual \\, Attraction\n",
    "$\n",
    "\n",
    "\n",
    "<hr>"
   ]
  },
  {
   "cell_type": "markdown",
   "metadata": {},
   "source": [
    "(ii) $B^*$ repels $A$."
   ]
  },
  {
   "cell_type": "code",
   "execution_count": null,
   "metadata": {},
   "outputs": [],
   "source": []
  },
  {
   "cell_type": "code",
   "execution_count": null,
   "metadata": {},
   "outputs": [],
   "source": []
  },
  {
   "cell_type": "code",
   "execution_count": null,
   "metadata": {},
   "outputs": [],
   "source": []
  },
  {
   "cell_type": "markdown",
   "metadata": {},
   "source": [
    "# Exercise 3.18"
   ]
  },
  {
   "cell_type": "markdown",
   "metadata": {},
   "source": [
    "Show that if $A$ and $B$ are independent, then $A^*$ and $B^*$ are also independent."
   ]
  },
  {
   "cell_type": "markdown",
   "metadata": {},
   "source": [
    "Given:\n",
    "$P(A|B) = P(A) \\,\\,\\,\\,\\,\\,\\,$ (Property of Independent Events)\n",
    "\n",
    "$\n",
    "\\implies \\frac{P(A \\cap B)}{P(B)} = P(A) \\\\\n",
    "\\implies P(A \\cap B) = P(A)*P(B) \\,\\,\\,\\,\\,\\,\\, - Eq (1) \\\\\n",
    "$\n",
    "\n",
    "We also know that:\n",
    "\n",
    "$\n",
    "P(A^*) = 1 - P(A) \\\\\n",
    "P(B^*) = 1 - P(B) \n",
    "$\n",
    "\n",
    "So,\n",
    "\n",
    "$\n",
    "P(A^*)P(B^*) = [1 - P(A)][1 - P(B)] \\\\\n",
    "\\implies P(A^*)P(B^*) = 1 - P(A) - P(B) + P(A)P(B) \\\\\n",
    "\\implies P(A^*)P(B^*) = 1 - P(A) - P(B) + P(A \\cap B) \\,\\,\\,\\,\\,\\,\\, - (using\\,Eq (1)) \\\\\n",
    "\\implies P(A^*)P(B^*) = 1 - [P(A) + P(B) - P(A \\cap B)] \\\\\n",
    "\\implies P(A^*)P(B^*) = 1 - P(A \\cup B) \\\\\n",
    "\\implies P(A^*)P(B^*) = P(A \\cup B)^* \\\\\n",
    "\\implies P(A^*)P(B^*) = P(A^* \\cap B^*) \\,\\,\\,\\,\\,\\,\\, - (using\\,De\\,Morgan's\\,Law) \\\\\n",
    "$\n",
    "\n",
    "$\\implies A^*$ and $B^*$ are independent events.\n",
    "\n",
    "\n",
    "\n"
   ]
  },
  {
   "cell_type": "code",
   "execution_count": null,
   "metadata": {},
   "outputs": [],
   "source": []
  },
  {
   "cell_type": "code",
   "execution_count": null,
   "metadata": {},
   "outputs": [],
   "source": []
  },
  {
   "cell_type": "markdown",
   "metadata": {},
   "source": [
    "# Exercise 3.19"
   ]
  },
  {
   "cell_type": "markdown",
   "metadata": {},
   "source": [
    "Show that for two events $A$ and $B$, $P(A \\cup B|A \\cap B) \\le P(A\\cap B|A)$. State the condition for equality."
   ]
  },
  {
   "cell_type": "code",
   "execution_count": null,
   "metadata": {},
   "outputs": [],
   "source": []
  },
  {
   "cell_type": "code",
   "execution_count": null,
   "metadata": {},
   "outputs": [],
   "source": []
  },
  {
   "cell_type": "code",
   "execution_count": null,
   "metadata": {},
   "outputs": [],
   "source": []
  },
  {
   "cell_type": "markdown",
   "metadata": {},
   "source": [
    "# Exercise 3.20"
   ]
  },
  {
   "cell_type": "markdown",
   "metadata": {},
   "source": [
    "An exchange student from Switzerland, who is male, has been assigned to be your partner in an introductory psychology class. As part of a class assignment, he responds to your question about his family by stating only that he comes from a family of two children, without specifying whether he is the older or the younger.  What is the probability that his sibling is female? Assume equal probability of having a boy or girl.  Why does this result seem counterintuitive at first?"
   ]
  },
  {
   "cell_type": "code",
   "execution_count": null,
   "metadata": {},
   "outputs": [],
   "source": []
  },
  {
   "cell_type": "code",
   "execution_count": null,
   "metadata": {},
   "outputs": [],
   "source": []
  },
  {
   "cell_type": "code",
   "execution_count": null,
   "metadata": {},
   "outputs": [],
   "source": []
  },
  {
   "cell_type": "markdown",
   "metadata": {},
   "source": [
    "# Exercise 3.21"
   ]
  },
  {
   "cell_type": "markdown",
   "metadata": {},
   "source": [
    "A system consisting of two components $A$ and $B$ that are connected in **series** functions if **both** of them  function.  If $P(A)$, the probability that component $A$ functions, is 0.99, and the  probability that component $B$ functions is 0.90, find the probability that this series system functions, assuming that whether one component functions or not is independent of the status of the other component.  If these components are connected in **parallel**, the system fails (i.e., will **not** function) only if **both** components fail.  Assuming independence, determine the probability that the parallel system functions.  Which probability is higher and why is it reasonable to expect a higher probability from the system in question?"
   ]
  },
  {
   "cell_type": "code",
   "execution_count": null,
   "metadata": {},
   "outputs": [],
   "source": []
  },
  {
   "cell_type": "code",
   "execution_count": null,
   "metadata": {},
   "outputs": [],
   "source": []
  },
  {
   "cell_type": "code",
   "execution_count": null,
   "metadata": {},
   "outputs": [],
   "source": []
  },
  {
   "cell_type": "markdown",
   "metadata": {},
   "source": [
    "# Exercise 3.22"
   ]
  },
  {
   "cell_type": "markdown",
   "metadata": {},
   "source": [
    "The functioning status of a complex system that consists of several components arranged in series and parallel and with cross-links (i.e., whether the system functions or not) can be determined from the status of a `keystone` component,  $C_k$.  If the probability that the keystone component for a particular system functions is given as $P(C_k) = 0.9$ and the probability that the the system function when the keystone functions, $P(S|C_k)$, is given as 0.9, with the complementary probability that the system functions when the keystone **does not** function, $P(S|C^*_k)$, given as 0.8, find the unconditional probability, $P(S)$, that the system functions."
   ]
  },
  {
   "cell_type": "code",
   "execution_count": null,
   "metadata": {},
   "outputs": [],
   "source": []
  },
  {
   "cell_type": "code",
   "execution_count": null,
   "metadata": {},
   "outputs": [],
   "source": []
  },
  {
   "cell_type": "code",
   "execution_count": null,
   "metadata": {},
   "outputs": [],
   "source": []
  }
 ],
 "metadata": {
  "kernelspec": {
   "display_name": "Python 3",
   "language": "python",
   "name": "python3"
  },
  "language_info": {
   "codemirror_mode": {
    "name": "ipython",
    "version": 3
   },
   "file_extension": ".py",
   "mimetype": "text/x-python",
   "name": "python",
   "nbconvert_exporter": "python",
   "pygments_lexer": "ipython3",
   "version": "3.6.4"
  }
 },
 "nbformat": 4,
 "nbformat_minor": 2
}
