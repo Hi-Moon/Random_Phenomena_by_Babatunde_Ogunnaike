{
 "cells": [
  {
   "cell_type": "code",
   "execution_count": 1,
   "metadata": {},
   "outputs": [],
   "source": [
    "import pandas as pd\n",
    "import numpy as np\n",
    "from matplotlib import pyplot as plt\n",
    "from IPython.display import Image, HTML, display\n",
    "import math"
   ]
  },
  {
   "cell_type": "code",
   "execution_count": null,
   "metadata": {},
   "outputs": [],
   "source": []
  },
  {
   "cell_type": "markdown",
   "metadata": {},
   "source": [
    "# `EXERCISES`"
   ]
  },
  {
   "cell_type": "markdown",
   "metadata": {},
   "source": [
    "# Exercise 2.1"
   ]
  },
  {
   "cell_type": "markdown",
   "metadata": {},
   "source": [
    "Solve Eq (2.11) :\n",
    "$$\n",
    "\\tau \\frac{dC}{dt} = - C + C_0 \\delta(t)\n",
    "$$\n",
    "\n",
    "\n",
    "explicitly to confirm the result in Eq (2.12):\n",
    "<br>\n",
    "$$\n",
    "C(t) = \\frac{C_0}{\\tau} e^{-t/\\tau}\n",
    "$$"
   ]
  },
  {
   "cell_type": "markdown",
   "metadata": {},
   "source": [
    "<hr>\n",
    "<span style=\"color: #990033;\">\n",
    "\n",
    "### `Solution:`\n",
    "\n",
    "Rearranging the equation:\n",
    "\n",
    "$ \\frac{dC}{dt} + \\frac{C}{\\tau} = \\frac{C_0}{\\tau} \\delta(t)  \\,\\,\\,\\,\\,\\,\\,\\,\\,\\, - Eq(1) $\n",
    "\n",
    "$Eq (1)$ is a first order Ordinary Differential Equation. The standard form of first order ODE is given in $Eq (2)$ below :\n",
    "\n",
    "$ y' + g(t)y = f(t)  \\,\\,\\,\\,\\,\\,\\,\\,\\,\\, - Eq(2) $\n",
    "\n",
    "Comparing $Eq (1)$ with $Eq (2)$ we have:\n",
    "\n",
    "$ y' = \\frac{dC}{dt} $\n",
    "\n",
    "$ g(t) = \\frac{1}{\\tau} $\n",
    "\n",
    "$ y = C $\n",
    "\n",
    "$ f(t) = \\frac{C_0}{\\tau} \\delta(t) $\n",
    "\n",
    "Solution for $Eq (2)$ is given by :\n",
    "\n",
    "$ y(t) = \\frac{\\int u(t)f(t) dt}{u(t)}  \\,\\,\\,\\,\\,\\,\\,\\,\\,\\, - Eq(3) $\n",
    "\n",
    "where $ u(t) = e^{\\int g(t) dt}  \\,\\,\\,\\,\\,\\,\\,\\,\\,\\, - Eq(4) $\n",
    "\n",
    "For our case,\n",
    "\n",
    "$ u(t) = e^{\\int \\frac{1}{\\tau} dt} $\n",
    "\n",
    "$ \\implies u(t) = e^{t/\\tau} $\n",
    "\n",
    "and\n",
    "\n",
    "$ C(t) = \\frac{\\int u(t)f(t) dt}{u(t)} $\n",
    "\n",
    "$ \\implies C(t) = \\frac{\\int e^{t/\\tau}\\frac{C_0}{\\tau} \\delta(t) dt}{e^{t/\\tau}} = \n",
    "\\frac{\\frac{C_0}{\\tau}\\int e^{t/\\tau} \\delta(t) dt}{e^{t/\\tau}} $\n",
    "\n",
    "Using the property of Dirac-Delta function: $ \\int f(x) \\delta(x) dx = f(0) $\n",
    "\n",
    "we get $\\,\\,\\, C(t) = \\frac{\\frac{C_0}{\\tau} e^{0/\\tau}} {e^{t/\\tau}} = \\frac{\\frac{C_0}{\\tau} * 1} {e^{t/\\tau}} $\n",
    "\n",
    "$ \\implies C(t) = \\frac{C_0}{\\tau} e^{-t/\\tau} $\n",
    "\n",
    "<hr>"
   ]
  },
  {
   "cell_type": "code",
   "execution_count": null,
   "metadata": {},
   "outputs": [],
   "source": []
  },
  {
   "cell_type": "code",
   "execution_count": null,
   "metadata": {},
   "outputs": [],
   "source": []
  },
  {
   "cell_type": "markdown",
   "metadata": {},
   "source": [
    "# Exercise 2.2"
   ]
  },
  {
   "cell_type": "markdown",
   "metadata": {},
   "source": [
    "Plot the expression in Eq (2.15)\n",
    "$$\n",
    "F(t) = \\int_0^t \\frac{1}{\\tau} e^{-\\theta/\\tau} d\\theta = \\left(1-e^{-t/\\tau}\\right)\n",
    "$$\n",
    "\n",
    "as a function of the scaled time variable, $\\tilde{t} = t/\\tau$; determine the percentage of dye molecules with age less than or equal to the mean residence time, $\\tau$."
   ]
  },
  {
   "cell_type": "markdown",
   "metadata": {},
   "source": [
    "<hr>\n",
    "<span style=\"color: #990033;\">\n",
    "\n",
    "### `Solution:`\n",
    "\n",
    "Given : \n",
    "\n",
    "$F(t) = 1-e^{-t/\\tau}  \\,\\,\\,\\,\\,\\,\\,\\,\\,\\, - Eq(1) $\n",
    "\n",
    "Replacing $t/\\tau$ in $Eq (1)$ by $\\tilde{t}$:\n",
    "\n",
    "$F(\\tilde{t}) = 1-e^{-\\tilde{t}}  \\,\\,\\,\\,\\,\\,\\,\\,\\,\\, - Eq(2) $\n",
    "\n",
    "<hr>"
   ]
  },
  {
   "cell_type": "code",
   "execution_count": 2,
   "metadata": {},
   "outputs": [
    {
     "data": {
      "image/png": "[encoded data removed]",
      "text/plain": [
       "<matplotlib.figure.Figure at 0x1103481d0>"
      ]
     },
     "metadata": {},
     "output_type": "display_data"
    }
   ],
   "source": [
    "def eq2(tilde_t):\n",
    "    return (1 - np.exp(-tilde_t))\n",
    "\n",
    "lim = 15\n",
    "x = range(lim)\n",
    "y = [eq2(val) for val in x]\n",
    "\n",
    "plt.plot(x,y)\n",
    "plt.grid(True)\n",
    "plt.title(\"Average Residence time in CSTR\")\n",
    "plt.show()"
   ]
  },
  {
   "cell_type": "markdown",
   "metadata": {},
   "source": [
    "<hr>\n",
    "<span style=\"color: #990033;\">\n",
    "\n",
    "Percentage of molecules having residence time less than equal to $\\tau$ is given by:\n",
    "\n",
    "$Eq (1)$ at $t = \\tau$. \n",
    "\n",
    "Or equivalently by:\n",
    "\n",
    "$Eq (2)$ at $\\tilde{t} = t/\\tau = \\tau/\\tau = 1 $\n",
    "\n",
    "<hr>"
   ]
  },
  {
   "cell_type": "code",
   "execution_count": 3,
   "metadata": {},
   "outputs": [
    {
     "name": "stdout",
     "output_type": "stream",
     "text": [
      "Percentage of molecules having residence time less than equal to mean is:  0.6321205588285577\n"
     ]
    }
   ],
   "source": [
    "print(\"Percentage of molecules having residence time less than equal to mean is: \", eq2(1))"
   ]
  },
  {
   "cell_type": "code",
   "execution_count": null,
   "metadata": {},
   "outputs": [],
   "source": []
  },
  {
   "cell_type": "code",
   "execution_count": null,
   "metadata": {},
   "outputs": [],
   "source": []
  },
  {
   "cell_type": "markdown",
   "metadata": {},
   "source": [
    "# Exercise 2.3"
   ]
  },
  {
   "cell_type": "markdown",
   "metadata": {},
   "source": [
    "Show that\n",
    "$$\n",
    "\\int_0^{\\infty} \\frac{1}{\\tau} \\theta e^{-\\theta/\\tau}\n",
    "        d\\theta = \\tau\n",
    "$$\n",
    "and hence confirm the result in Eq (2.19)."
   ]
  },
  {
   "cell_type": "markdown",
   "metadata": {},
   "source": [
    "<hr>\n",
    "<span style=\"color: #990033;\">\n",
    "\n",
    "### `Solution:`\n",
    "<br>\n",
    "$\n",
    "\\int_0^{\\infty} \\frac{1}{\\tau} \\theta e^{-\\theta/\\tau} d\\theta = \n",
    "\\frac{1}{\\tau} \\int_0^{\\infty} \\theta e^{-\\theta/\\tau} d\\theta\n",
    "$\n",
    "\n",
    "Using Integration By Parts:\n",
    "\n",
    "$\n",
    "\\frac{1}{\\tau} \\left.\\left[ \\theta (-e^{-\\theta/\\tau} \\tau) - \\int(-e^{-\\theta/\\tau} \\tau) \\right]\\,\\right|_0^{\\infty}\n",
    "$\n",
    "\n",
    "$\n",
    "= \\frac{1}{\\tau} \\left.\\left[ \\theta (-e^{-\\theta/\\tau} \\tau) - e^{-\\theta/\\tau} \\tau^2) \\right]\\,\\right|_0^{\\infty}\n",
    "$\n",
    "\n",
    "$\n",
    "= -\\frac{\\tau e^{-\\theta/\\tau}}{\\tau} \\,\\left.\\left( \\theta + \\tau) \\right)\\,\\right|_0^{\\infty}\n",
    "= -e^{-\\theta/\\tau}\\,\\left.\\left( \\theta + \\tau) \\right)\\,\\right|_0^{\\infty}\n",
    "$\n",
    "\n",
    "$\n",
    "= -e^{-\\infty/\\tau} \\,\\left( \\infty + \\tau) \\right) - \\left[-e^{-0/\\tau} \\,\\left( 0 + \\tau) \\right) \\right]\n",
    "$\n",
    "\n",
    "$\n",
    "= 0 + \\tau = \\tau\n",
    "$\n",
    "\n",
    "$\n",
    "\\implies \\int_0^{\\infty} \\frac{1}{\\tau} \\theta e^{-\\theta/\\tau} d\\theta \\,=\\, \\tau\n",
    "$\n",
    "\n",
    "<hr>"
   ]
  },
  {
   "cell_type": "code",
   "execution_count": null,
   "metadata": {},
   "outputs": [],
   "source": []
  },
  {
   "cell_type": "code",
   "execution_count": null,
   "metadata": {},
   "outputs": [],
   "source": []
  },
  {
   "cell_type": "markdown",
   "metadata": {},
   "source": [
    "# Exercise 2.4"
   ]
  },
  {
   "cell_type": "markdown",
   "metadata": {},
   "source": [
    "The following probability distribution functions:\n",
    "    $$\n",
    "    f(x) = \\frac{1}{3\\sqrt{2\\pi}}e^{\\frac{-x^2}{18}}; - \\infty < x < \\infty\n",
    "    $$\n",
    "    \n",
    "and\n",
    "    $$\n",
    "    f(y) = \\frac{1}{\\sqrt{2\\pi}}e^{\\frac{-y^2}{2}}; - \\infty < y < \\infty\n",
    "    $$\n",
    "    \n",
    "represent how the occurrences of all the possible outcomes of the two randomly varying, continuous variables, $X$ and $Y$, are distributed. Plot these two distribution functions on the same graph.  Which of these variables has a higher degree of uncertainty associated with the determination of any particular outcome. Why?"
   ]
  },
  {
   "cell_type": "code",
   "execution_count": 4,
   "metadata": {},
   "outputs": [
    {
     "data": {
      "image/png": "[encoded data removed]",
      "text/plain": [
       "<matplotlib.figure.Figure at 0x1103a3d30>"
      ]
     },
     "metadata": {},
     "output_type": "display_data"
    }
   ],
   "source": [
    "def distribution1(x):\n",
    "    return (1/(3*np.sqrt(2*np.pi)))*(np.exp((-(x**2))/18))\n",
    "    \n",
    "\n",
    "def distribution2(y):\n",
    "    return (1/(np.sqrt(2*np.pi)))*(np.exp((-(y**2))/2))\n",
    "\n",
    "\n",
    "\n",
    "lim = 12\n",
    "t = range(-lim, lim)\n",
    "\n",
    "x = [distribution1(val) for val in t]\n",
    "y = [distribution2(val) for val in t]\n",
    "\n",
    "alpha=0.6\n",
    "plt.fill(t, x, label='Distribution 1', alpha=alpha)\n",
    "plt.fill(t, y, label='Distribution 2', alpha=alpha)\n",
    "plt.grid(True)\n",
    "plt.legend()\n",
    "plt.show()"
   ]
  },
  {
   "cell_type": "markdown",
   "metadata": {},
   "source": [
    "<hr>\n",
    "<span style=\"color: #990033;\">\n",
    "\n",
    "> #### `Observations:`\n",
    "\n",
    "> Distribution 1 has more uncertainity associated with it because it has a broader distribution whereas Distribution 2 has tighter clustering of possible outcomes.\n",
    "\n",
    "<hr>"
   ]
  },
  {
   "cell_type": "code",
   "execution_count": null,
   "metadata": {},
   "outputs": [],
   "source": []
  },
  {
   "cell_type": "code",
   "execution_count": null,
   "metadata": {},
   "outputs": [],
   "source": []
  },
  {
   "cell_type": "markdown",
   "metadata": {},
   "source": [
    "# Exercise 2.5"
   ]
  },
  {
   "cell_type": "markdown",
   "metadata": {},
   "source": [
    "When a `fair` coin is tossed 4 times, it is postulated that the probability of obtaining $x$ heads is given by the probability distribution function:\n",
    "    $$\n",
    "    f(x) = \\frac{4!}{x!(4-x)!}0.5^4\n",
    "    $$\n",
    "    \n",
    "Determine the probability of obtaining $x=0, 1, 2, \\ldots, 4$ heads.  Intuitively, which of these outcomes would you think will be the `most likely?`  Are the results of your computation consistent with your intuition?"
   ]
  },
  {
   "cell_type": "code",
   "execution_count": 5,
   "metadata": {},
   "outputs": [
    {
     "name": "stdout",
     "output_type": "stream",
     "text": [
      "The probability of obtaining 0 heads is 0.0625\n",
      "The probability of obtaining 1 heads is 0.25\n",
      "The probability of obtaining 2 heads is 0.375\n",
      "The probability of obtaining 3 heads is 0.25\n",
      "The probability of obtaining 4 heads is 0.0625\n"
     ]
    }
   ],
   "source": [
    "n_times = 4\n",
    "def p_of_heads(x):\n",
    "    return ((math.factorial(n_times))*((0.5)**n_times)/((math.factorial(x)*math.factorial(n_times-x))))\n",
    "\n",
    "for i in range(5):\n",
    "    print(\"The probability of obtaining {} heads is {}\".format(i, p_of_heads(i)))"
   ]
  },
  {
   "cell_type": "markdown",
   "metadata": {},
   "source": [
    "<hr>\n",
    "<span style=\"color: #990033;\">\n",
    "\n",
    "> #### `Observations:`\n",
    "\n",
    "> Intuitively I think it is most probable that the number of heads obtained is equal to the number of tails. In other words, obtaining 2 heads should be the most probable outcome because getting less than 2 heads means getting 3 or 4 tails (and vice-versa for more than 2 heads) which should not be as probable as getting 2 heads and 2 tails.  And, as we can see from the results, this is indeed the case.\n",
    "\n",
    "<hr>"
   ]
  },
  {
   "cell_type": "code",
   "execution_count": null,
   "metadata": {},
   "outputs": [],
   "source": []
  },
  {
   "cell_type": "code",
   "execution_count": null,
   "metadata": {},
   "outputs": [],
   "source": []
  },
  {
   "cell_type": "markdown",
   "metadata": {},
   "source": [
    "# Exercise 2.6"
   ]
  },
  {
   "cell_type": "markdown",
   "metadata": {},
   "source": [
    "In tossing a fair coin once, describe the classical `à-priori`, relative frequency `à-posteriori`, and the subjective perspectives of the probability of obtaining a head."
   ]
  },
  {
   "cell_type": "code",
   "execution_count": null,
   "metadata": {},
   "outputs": [],
   "source": []
  },
  {
   "cell_type": "code",
   "execution_count": null,
   "metadata": {},
   "outputs": [],
   "source": []
  }
 ],
 "metadata": {
  "kernelspec": {
   "display_name": "Python 3",
   "language": "python",
   "name": "python3"
  },
  "language_info": {
   "codemirror_mode": {
    "name": "ipython",
    "version": 3
   },
   "file_extension": ".py",
   "mimetype": "text/x-python",
   "name": "python",
   "nbconvert_exporter": "python",
   "pygments_lexer": "ipython3",
   "version": "3.6.4"
  }
 },
 "nbformat": 4,
 "nbformat_minor": 2
}
