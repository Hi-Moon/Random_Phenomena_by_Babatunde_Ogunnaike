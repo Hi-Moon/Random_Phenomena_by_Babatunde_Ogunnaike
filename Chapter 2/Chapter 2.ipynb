{
 "cells": [
  {
   "cell_type": "code",
   "execution_count": 7,
   "metadata": {},
   "outputs": [],
   "source": [
    "bold = '\\033[1m' \n",
    "end = '\\033[0m'\n",
    "\n",
    "import pandas as pd\n",
    "import numpy as np\n",
    "from matplotlib import pyplot as plt\n",
    "from IPython.display import Image, HTML, display\n",
    "import math"
   ]
  },
  {
   "cell_type": "code",
   "execution_count": null,
   "metadata": {},
   "outputs": [],
   "source": []
  },
  {
   "cell_type": "markdown",
   "metadata": {},
   "source": [
    "# `EXERCISES`"
   ]
  },
  {
   "cell_type": "markdown",
   "metadata": {},
   "source": [
    "# Exercise 2.1"
   ]
  },
  {
   "cell_type": "markdown",
   "metadata": {},
   "source": [
    "Solve Eq (2.11) :\n",
    "$$\n",
    "\\tau \\frac{dC}{dt} = - C + C_0 \\delta(t)\n",
    "$$\n",
    "\n",
    "\n",
    "explicitly to confirm the result in Eq (2.12):\n",
    "<br>\n",
    "$$\n",
    "C(t) = \\frac{C_0}{\\tau} e^{-t/\\tau}\n",
    "$$"
   ]
  },
  {
   "cell_type": "code",
   "execution_count": null,
   "metadata": {},
   "outputs": [],
   "source": []
  },
  {
   "cell_type": "markdown",
   "metadata": {},
   "source": [
    "\n",
    "Rearranging the equation:\n",
    "\n",
    "$\n",
    "\\begin{align}\n",
    "\\frac{dc}{dt} + \\frac{C}{\\tau} = \\frac{C_0}{\\tau} \\delta(t)  \n",
    "\\end{align}\n",
    "$ - (1)\n",
    "\n",
    "Eq (1) is a first order Ordinary Differential Equation in standard form –– given in Eq (2) below :\n",
    "\n",
    "$\n",
    "\\begin{align}\n",
    "y' + g(x)y = f(x)\n",
    "\\end{align}\n",
    "$ - (2)\n",
    "\n",
    "Comparing Eq (1) with Eq (2) we have:\n",
    "\n",
    "$\n",
    "\\begin{align}\n",
    "y' = \\frac{dC}{dt}\n",
    "\\end{align}\n",
    "$\n",
    "\n",
    "$\n",
    "\\begin{align}\n",
    "g(x) = \\frac{1}{\\tau}\n",
    "\\end{align}\n",
    "$\n",
    "\n",
    "$\n",
    "\\begin{align}\n",
    "y = C\n",
    "\\end{align}\n",
    "$\n",
    "\n",
    "$\n",
    "\\begin{align}\n",
    "f(x) = \\frac{C_0}{\\tau} \\delta(t)\n",
    "\\end{align}\n",
    "$\n",
    "\n",
    "Solution for Eq (2) is given by :\n",
    "$\n",
    "\\begin{align}\n",
    "y(x) = \\frac{\\int u(x)f(x) dx}{u(x)} \n",
    "\\end{align}\n",
    "$\n",
    "\n",
    "where $u(x)$ is given by:\n",
    "$\n",
    "\\begin{align}\n",
    "u(x) = e^{\\int g(x) dx}\n",
    "\\end{align}\n",
    "$\n",
    "\n",
    "$\n",
    "\\begin{align}\n",
    "\\end{align}\n",
    "$\n",
    "\n",
    "$\n",
    "\\begin{align}\n",
    "\\end{align}\n",
    "$"
   ]
  },
  {
   "cell_type": "code",
   "execution_count": null,
   "metadata": {},
   "outputs": [],
   "source": []
  },
  {
   "cell_type": "markdown",
   "metadata": {},
   "source": [
    "# Exercise 2.2"
   ]
  },
  {
   "cell_type": "markdown",
   "metadata": {},
   "source": [
    "Plot the expression in Eq (2.15)\n",
    "$$\n",
    "F(t) = \\int_0^t \\frac{1}{\\tau}\n",
    "    e^{-\\theta/\\tau} d\\theta = \\left(1-e^{-t/\\tau}\\right)\n",
    "$$\n",
    "\n",
    "as a function of the scaled time variable, $\\tilde{t} = t/\\tau$; determine the percentage of dye molecules with age less than or equal to the mean residence time, $\\tau$."
   ]
  },
  {
   "cell_type": "code",
   "execution_count": null,
   "metadata": {},
   "outputs": [],
   "source": []
  },
  {
   "cell_type": "code",
   "execution_count": null,
   "metadata": {},
   "outputs": [],
   "source": []
  },
  {
   "cell_type": "code",
   "execution_count": null,
   "metadata": {},
   "outputs": [],
   "source": []
  },
  {
   "cell_type": "markdown",
   "metadata": {},
   "source": [
    "# Exercise 2.3"
   ]
  },
  {
   "cell_type": "markdown",
   "metadata": {},
   "source": [
    "Show that\n",
    "$$\n",
    "\\int_0^{\\infty} \\frac{1}{\\tau} \\theta e^{-\\theta/\\tau}\n",
    "        d\\theta = \\tau\n",
    "$$\n",
    "and hence confirm the result in Eq (2.19)."
   ]
  },
  {
   "cell_type": "code",
   "execution_count": null,
   "metadata": {},
   "outputs": [],
   "source": []
  },
  {
   "cell_type": "code",
   "execution_count": null,
   "metadata": {},
   "outputs": [],
   "source": []
  },
  {
   "cell_type": "code",
   "execution_count": null,
   "metadata": {},
   "outputs": [],
   "source": []
  },
  {
   "cell_type": "markdown",
   "metadata": {},
   "source": [
    "# Exercise 2.4"
   ]
  },
  {
   "cell_type": "markdown",
   "metadata": {},
   "source": [
    "The following probability distribution functions:\n",
    "    $$\n",
    "    f(x) = \\frac{1}{3\\sqrt{2\\pi}}e^{\\frac{-x^2}{18}}; - \\infty < x < \\infty\n",
    "    $$\n",
    "    \n",
    "and\n",
    "    $$\n",
    "    f(y) = \\frac{1}{\\sqrt{2\\pi}}e^{\\frac{-y^2}{2}}; - \\infty < y < \\infty\n",
    "    $$\n",
    "    \n",
    "represent how the occurrences of all the possible outcomes of the two randomly varying, continuous variables, $X$ and $Y$, are distributed. Plot these two distribution functions on the same graph.  Which of these variables has a higher degree of uncertainty associated with the determination of any particular outcome. Why?"
   ]
  },
  {
   "cell_type": "code",
   "execution_count": null,
   "metadata": {},
   "outputs": [],
   "source": []
  },
  {
   "cell_type": "code",
   "execution_count": null,
   "metadata": {},
   "outputs": [],
   "source": []
  },
  {
   "cell_type": "code",
   "execution_count": null,
   "metadata": {},
   "outputs": [],
   "source": []
  },
  {
   "cell_type": "markdown",
   "metadata": {},
   "source": [
    "# Exercise 2.5"
   ]
  },
  {
   "cell_type": "markdown",
   "metadata": {},
   "source": [
    "When a `fair` coin is tossed 4 times, it is postulated that the probability of obtaining $x$ heads is given by the probability distribution function:\n",
    "    $$\n",
    "    f(x) = \\frac{4!}{x!(4-x)!}0.5^4\n",
    "    $$\n",
    "    \n",
    "Determine the probability of obtaining $x=0, 1, 2, \\ldots, 4$ heads.  Intuitively, which of these outcomes would you think will be the `most likely?`  Are the results of your computation consistent with your intuition?"
   ]
  },
  {
   "cell_type": "code",
   "execution_count": null,
   "metadata": {},
   "outputs": [],
   "source": []
  },
  {
   "cell_type": "code",
   "execution_count": null,
   "metadata": {},
   "outputs": [],
   "source": []
  },
  {
   "cell_type": "code",
   "execution_count": null,
   "metadata": {},
   "outputs": [],
   "source": []
  },
  {
   "cell_type": "markdown",
   "metadata": {},
   "source": [
    "# Exercise 2.6"
   ]
  },
  {
   "cell_type": "markdown",
   "metadata": {},
   "source": [
    "In tossing a fair coin once, describe the classical `à-priori`, relative frequency `à-posteriori`, and the subjective perspectives of the probability of obtaining a head."
   ]
  },
  {
   "cell_type": "code",
   "execution_count": null,
   "metadata": {},
   "outputs": [],
   "source": []
  },
  {
   "cell_type": "code",
   "execution_count": null,
   "metadata": {},
   "outputs": [],
   "source": []
  },
  {
   "cell_type": "code",
   "execution_count": null,
   "metadata": {},
   "outputs": [],
   "source": []
  },
  {
   "cell_type": "markdown",
   "metadata": {},
   "source": [
    "# `Application Problems`"
   ]
  },
  {
   "cell_type": "markdown",
   "metadata": {},
   "source": [
    "# Exercise 2.7"
   ]
  },
  {
   "cell_type": "markdown",
   "metadata": {},
   "source": [
    "For each of the following two-reactor configurations:\n",
    "    \n",
    "(a) two plug flow reactors in series where the length of reactor 1 is $l_1$ m, and that of reactor 2 is $l_2$ m, but both have the same uniform cross-sectional area $A\\, m^2$;\n",
    "    \n",
    "(b) two continuous stirred tank reactors with volumes $V_1$ and $V_2$ $m^3$;\n",
    "    \n",
    "(c) the PFR in Fig 2.1 followed by the CSTR in Fig 2.2;\n",
    "    \n",
    "    \n",
    "given that the flow rate through each reactor ensemble is constant at $\\,F$ $m^3/s$, obtain the residence time, $\\theta$, or the residence time distribution, $\\,f(\\theta)$, as appropriate.  Make any assumption you deem appropriate about the concentration $\\,C_1(t)$ and $\\,C_2(t)$ in the first and second reactors, respectively."
   ]
  },
  {
   "cell_type": "markdown",
   "metadata": {},
   "source": [
    "<table><tr><td><img src='Fig2_1.png' width=500></td><td><img src='Fig2_2.png' width=460></td></tr></table>"
   ]
  },
  {
   "cell_type": "code",
   "execution_count": null,
   "metadata": {},
   "outputs": [],
   "source": []
  },
  {
   "cell_type": "code",
   "execution_count": null,
   "metadata": {},
   "outputs": [],
   "source": []
  },
  {
   "cell_type": "code",
   "execution_count": null,
   "metadata": {},
   "outputs": [],
   "source": []
  },
  {
   "cell_type": "markdown",
   "metadata": {},
   "source": [
    "# Exercise 2.8"
   ]
  },
  {
   "cell_type": "markdown",
   "metadata": {},
   "source": [
    "In the summer of 1943 during World War II, a total of 365 warships were attacked by Kamikaze pilots: 180 took evasive action and 60 of these were hit; the remaining  185 counterattacked, of which 62 were hit. Using a relative frequency interpretation and invoking any other assumption you deem necessary, determine the probability that any attacked warship will be hit regardless of tactical response. Also determine the probability that a warship taking evasive action will be hit and the probability that a counterattacking warship will be hit.  Compare these three probabilities and discuss what this implies regarding choosing an appropriate tactical response. (A full discussion of this problem is contained in Chapter 7.)"
   ]
  },
  {
   "cell_type": "code",
   "execution_count": null,
   "metadata": {},
   "outputs": [],
   "source": []
  },
  {
   "cell_type": "code",
   "execution_count": null,
   "metadata": {},
   "outputs": [],
   "source": []
  },
  {
   "cell_type": "code",
   "execution_count": null,
   "metadata": {},
   "outputs": [],
   "source": []
  },
  {
   "cell_type": "markdown",
   "metadata": {},
   "source": [
    "# Exercise 2.9"
   ]
  },
  {
   "cell_type": "markdown",
   "metadata": {},
   "source": [
    "Two American National Football League (NFL) teams, **A** and **B**,  with respective `Win-Loss` records 9-6 and 12-3 after 15 weeks, are preparing to face each other in the $16^{th}$ and final game of the regular season."
   ]
  },
  {
   "cell_type": "markdown",
   "metadata": {},
   "source": [
    "(i) From a relative frequency perspective of probability, use the supplied information (and any other assumption you deem necessary) to compute the probability of Team A winning any generic game, and also of Team B winning any generic game."
   ]
  },
  {
   "cell_type": "code",
   "execution_count": null,
   "metadata": {},
   "outputs": [],
   "source": []
  },
  {
   "cell_type": "markdown",
   "metadata": {},
   "source": [
    "When the two teams play each other, upon the presupposition that past record is the best indicator of a team's chances of winning a new game, determine reasonable values for $P(A)$,  the probability that team A wins the game, and $P(B)$, the probability that team B wins, assuming that this game does not end up in a tie.  Note that for this particular case, <br>\n",
    "    $$\n",
    "    P(A) + P(B) = 1\n",
    "    $$"
   ]
  },
  {
   "cell_type": "code",
   "execution_count": null,
   "metadata": {},
   "outputs": [],
   "source": []
  },
  {
   "cell_type": "code",
   "execution_count": null,
   "metadata": {},
   "outputs": [],
   "source": []
  }
 ],
 "metadata": {
  "kernelspec": {
   "display_name": "Python 3",
   "language": "python",
   "name": "python3"
  },
  "language_info": {
   "codemirror_mode": {
    "name": "ipython",
    "version": 3
   },
   "file_extension": ".py",
   "mimetype": "text/x-python",
   "name": "python",
   "nbconvert_exporter": "python",
   "pygments_lexer": "ipython3",
   "version": "3.6.4"
  }
 },
 "nbformat": 4,
 "nbformat_minor": 2
}
