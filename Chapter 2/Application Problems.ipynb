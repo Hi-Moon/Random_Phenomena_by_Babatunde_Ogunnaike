{
 "cells": [
  {
   "cell_type": "code",
   "execution_count": 1,
   "metadata": {},
   "outputs": [],
   "source": [
    "bold = '\\033[1m' \n",
    "end = '\\033[0m'\n",
    "\n",
    "import pandas as pd\n",
    "import numpy as np\n",
    "from matplotlib import pyplot as plt\n",
    "from IPython.display import Image, HTML, display\n",
    "import math"
   ]
  },
  {
   "cell_type": "code",
   "execution_count": null,
   "metadata": {},
   "outputs": [],
   "source": []
  },
  {
   "cell_type": "markdown",
   "metadata": {},
   "source": [
    "# `Application Problems`"
   ]
  },
  {
   "cell_type": "markdown",
   "metadata": {},
   "source": [
    "# Exercise 2.7"
   ]
  },
  {
   "cell_type": "markdown",
   "metadata": {},
   "source": [
    "For each of the following two-reactor configurations:\n",
    "    \n",
    "(a) two plug flow reactors in series where the length of reactor 1 is $l_1$ m, and that of reactor 2 is $l_2$ m, but both have the same uniform cross-sectional area $A\\, m^2$;\n",
    "    \n",
    "(b) two continuous stirred tank reactors with volumes $V_1$ and $V_2$ $m^3$;\n",
    "    \n",
    "(c) the PFR in Fig 2.1 followed by the CSTR in Fig 2.2;\n",
    "    \n",
    "    \n",
    "given that the flow rate through each reactor ensemble is constant at $\\,F$ $m^3/s$, obtain the residence time, $\\theta$, or the residence time distribution, $\\,f(\\theta)$, as appropriate.  Make any assumption you deem appropriate about the concentration $\\,C_1(t)$ and $\\,C_2(t)$ in the first and second reactors, respectively.\n",
    "\n",
    "<table><tr><td><img src='Fig2_1.png' width=500></td><td><img src='Fig2_2.png' width=460></td></tr></table>"
   ]
  },
  {
   "cell_type": "markdown",
   "metadata": {},
   "source": [
    "<hr>\n",
    "### `Solution:`\n",
    "\n",
    "**`(a)`** For a PFR, residence time $\\theta$ is given by: \n",
    "\n",
    "$\\theta = \\frac{lA}{F}$\n",
    "\n",
    "where,\n",
    "\n",
    "$l$ = total length of Reactor, \n",
    "\n",
    "$A$ = Uniform cross-sectional area and \n",
    "\n",
    "$F$ = Flow Rate.\n",
    "\n",
    "If two PFRs having same $A$ and $F$ are used in series, we have: \n",
    "\n",
    "$l = l_1 + l_2 \\implies \\theta = \\frac{(l_1 + l_2)A}{F}$\n",
    "\n",
    "<hr>\n",
    "\n",
    "**`(b)`** For CSTR the residence-time distribution, $f(\\theta)$, is given by: \n",
    "\n",
    "$f(\\theta) = \\frac{1}{\\tau} e^{-\\theta/\\tau}$\n",
    "\n",
    "where,\n",
    "\n",
    "$\\tau = \\frac{V}{F}$\n",
    "\n",
    "$V$ = Volume of reactor\n",
    "\n",
    "$F$ = Flow Rate\n",
    "\n",
    "If two CSTRs having volumes $V_1$ and $V_2$ are used, we have: \n",
    "\n",
    "$V = V_1 + V_2 \\implies \\tau' = \\frac{(V_1 + V_2)}{F}$\n",
    "\n",
    "Thus, $\\,f(\\theta)$ is given by: \n",
    "\n",
    "$f(\\theta) = \\frac{1}{\\tau'} e^{-\\theta/\\tau'}$\n",
    "\n",
    "and mean residence time = $\\tau'$\n",
    "\n",
    "<hr>\n",
    "\n",
    "**`(c)`** In case of a PFR followed by a CSTR, mean residence time is given by the sum of mean residence time of PFR and CSTR, i.e.\n",
    "\n",
    "$\\theta = \\frac{lA}{F} + \\tau$"
   ]
  },
  {
   "cell_type": "code",
   "execution_count": null,
   "metadata": {},
   "outputs": [],
   "source": []
  },
  {
   "cell_type": "code",
   "execution_count": null,
   "metadata": {},
   "outputs": [],
   "source": []
  },
  {
   "cell_type": "markdown",
   "metadata": {},
   "source": [
    "# Exercise 2.8"
   ]
  },
  {
   "cell_type": "markdown",
   "metadata": {},
   "source": [
    "In the summer of 1943 during World War II, a total of 365 warships were attacked by Kamikaze pilots: 180 took evasive action and 60 of these were hit; the remaining  185 counterattacked, of which 62 were hit. Using a relative frequency interpretation and invoking any other assumption you deem necessary, determine the probability that any attacked warship will be hit regardless of tactical response. Also determine the probability that a warship taking evasive action will be hit and the probability that a counterattacking warship will be hit.  Compare these three probabilities and discuss what this implies regarding choosing an appropriate tactical response. (A full discussion of this problem is contained in Chapter 7.)"
   ]
  },
  {
   "cell_type": "code",
   "execution_count": 2,
   "metadata": {},
   "outputs": [
    {
     "name": "stdout",
     "output_type": "stream",
     "text": [
      "The probability that any attacked warship will be hit regardless of tactical response is: 0.33424657534246577\n",
      "The probability that a warship taking evasive action will be hit is: 0.3333333333333333\n",
      "The probability that any attacked warship will be hit regardless of tactical response is: 0.3351351351351351\n"
     ]
    }
   ],
   "source": [
    "warships_total = 365\n",
    "evasive_total = 180\n",
    "evasive_hit = 60\n",
    "cattack_total = 185\n",
    "cattack_hit = 62\n",
    "\n",
    "total_hit = evasive_hit + cattack_hit\n",
    "\n",
    "print(\"The probability that any attacked warship will be hit regardless of tactical response is: {}\".format(\n",
    "    total_hit/warships_total\n",
    "))\n",
    "\n",
    "# The probability that a warship taking evasive action will be hit is given by the conditional probability:\n",
    "# P(Hit|Evasive) = P(Hit and Evasion)/P(Evasion)\n",
    "print(\"The probability that a warship taking evasive action will be hit is: {}\".format(\n",
    "    (evasive_hit/warships_total)/(evasive_total/warships_total)\n",
    "))\n",
    "\n",
    "# The probability that a warship taking evasive action will be hit is given by the conditional probability:\n",
    "# P(Hit|CounterAttack) = P(Hit and CounterAttack)/P(CounterAttack)\n",
    "print(\"The probability that any attacked warship will be hit regardless of tactical response is: {}\".format(\n",
    "    (cattack_hit/warships_total)/(cattack_total/warships_total)\n",
    "))"
   ]
  },
  {
   "cell_type": "markdown",
   "metadata": {},
   "source": [
    "#### `Observations:`\n",
    " A weak indiaction about choosing evasive tactic is indicated through the results. The three probabilities though are almost equal and does not strongly support choosing any tactic over the other."
   ]
  },
  {
   "cell_type": "code",
   "execution_count": null,
   "metadata": {},
   "outputs": [],
   "source": []
  },
  {
   "cell_type": "code",
   "execution_count": null,
   "metadata": {},
   "outputs": [],
   "source": []
  },
  {
   "cell_type": "markdown",
   "metadata": {},
   "source": [
    "# Exercise 2.9"
   ]
  },
  {
   "cell_type": "markdown",
   "metadata": {},
   "source": [
    "Two American National Football League (NFL) teams, **A** and **B**,  with respective `Win-Loss` records 9-6 and 12-3 after 15 weeks, are preparing to face each other in the $16^{th}$ and final game of the regular season."
   ]
  },
  {
   "cell_type": "markdown",
   "metadata": {},
   "source": [
    "(i) From a relative frequency perspective of probability, use the supplied information (and any other assumption you deem necessary) to compute the probability of Team A winning any generic game, and also of Team B winning any generic game."
   ]
  },
  {
   "cell_type": "code",
   "execution_count": 3,
   "metadata": {},
   "outputs": [
    {
     "name": "stdout",
     "output_type": "stream",
     "text": [
      "Generic probability of Team A's win is: 0.6\n",
      "Generic probability of Team B's win is: 0.8\n"
     ]
    }
   ],
   "source": [
    "total_games = 15\n",
    "won_a = 9\n",
    "won_b = 12\n",
    "\n",
    "print(\"Generic probability of Team A's win is:\", won_a/total_games)\n",
    "print(\"Generic probability of Team B's win is:\", won_b/total_games)"
   ]
  },
  {
   "cell_type": "markdown",
   "metadata": {},
   "source": [
    "(ii) When the two teams play each other, upon the presupposition that past record is the best indicator of a team's chances of winning a new game, determine reasonable values for $P(A)$,  the probability that team A wins the game, and $P(B)$, the probability that team B wins, assuming that this game does not end up in a tie.  Note that for this particular case, <br>\n",
    "    $$\n",
    "    P(A) + P(B) = 1\n",
    "    $$"
   ]
  },
  {
   "cell_type": "code",
   "execution_count": 4,
   "metadata": {},
   "outputs": [
    {
     "name": "stdout",
     "output_type": "stream",
     "text": [
      "P(A) =  0.42857142857142855\n",
      "P(B) =  0.5714285714285714\n",
      "Total =  1.0\n"
     ]
    }
   ],
   "source": [
    "total_games_ab = won_a + won_b\n",
    "pa = won_a/total_games_ab\n",
    "pb = won_b/total_games_ab\n",
    "\n",
    "print(\"P(A) = \", pa)\n",
    "print(\"P(B) = \", pb)\n",
    "print(\"Total = \", pa+pb)"
   ]
  },
  {
   "cell_type": "code",
   "execution_count": null,
   "metadata": {},
   "outputs": [],
   "source": []
  },
  {
   "cell_type": "code",
   "execution_count": null,
   "metadata": {},
   "outputs": [],
   "source": []
  }
 ],
 "metadata": {
  "kernelspec": {
   "display_name": "Python 3",
   "language": "python",
   "name": "python3"
  },
  "language_info": {
   "codemirror_mode": {
    "name": "ipython",
    "version": 3
   },
   "file_extension": ".py",
   "mimetype": "text/x-python",
   "name": "python",
   "nbconvert_exporter": "python",
   "pygments_lexer": "ipython3",
   "version": "3.6.4"
  }
 },
 "nbformat": 4,
 "nbformat_minor": 2
}
